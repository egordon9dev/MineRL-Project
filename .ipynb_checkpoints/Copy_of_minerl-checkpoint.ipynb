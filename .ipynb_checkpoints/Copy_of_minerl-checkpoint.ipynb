{
 "cells": [
  {
   "cell_type": "markdown",
   "metadata": {
    "id": "NfSKVRw-H9lr"
   },
   "source": [
    "## Install Minerl"
   ]
  },
  {
   "cell_type": "code",
   "execution_count": null,
   "metadata": {
    "colab": {
     "base_uri": "https://localhost:8080/",
     "height": 1000
    },
    "id": "i0oGAxwRAMf6",
    "outputId": "ae51158c-fd90-40d8-bf33-0504cf295ab6"
   },
   "outputs": [
    {
     "name": "stdout",
     "output_type": "stream",
     "text": [
      "Collecting minerl\n",
      "\u001b[?25l  Downloading https://files.pythonhosted.org/packages/ca/a2/3fab937b6019a19470bd2864cf20ce9f9a3a5d54fb7894a4b96cd54db039/minerl-0.3.6.tar.gz (36.3MB)\n",
      "\u001b[K     |████████████████████████████████| 36.3MB 83kB/s \n",
      "\u001b[?25hRequirement already satisfied, skipping upgrade: gym>=0.13.1 in /usr/local/lib/python3.6/dist-packages (from minerl) (0.17.3)\n",
      "Requirement already satisfied, skipping upgrade: opencv-python>=4.1.0.25 in /usr/local/lib/python3.6/dist-packages (from minerl) (4.1.2.30)\n",
      "Requirement already satisfied, skipping upgrade: setuptools>=40.6.2 in /usr/local/lib/python3.6/dist-packages (from minerl) (50.3.2)\n",
      "Requirement already satisfied, skipping upgrade: tqdm>=4.32.2 in /usr/local/lib/python3.6/dist-packages (from minerl) (4.41.1)\n",
      "Requirement already satisfied, skipping upgrade: numpy>=1.16.2 in /usr/local/lib/python3.6/dist-packages (from minerl) (1.18.5)\n",
      "Requirement already satisfied, skipping upgrade: requests>=2.20.0 in /usr/local/lib/python3.6/dist-packages (from minerl) (2.23.0)\n",
      "Collecting ipython>=7.5.0\n",
      "\u001b[?25l  Downloading https://files.pythonhosted.org/packages/23/6a/210816c943c9aeeb29e4e18a298f14bf0e118fe222a23e13bfcc2d41b0a4/ipython-7.16.1-py3-none-any.whl (785kB)\n",
      "\u001b[K     |████████████████████████████████| 788kB 34.4MB/s \n",
      "\u001b[?25hCollecting typing>=3.6.6\n",
      "\u001b[?25l  Downloading https://files.pythonhosted.org/packages/05/d9/6eebe19d46bd05360c9a9aae822e67a80f9242aabbfc58b641b957546607/typing-3.7.4.3.tar.gz (78kB)\n",
      "\u001b[K     |████████████████████████████████| 81kB 8.6MB/s \n",
      "\u001b[?25hCollecting lxml>=4.3.3\n",
      "\u001b[?25l  Downloading https://files.pythonhosted.org/packages/64/28/0b761b64ecbd63d272ed0e7a6ae6e4402fc37886b59181bfdf274424d693/lxml-4.6.1-cp36-cp36m-manylinux1_x86_64.whl (5.5MB)\n",
      "\u001b[K     |████████████████████████████████| 5.5MB 38.1MB/s \n",
      "\u001b[?25hCollecting psutil>=5.6.2\n",
      "\u001b[?25l  Downloading https://files.pythonhosted.org/packages/33/e0/82d459af36bda999f82c7ea86c67610591cf5556168f48fd6509e5fa154d/psutil-5.7.3.tar.gz (465kB)\n",
      "\u001b[K     |████████████████████████████████| 471kB 42.7MB/s \n",
      "\u001b[?25hCollecting Pyro4>=4.76\n",
      "\u001b[?25l  Downloading https://files.pythonhosted.org/packages/c3/3c/422f6f761076c5679215178a00eca9a68aacfbbc88152c85b15928b60e25/Pyro4-4.80-py2.py3-none-any.whl (89kB)\n",
      "\u001b[K     |████████████████████████████████| 92kB 12.6MB/s \n",
      "\u001b[?25hCollecting coloredlogs>=10.0\n",
      "\u001b[?25l  Downloading https://files.pythonhosted.org/packages/5c/2f/12747be360d6dea432e7b5dfae3419132cb008535cfe614af73b9ce2643b/coloredlogs-14.0-py2.py3-none-any.whl (43kB)\n",
      "\u001b[K     |████████████████████████████████| 51kB 8.5MB/s \n",
      "\u001b[?25hCollecting matplotlib==3.0.3\n",
      "\u001b[?25l  Downloading https://files.pythonhosted.org/packages/e9/69/f5e05f578585ed9935247be3788b374f90701296a70c8871bcd6d21edb00/matplotlib-3.0.3-cp36-cp36m-manylinux1_x86_64.whl (13.0MB)\n",
      "\u001b[K     |████████████████████████████████| 13.0MB 243kB/s \n",
      "\u001b[?25hRequirement already satisfied, skipping upgrade: dill>=0.3.1.1 in /usr/local/lib/python3.6/dist-packages (from minerl) (0.3.3)\n",
      "Collecting getch>=1.0\n",
      "  Downloading https://files.pythonhosted.org/packages/cc/a4/c696c05e0ff9d05b1886cb0210101083db7d330ff964a6d7cd98ad2b2064/getch-1.0.tar.gz\n",
      "Requirement already satisfied, skipping upgrade: cloudpickle<1.7.0,>=1.2.0 in /usr/local/lib/python3.6/dist-packages (from gym>=0.13.1->minerl) (1.3.0)\n",
      "Requirement already satisfied, skipping upgrade: scipy in /usr/local/lib/python3.6/dist-packages (from gym>=0.13.1->minerl) (1.4.1)\n",
      "Requirement already satisfied, skipping upgrade: pyglet<=1.5.0,>=1.4.0 in /usr/local/lib/python3.6/dist-packages (from gym>=0.13.1->minerl) (1.5.0)\n",
      "Requirement already satisfied, skipping upgrade: urllib3!=1.25.0,!=1.25.1,<1.26,>=1.21.1 in /usr/local/lib/python3.6/dist-packages (from requests>=2.20.0->minerl) (1.24.3)\n",
      "Requirement already satisfied, skipping upgrade: chardet<4,>=3.0.2 in /usr/local/lib/python3.6/dist-packages (from requests>=2.20.0->minerl) (3.0.4)\n",
      "Requirement already satisfied, skipping upgrade: idna<3,>=2.5 in /usr/local/lib/python3.6/dist-packages (from requests>=2.20.0->minerl) (2.10)\n",
      "Requirement already satisfied, skipping upgrade: certifi>=2017.4.17 in /usr/local/lib/python3.6/dist-packages (from requests>=2.20.0->minerl) (2020.6.20)\n",
      "Requirement already satisfied, skipping upgrade: pickleshare in /usr/local/lib/python3.6/dist-packages (from ipython>=7.5.0->minerl) (0.7.5)\n",
      "Requirement already satisfied, skipping upgrade: pexpect; sys_platform != \"win32\" in /usr/local/lib/python3.6/dist-packages (from ipython>=7.5.0->minerl) (4.8.0)\n",
      "Collecting prompt-toolkit!=3.0.0,!=3.0.1,<3.1.0,>=2.0.0\n",
      "\u001b[?25l  Downloading https://files.pythonhosted.org/packages/8a/aa/198e6a857e83ea8b711a6ae0c37717c0eb1b23ff52e3732a644fcd389cb3/prompt_toolkit-3.0.8-py3-none-any.whl (355kB)\n",
      "\u001b[K     |████████████████████████████████| 358kB 47.3MB/s \n",
      "\u001b[?25hRequirement already satisfied, skipping upgrade: traitlets>=4.2 in /usr/local/lib/python3.6/dist-packages (from ipython>=7.5.0->minerl) (4.3.3)\n",
      "Requirement already satisfied, skipping upgrade: jedi>=0.10 in /usr/local/lib/python3.6/dist-packages (from ipython>=7.5.0->minerl) (0.17.2)\n",
      "Requirement already satisfied, skipping upgrade: pygments in /usr/local/lib/python3.6/dist-packages (from ipython>=7.5.0->minerl) (2.6.1)\n",
      "Requirement already satisfied, skipping upgrade: decorator in /usr/local/lib/python3.6/dist-packages (from ipython>=7.5.0->minerl) (4.4.2)\n",
      "Requirement already satisfied, skipping upgrade: backcall in /usr/local/lib/python3.6/dist-packages (from ipython>=7.5.0->minerl) (0.2.0)\n",
      "Collecting serpent>=1.27; python_version >= \"3.2\"\n",
      "  Downloading https://files.pythonhosted.org/packages/b4/a1/24871492bfc34ea18aee3bf38e0cee22d8c11d8d5e765ccc921103140747/serpent-1.30.2-py3-none-any.whl\n",
      "Collecting humanfriendly>=7.1\n",
      "\u001b[?25l  Downloading https://files.pythonhosted.org/packages/8e/2d/2f1b0a780b8c948c06c74c8c80e68ac354da52397ba432a1c5ac1923c3af/humanfriendly-8.2-py2.py3-none-any.whl (86kB)\n",
      "\u001b[K     |████████████████████████████████| 92kB 12.2MB/s \n",
      "\u001b[?25hRequirement already satisfied, skipping upgrade: pyparsing!=2.0.4,!=2.1.2,!=2.1.6,>=2.0.1 in /usr/local/lib/python3.6/dist-packages (from matplotlib==3.0.3->minerl) (2.4.7)\n",
      "Requirement already satisfied, skipping upgrade: kiwisolver>=1.0.1 in /usr/local/lib/python3.6/dist-packages (from matplotlib==3.0.3->minerl) (1.3.1)\n",
      "Requirement already satisfied, skipping upgrade: cycler>=0.10 in /usr/local/lib/python3.6/dist-packages (from matplotlib==3.0.3->minerl) (0.10.0)\n",
      "Requirement already satisfied, skipping upgrade: python-dateutil>=2.1 in /usr/local/lib/python3.6/dist-packages (from matplotlib==3.0.3->minerl) (2.8.1)\n",
      "Requirement already satisfied, skipping upgrade: future in /usr/local/lib/python3.6/dist-packages (from pyglet<=1.5.0,>=1.4.0->gym>=0.13.1->minerl) (0.16.0)\n",
      "Requirement already satisfied, skipping upgrade: ptyprocess>=0.5 in /usr/local/lib/python3.6/dist-packages (from pexpect; sys_platform != \"win32\"->ipython>=7.5.0->minerl) (0.6.0)\n",
      "Requirement already satisfied, skipping upgrade: wcwidth in /usr/local/lib/python3.6/dist-packages (from prompt-toolkit!=3.0.0,!=3.0.1,<3.1.0,>=2.0.0->ipython>=7.5.0->minerl) (0.2.5)\n",
      "Requirement already satisfied, skipping upgrade: six in /usr/local/lib/python3.6/dist-packages (from traitlets>=4.2->ipython>=7.5.0->minerl) (1.15.0)\n",
      "Requirement already satisfied, skipping upgrade: ipython-genutils in /usr/local/lib/python3.6/dist-packages (from traitlets>=4.2->ipython>=7.5.0->minerl) (0.2.0)\n",
      "Requirement already satisfied, skipping upgrade: parso<0.8.0,>=0.7.0 in /usr/local/lib/python3.6/dist-packages (from jedi>=0.10->ipython>=7.5.0->minerl) (0.7.1)\n",
      "Building wheels for collected packages: minerl, typing, psutil, getch\n",
      "  Building wheel for minerl (setup.py) ... \u001b[?25l\u001b[?25hdone\n",
      "  Created wheel for minerl: filename=minerl-0.3.6-cp36-none-any.whl size=72040787 sha256=2b2666c2d9d58eb07d660f329e1042407694396f3c9cdefe74921a4ff6839ea8\n",
      "  Stored in directory: /root/.cache/pip/wheels/8e/dc/c9/a7f3c17ccc05df396620a9e6921936d3bd35df1f25466c9fd7\n",
      "  Building wheel for typing (setup.py) ... \u001b[?25l\u001b[?25hdone\n",
      "  Created wheel for typing: filename=typing-3.7.4.3-cp36-none-any.whl size=26307 sha256=9a39819eaa45917f31c6c7c4e23b63053a1b4847e09fe75d844319d2f960cccd\n",
      "  Stored in directory: /root/.cache/pip/wheels/2d/04/41/8e1836e79581989c22eebac3f4e70aaac9af07b0908da173be\n",
      "  Building wheel for psutil (setup.py) ... \u001b[?25l\u001b[?25hdone\n",
      "  Created wheel for psutil: filename=psutil-5.7.3-cp36-cp36m-linux_x86_64.whl size=281528 sha256=e9ebeef42a25bd06c79e5a100616f9bf5bc3df148c260744db259dff0a88f68a\n",
      "  Stored in directory: /root/.cache/pip/wheels/42/32/da/8b12fd6b138c733efd03cfde6c6c8191a32842f9e82aa45fbf\n",
      "  Building wheel for getch (setup.py) ... \u001b[?25l\u001b[?25hdone\n",
      "  Created wheel for getch: filename=getch-1.0-cp36-cp36m-linux_x86_64.whl size=14215 sha256=153097602af7431503313486e094c5dfed97c0831b76902c24398d6e9c75fe56\n",
      "  Stored in directory: /root/.cache/pip/wheels/82/9d/22/6d295c77d3b78954fe41dd47464e605e8b82802071005169c5\n",
      "Successfully built minerl typing psutil getch\n",
      "\u001b[31mERROR: plotnine 0.6.0 has requirement matplotlib>=3.1.1, but you'll have matplotlib 3.0.3 which is incompatible.\u001b[0m\n",
      "\u001b[31mERROR: mizani 0.6.0 has requirement matplotlib>=3.1.1, but you'll have matplotlib 3.0.3 which is incompatible.\u001b[0m\n",
      "\u001b[31mERROR: jupyter-console 5.2.0 has requirement prompt-toolkit<2.0.0,>=1.0.0, but you'll have prompt-toolkit 3.0.8 which is incompatible.\u001b[0m\n",
      "\u001b[31mERROR: google-colab 1.0.0 has requirement ipython~=5.5.0, but you'll have ipython 7.16.1 which is incompatible.\u001b[0m\n",
      "\u001b[31mERROR: albumentations 0.1.12 has requirement imgaug<0.2.7,>=0.2.5, but you'll have imgaug 0.2.9 which is incompatible.\u001b[0m\n",
      "Installing collected packages: prompt-toolkit, ipython, typing, lxml, psutil, serpent, Pyro4, humanfriendly, coloredlogs, matplotlib, getch, minerl\n",
      "  Found existing installation: prompt-toolkit 1.0.18\n",
      "    Uninstalling prompt-toolkit-1.0.18:\n",
      "      Successfully uninstalled prompt-toolkit-1.0.18\n",
      "  Found existing installation: ipython 5.5.0\n",
      "    Uninstalling ipython-5.5.0:\n",
      "      Successfully uninstalled ipython-5.5.0\n",
      "  Found existing installation: lxml 4.2.6\n",
      "    Uninstalling lxml-4.2.6:\n",
      "      Successfully uninstalled lxml-4.2.6\n",
      "  Found existing installation: psutil 5.4.8\n",
      "    Uninstalling psutil-5.4.8:\n",
      "      Successfully uninstalled psutil-5.4.8\n",
      "  Found existing installation: matplotlib 3.2.2\n",
      "    Uninstalling matplotlib-3.2.2:\n",
      "      Successfully uninstalled matplotlib-3.2.2\n",
      "Successfully installed Pyro4-4.80 coloredlogs-14.0 getch-1.0 humanfriendly-8.2 ipython-7.16.1 lxml-4.6.1 matplotlib-3.0.3 minerl-0.3.6 prompt-toolkit-3.0.8 psutil-5.7.3 serpent-1.30.2 typing-3.7.4.3\n"
     ]
    },
    {
     "data": {
      "application/vnd.colab-display-data+json": {
       "pip_warning": {
        "packages": [
         "IPython",
         "matplotlib",
         "mpl_toolkits",
         "prompt_toolkit",
         "typing"
        ]
       }
      }
     },
     "metadata": {
      "tags": []
     },
     "output_type": "display_data"
    }
   ],
   "source": [
    "!pip3 install --upgrade minerl"
   ]
  },
  {
   "cell_type": "markdown",
   "metadata": {
    "id": "r-3XRw12IHmN"
   },
   "source": [
    "## Install Java"
   ]
  },
  {
   "cell_type": "code",
   "execution_count": null,
   "metadata": {
    "id": "pIR0y6JXIHHr"
   },
   "outputs": [],
   "source": [
    "import os       #importing os to set environment variable\n",
    "def install_java():\n",
    "    !sudo add-apt-repository ppa:openjdk-r/ppa\n",
    "    !sudo apt-get update\n",
    "    !sudo apt-get install openjdk-8-jdk\n",
    "    os.environ[\"JAVA_HOME\"] = \"/usr/lib/jvm/java-8-openjdk-amd64\"     #set environment variable\n",
    "    !java -version       #check java version"
   ]
  },
  {
   "cell_type": "code",
   "execution_count": null,
   "metadata": {
    "colab": {
     "base_uri": "https://localhost:8080/"
    },
    "id": "uOGZICWoIRBW",
    "outputId": "919f4b40-df92-4942-e46c-ea9abe13d735"
   },
   "outputs": [
    {
     "name": "stdout",
     "output_type": "stream",
     "text": [
      " \n",
      " More info: https://launchpad.net/~openjdk-r/+archive/ubuntu/ppa\n",
      "Press [ENTER] to continue or Ctrl-c to cancel adding it.\n",
      "\n",
      "Get:1 https://cloud.r-project.org/bin/linux/ubuntu bionic-cran40/ InRelease [3,626 B]\n",
      "Ign:2 https://developer.download.nvidia.com/compute/cuda/repos/ubuntu1804/x86_64  InRelease\n",
      "Get:3 http://ppa.launchpad.net/c2d4u.team/c2d4u4.0+/ubuntu bionic InRelease [15.9 kB]\n",
      "Get:4 http://security.ubuntu.com/ubuntu bionic-security InRelease [88.7 kB]\n",
      "Hit:5 http://archive.ubuntu.com/ubuntu bionic InRelease\n",
      "Ign:6 https://developer.download.nvidia.com/compute/machine-learning/repos/ubuntu1804/x86_64  InRelease\n",
      "Get:7 https://developer.download.nvidia.com/compute/cuda/repos/ubuntu1804/x86_64  Release [697 B]\n",
      "Get:8 https://developer.download.nvidia.com/compute/machine-learning/repos/ubuntu1804/x86_64  Release [564 B]\n",
      "Get:9 https://developer.download.nvidia.com/compute/cuda/repos/ubuntu1804/x86_64  Release.gpg [836 B]\n",
      "Get:10 https://developer.download.nvidia.com/compute/machine-learning/repos/ubuntu1804/x86_64  Release.gpg [833 B]\n",
      "Get:11 http://archive.ubuntu.com/ubuntu bionic-updates InRelease [88.7 kB]\n",
      "Get:12 http://ppa.launchpad.net/graphics-drivers/ppa/ubuntu bionic InRelease [21.3 kB]\n",
      "Ign:13 https://developer.download.nvidia.com/compute/cuda/repos/ubuntu1804/x86_64  Packages\n",
      "Get:13 https://developer.download.nvidia.com/compute/cuda/repos/ubuntu1804/x86_64  Packages [407 kB]\n",
      "Get:14 http://archive.ubuntu.com/ubuntu bionic-backports InRelease [74.6 kB]\n",
      "Get:15 https://developer.download.nvidia.com/compute/machine-learning/repos/ubuntu1804/x86_64  Packages [58.5 kB]\n",
      "Get:16 http://ppa.launchpad.net/openjdk-r/ppa/ubuntu bionic InRelease [15.4 kB]\n",
      "Get:17 http://security.ubuntu.com/ubuntu bionic-security/restricted amd64 Packages [222 kB]\n",
      "Get:18 http://archive.ubuntu.com/ubuntu bionic-updates/main amd64 Packages [2,198 kB]\n",
      "Get:19 http://ppa.launchpad.net/c2d4u.team/c2d4u4.0+/ubuntu bionic/main Sources [1,688 kB]\n",
      "Get:20 http://security.ubuntu.com/ubuntu bionic-security/multiverse amd64 Packages [15.8 kB]\n",
      "Get:21 http://security.ubuntu.com/ubuntu bionic-security/main amd64 Packages [1,781 kB]\n",
      "Get:22 http://security.ubuntu.com/ubuntu bionic-security/universe amd64 Packages [1,365 kB]\n",
      "Get:23 http://archive.ubuntu.com/ubuntu bionic-updates/multiverse amd64 Packages [46.3 kB]\n",
      "Get:24 http://archive.ubuntu.com/ubuntu bionic-updates/universe amd64 Packages [2,129 kB]\n",
      "Get:25 http://archive.ubuntu.com/ubuntu bionic-updates/restricted amd64 Packages [247 kB]\n",
      "Get:26 http://ppa.launchpad.net/c2d4u.team/c2d4u4.0+/ubuntu bionic/main amd64 Packages [864 kB]\n",
      "Get:27 http://ppa.launchpad.net/graphics-drivers/ppa/ubuntu bionic/main amd64 Packages [46.6 kB]\n",
      "Get:28 http://ppa.launchpad.net/openjdk-r/ppa/ubuntu bionic/main amd64 Packages [10.6 kB]\n",
      "Fetched 11.4 MB in 2s (4,661 kB/s)\n",
      "Reading package lists... Done\n",
      "Hit:1 https://cloud.r-project.org/bin/linux/ubuntu bionic-cran40/ InRelease\n",
      "Ign:2 https://developer.download.nvidia.com/compute/cuda/repos/ubuntu1804/x86_64  InRelease\n",
      "Hit:3 http://security.ubuntu.com/ubuntu bionic-security InRelease\n",
      "Hit:4 http://archive.ubuntu.com/ubuntu bionic InRelease\n",
      "Hit:5 http://ppa.launchpad.net/c2d4u.team/c2d4u4.0+/ubuntu bionic InRelease\n",
      "Ign:6 https://developer.download.nvidia.com/compute/machine-learning/repos/ubuntu1804/x86_64  InRelease\n",
      "Hit:7 https://developer.download.nvidia.com/compute/cuda/repos/ubuntu1804/x86_64  Release\n",
      "Hit:8 https://developer.download.nvidia.com/compute/machine-learning/repos/ubuntu1804/x86_64  Release\n",
      "Hit:9 http://archive.ubuntu.com/ubuntu bionic-updates InRelease\n",
      "Hit:10 http://archive.ubuntu.com/ubuntu bionic-backports InRelease\n",
      "Hit:11 http://ppa.launchpad.net/graphics-drivers/ppa/ubuntu bionic InRelease\n",
      "Hit:13 http://ppa.launchpad.net/openjdk-r/ppa/ubuntu bionic InRelease\n",
      "Reading package lists... Done\n",
      "Reading package lists... Done\n",
      "Building dependency tree       \n",
      "Reading state information... Done\n",
      "The following additional packages will be installed:\n",
      "  fonts-dejavu-core fonts-dejavu-extra libatk-wrapper-java\n",
      "  libatk-wrapper-java-jni libgail-common libgail18 libgtk2.0-0 libgtk2.0-bin\n",
      "  libgtk2.0-common libxxf86dga1 openjdk-8-jdk-headless openjdk-8-jre\n",
      "  openjdk-8-jre-headless x11-utils\n",
      "Suggested packages:\n",
      "  gvfs openjdk-8-demo openjdk-8-source visualvm icedtea-8-plugin libnss-mdns\n",
      "  fonts-ipafont-gothic fonts-ipafont-mincho fonts-wqy-microhei\n",
      "  fonts-wqy-zenhei fonts-indic mesa-utils\n",
      "The following NEW packages will be installed:\n",
      "  fonts-dejavu-core fonts-dejavu-extra libatk-wrapper-java\n",
      "  libatk-wrapper-java-jni libgail-common libgail18 libgtk2.0-0 libgtk2.0-bin\n",
      "  libgtk2.0-common libxxf86dga1 openjdk-8-jdk openjdk-8-jdk-headless\n",
      "  openjdk-8-jre openjdk-8-jre-headless x11-utils\n",
      "0 upgraded, 15 newly installed, 0 to remove and 40 not upgraded.\n",
      "Need to get 43.4 MB of archives.\n",
      "After this operation, 163 MB of additional disk space will be used.\n",
      "Get:1 http://archive.ubuntu.com/ubuntu bionic/main amd64 libxxf86dga1 amd64 2:1.1.4-1 [13.7 kB]\n",
      "Get:2 http://archive.ubuntu.com/ubuntu bionic/main amd64 fonts-dejavu-core all 2.37-1 [1,041 kB]\n",
      "Get:3 http://archive.ubuntu.com/ubuntu bionic/main amd64 fonts-dejavu-extra all 2.37-1 [1,953 kB]\n",
      "Get:4 http://archive.ubuntu.com/ubuntu bionic/main amd64 x11-utils amd64 7.7+3build1 [196 kB]\n",
      "Get:5 http://archive.ubuntu.com/ubuntu bionic/main amd64 libatk-wrapper-java all 0.33.3-20ubuntu0.1 [34.7 kB]\n",
      "Get:6 http://archive.ubuntu.com/ubuntu bionic/main amd64 libatk-wrapper-java-jni amd64 0.33.3-20ubuntu0.1 [28.3 kB]\n",
      "Get:7 http://archive.ubuntu.com/ubuntu bionic/main amd64 libgtk2.0-common all 2.24.32-1ubuntu1 [125 kB]\n",
      "Get:8 http://archive.ubuntu.com/ubuntu bionic/main amd64 libgtk2.0-0 amd64 2.24.32-1ubuntu1 [1,769 kB]\n",
      "Get:9 http://archive.ubuntu.com/ubuntu bionic/main amd64 libgail18 amd64 2.24.32-1ubuntu1 [14.2 kB]\n",
      "Get:10 http://archive.ubuntu.com/ubuntu bionic/main amd64 libgail-common amd64 2.24.32-1ubuntu1 [112 kB]\n",
      "Get:11 http://archive.ubuntu.com/ubuntu bionic/main amd64 libgtk2.0-bin amd64 2.24.32-1ubuntu1 [7,536 B]\n",
      "Get:12 http://archive.ubuntu.com/ubuntu bionic-updates/universe amd64 openjdk-8-jre-headless amd64 8u275-b01-0ubuntu1~18.04 [28.2 MB]\n",
      "Get:13 http://archive.ubuntu.com/ubuntu bionic-updates/universe amd64 openjdk-8-jre amd64 8u275-b01-0ubuntu1~18.04 [69.7 kB]\n",
      "Get:14 http://archive.ubuntu.com/ubuntu bionic-updates/universe amd64 openjdk-8-jdk-headless amd64 8u275-b01-0ubuntu1~18.04 [8,269 kB]\n",
      "Get:15 http://archive.ubuntu.com/ubuntu bionic-updates/universe amd64 openjdk-8-jdk amd64 8u275-b01-0ubuntu1~18.04 [1,600 kB]\n",
      "Fetched 43.4 MB in 2s (23.7 MB/s)\n",
      "debconf: unable to initialize frontend: Dialog\n",
      "debconf: (No usable dialog-like program is installed, so the dialog based frontend cannot be used. at /usr/share/perl5/Debconf/FrontEnd/Dialog.pm line 76, <> line 15.)\n",
      "debconf: falling back to frontend: Readline\n",
      "debconf: unable to initialize frontend: Readline\n",
      "debconf: (This frontend requires a controlling tty.)\n",
      "debconf: falling back to frontend: Teletype\n",
      "dpkg-preconfigure: unable to re-open stdin: \n",
      "Selecting previously unselected package libxxf86dga1:amd64.\n",
      "(Reading database ... 144786 files and directories currently installed.)\n",
      "Preparing to unpack .../00-libxxf86dga1_2%3a1.1.4-1_amd64.deb ...\n",
      "Unpacking libxxf86dga1:amd64 (2:1.1.4-1) ...\n",
      "Selecting previously unselected package fonts-dejavu-core.\n",
      "Preparing to unpack .../01-fonts-dejavu-core_2.37-1_all.deb ...\n",
      "Unpacking fonts-dejavu-core (2.37-1) ...\n",
      "Selecting previously unselected package fonts-dejavu-extra.\n",
      "Preparing to unpack .../02-fonts-dejavu-extra_2.37-1_all.deb ...\n",
      "Unpacking fonts-dejavu-extra (2.37-1) ...\n",
      "Selecting previously unselected package x11-utils.\n",
      "Preparing to unpack .../03-x11-utils_7.7+3build1_amd64.deb ...\n",
      "Unpacking x11-utils (7.7+3build1) ...\n",
      "Selecting previously unselected package libatk-wrapper-java.\n",
      "Preparing to unpack .../04-libatk-wrapper-java_0.33.3-20ubuntu0.1_all.deb ...\n",
      "Unpacking libatk-wrapper-java (0.33.3-20ubuntu0.1) ...\n",
      "Selecting previously unselected package libatk-wrapper-java-jni:amd64.\n",
      "Preparing to unpack .../05-libatk-wrapper-java-jni_0.33.3-20ubuntu0.1_amd64.deb ...\n",
      "Unpacking libatk-wrapper-java-jni:amd64 (0.33.3-20ubuntu0.1) ...\n",
      "Selecting previously unselected package libgtk2.0-common.\n",
      "Preparing to unpack .../06-libgtk2.0-common_2.24.32-1ubuntu1_all.deb ...\n",
      "Unpacking libgtk2.0-common (2.24.32-1ubuntu1) ...\n",
      "Selecting previously unselected package libgtk2.0-0:amd64.\n",
      "Preparing to unpack .../07-libgtk2.0-0_2.24.32-1ubuntu1_amd64.deb ...\n",
      "Unpacking libgtk2.0-0:amd64 (2.24.32-1ubuntu1) ...\n",
      "Selecting previously unselected package libgail18:amd64.\n",
      "Preparing to unpack .../08-libgail18_2.24.32-1ubuntu1_amd64.deb ...\n",
      "Unpacking libgail18:amd64 (2.24.32-1ubuntu1) ...\n",
      "Selecting previously unselected package libgail-common:amd64.\n",
      "Preparing to unpack .../09-libgail-common_2.24.32-1ubuntu1_amd64.deb ...\n",
      "Unpacking libgail-common:amd64 (2.24.32-1ubuntu1) ...\n",
      "Selecting previously unselected package libgtk2.0-bin.\n",
      "Preparing to unpack .../10-libgtk2.0-bin_2.24.32-1ubuntu1_amd64.deb ...\n",
      "Unpacking libgtk2.0-bin (2.24.32-1ubuntu1) ...\n",
      "Selecting previously unselected package openjdk-8-jre-headless:amd64.\n",
      "Preparing to unpack .../11-openjdk-8-jre-headless_8u275-b01-0ubuntu1~18.04_amd64.deb ...\n",
      "Unpacking openjdk-8-jre-headless:amd64 (8u275-b01-0ubuntu1~18.04) ...\n",
      "Selecting previously unselected package openjdk-8-jre:amd64.\n",
      "Preparing to unpack .../12-openjdk-8-jre_8u275-b01-0ubuntu1~18.04_amd64.deb ...\n",
      "Unpacking openjdk-8-jre:amd64 (8u275-b01-0ubuntu1~18.04) ...\n",
      "Selecting previously unselected package openjdk-8-jdk-headless:amd64.\n",
      "Preparing to unpack .../13-openjdk-8-jdk-headless_8u275-b01-0ubuntu1~18.04_amd64.deb ...\n",
      "Unpacking openjdk-8-jdk-headless:amd64 (8u275-b01-0ubuntu1~18.04) ...\n",
      "Selecting previously unselected package openjdk-8-jdk:amd64.\n",
      "Preparing to unpack .../14-openjdk-8-jdk_8u275-b01-0ubuntu1~18.04_amd64.deb ...\n",
      "Unpacking openjdk-8-jdk:amd64 (8u275-b01-0ubuntu1~18.04) ...\n",
      "Setting up libgtk2.0-common (2.24.32-1ubuntu1) ...\n",
      "Setting up fonts-dejavu-core (2.37-1) ...\n",
      "Setting up libxxf86dga1:amd64 (2:1.1.4-1) ...\n",
      "Setting up fonts-dejavu-extra (2.37-1) ...\n",
      "Setting up openjdk-8-jre-headless:amd64 (8u275-b01-0ubuntu1~18.04) ...\n",
      "update-alternatives: using /usr/lib/jvm/java-8-openjdk-amd64/jre/bin/orbd to provide /usr/bin/orbd (orbd) in auto mode\n",
      "update-alternatives: using /usr/lib/jvm/java-8-openjdk-amd64/jre/bin/servertool to provide /usr/bin/servertool (servertool) in auto mode\n",
      "update-alternatives: using /usr/lib/jvm/java-8-openjdk-amd64/jre/bin/tnameserv to provide /usr/bin/tnameserv (tnameserv) in auto mode\n",
      "Setting up libgtk2.0-0:amd64 (2.24.32-1ubuntu1) ...\n",
      "Setting up libgail18:amd64 (2.24.32-1ubuntu1) ...\n",
      "Setting up openjdk-8-jdk-headless:amd64 (8u275-b01-0ubuntu1~18.04) ...\n",
      "update-alternatives: using /usr/lib/jvm/java-8-openjdk-amd64/bin/idlj to provide /usr/bin/idlj (idlj) in auto mode\n",
      "update-alternatives: using /usr/lib/jvm/java-8-openjdk-amd64/bin/wsimport to provide /usr/bin/wsimport (wsimport) in auto mode\n",
      "update-alternatives: using /usr/lib/jvm/java-8-openjdk-amd64/bin/jsadebugd to provide /usr/bin/jsadebugd (jsadebugd) in auto mode\n",
      "update-alternatives: using /usr/lib/jvm/java-8-openjdk-amd64/bin/native2ascii to provide /usr/bin/native2ascii (native2ascii) in auto mode\n",
      "update-alternatives: using /usr/lib/jvm/java-8-openjdk-amd64/bin/javah to provide /usr/bin/javah (javah) in auto mode\n",
      "update-alternatives: using /usr/lib/jvm/java-8-openjdk-amd64/bin/clhsdb to provide /usr/bin/clhsdb (clhsdb) in auto mode\n",
      "update-alternatives: using /usr/lib/jvm/java-8-openjdk-amd64/bin/xjc to provide /usr/bin/xjc (xjc) in auto mode\n",
      "update-alternatives: using /usr/lib/jvm/java-8-openjdk-amd64/bin/hsdb to provide /usr/bin/hsdb (hsdb) in auto mode\n",
      "update-alternatives: using /usr/lib/jvm/java-8-openjdk-amd64/bin/schemagen to provide /usr/bin/schemagen (schemagen) in auto mode\n",
      "update-alternatives: using /usr/lib/jvm/java-8-openjdk-amd64/bin/extcheck to provide /usr/bin/extcheck (extcheck) in auto mode\n",
      "update-alternatives: using /usr/lib/jvm/java-8-openjdk-amd64/bin/jhat to provide /usr/bin/jhat (jhat) in auto mode\n",
      "update-alternatives: using /usr/lib/jvm/java-8-openjdk-amd64/bin/wsgen to provide /usr/bin/wsgen (wsgen) in auto mode\n",
      "Setting up x11-utils (7.7+3build1) ...\n",
      "Setting up libgail-common:amd64 (2.24.32-1ubuntu1) ...\n",
      "Setting up libatk-wrapper-java (0.33.3-20ubuntu0.1) ...\n",
      "Setting up libgtk2.0-bin (2.24.32-1ubuntu1) ...\n",
      "Setting up libatk-wrapper-java-jni:amd64 (0.33.3-20ubuntu0.1) ...\n",
      "Setting up openjdk-8-jre:amd64 (8u275-b01-0ubuntu1~18.04) ...\n",
      "update-alternatives: using /usr/lib/jvm/java-8-openjdk-amd64/jre/bin/policytool to provide /usr/bin/policytool (policytool) in auto mode\n",
      "Setting up openjdk-8-jdk:amd64 (8u275-b01-0ubuntu1~18.04) ...\n",
      "update-alternatives: using /usr/lib/jvm/java-8-openjdk-amd64/bin/appletviewer to provide /usr/bin/appletviewer (appletviewer) in auto mode\n",
      "update-alternatives: using /usr/lib/jvm/java-8-openjdk-amd64/bin/jconsole to provide /usr/bin/jconsole (jconsole) in auto mode\n",
      "Processing triggers for man-db (2.8.3-2ubuntu0.1) ...\n",
      "Processing triggers for hicolor-icon-theme (0.17-2) ...\n",
      "Processing triggers for fontconfig (2.12.6-0ubuntu2) ...\n",
      "Processing triggers for mime-support (3.60ubuntu1) ...\n",
      "Processing triggers for libc-bin (2.27-3ubuntu1.2) ...\n",
      "/sbin/ldconfig.real: /usr/local/lib/python3.6/dist-packages/ideep4py/lib/libmkldnn.so.0 is not a symbolic link\n",
      "\n",
      "openjdk version \"11.0.9\" 2020-10-20\n",
      "OpenJDK Runtime Environment (build 11.0.9+11-Ubuntu-0ubuntu1.18.04.1)\n",
      "OpenJDK 64-Bit Server VM (build 11.0.9+11-Ubuntu-0ubuntu1.18.04.1, mixed mode)\n"
     ]
    }
   ],
   "source": [
    "install_java()"
   ]
  },
  {
   "cell_type": "markdown",
   "metadata": {
    "id": "c2R3kPxldb98"
   },
   "source": [
    "## Install NoVNC to display environment"
   ]
  },
  {
   "cell_type": "code",
   "execution_count": null,
   "metadata": {
    "colab": {
     "base_uri": "https://localhost:8080/"
    },
    "id": "3wiY3tp3O0cW",
    "outputId": "8ae79fa8-2599-4be1-9203-33498d47b1eb"
   },
   "outputs": [
    {
     "name": "stdout",
     "output_type": "stream",
     "text": [
      "--2020-11-13 14:45:44--  https://raw.githubusercontent.com/blacktanktop/minerl_colab/master/install_novnc.sh\n",
      "Resolving raw.githubusercontent.com (raw.githubusercontent.com)... 151.101.0.133, 151.101.64.133, 151.101.128.133, ...\n",
      "Connecting to raw.githubusercontent.com (raw.githubusercontent.com)|151.101.0.133|:443... connected.\n",
      "HTTP request sent, awaiting response... 200 OK\n",
      "Length: 1685 (1.6K) [text/plain]\n",
      "Saving to: ‘install_novnc.sh’\n",
      "\n",
      "\r",
      "install_novnc.sh      0%[                    ]       0  --.-KB/s               \r",
      "install_novnc.sh    100%[===================>]   1.65K  --.-KB/s    in 0s      \n",
      "\n",
      "2020-11-13 14:45:44 (32.6 MB/s) - ‘install_novnc.sh’ saved [1685/1685]\n",
      "\n",
      "Selecting previously unselected package libjpeg-turbo-official.\n",
      "(Reading database ... 145362 files and directories currently installed.)\n",
      "Preparing to unpack libjpeg-turbo-official_1.5.2_amd64.deb ...\n",
      "Unpacking libjpeg-turbo-official (1.5.2-20170707) ...\n",
      "Selecting previously unselected package turbovnc.\n",
      "Preparing to unpack turbovnc_2.1.2_amd64.deb ...\n",
      "Unpacking turbovnc (2.1.2-20170925) ...\n",
      "Setting up libjpeg-turbo-official (1.5.2-20170707) ...\n",
      "Setting up turbovnc (2.1.2-20170925) ...\n",
      "Processing triggers for systemd (237-3ubuntu10.42) ...\n",
      "Processing triggers for mime-support (3.60ubuntu1) ...\n",
      "cc -fPIC   -c -o rebind.o rebind.c\n",
      "cc  rebind.o -shared -fPIC -ldl -o rebind.so\n",
      "Hit:1 http://security.ubuntu.com/ubuntu bionic-security InRelease\n",
      "Hit:2 https://cloud.r-project.org/bin/linux/ubuntu bionic-cran40/ InRelease\n",
      "Ign:3 https://developer.download.nvidia.com/compute/cuda/repos/ubuntu1804/x86_64  InRelease\n",
      "Hit:4 http://ppa.launchpad.net/c2d4u.team/c2d4u4.0+/ubuntu bionic InRelease\n",
      "Hit:5 http://archive.ubuntu.com/ubuntu bionic InRelease\n",
      "Ign:6 https://developer.download.nvidia.com/compute/machine-learning/repos/ubuntu1804/x86_64  InRelease\n",
      "Hit:7 https://developer.download.nvidia.com/compute/cuda/repos/ubuntu1804/x86_64  Release\n",
      "Hit:8 https://developer.download.nvidia.com/compute/machine-learning/repos/ubuntu1804/x86_64  Release\n",
      "Hit:9 http://archive.ubuntu.com/ubuntu bionic-updates InRelease\n",
      "Hit:10 http://ppa.launchpad.net/graphics-drivers/ppa/ubuntu bionic InRelease\n",
      "Hit:11 http://archive.ubuntu.com/ubuntu bionic-backports InRelease\n",
      "Hit:12 http://ppa.launchpad.net/openjdk-r/ppa/ubuntu bionic InRelease\n",
      "Reading package lists... Done\n",
      "--2020-11-13 14:46:18--  https://bin.equinox.io/c/4VmDzA7iaHb/ngrok-stable-linux-amd64.zip\n",
      "Resolving bin.equinox.io (bin.equinox.io)... 34.205.238.171, 18.213.76.145, 54.236.132.162, ...\n",
      "Connecting to bin.equinox.io (bin.equinox.io)|34.205.238.171|:443... connected.\n",
      "HTTP request sent, awaiting response... 200 OK\n",
      "Length: 13773305 (13M) [application/octet-stream]\n",
      "Saving to: ‘ngrok-stable-linux-amd64.zip’\n",
      "\n",
      "ngrok-stable-linux- 100%[===================>]  13.13M  45.9MB/s    in 0.3s    \n",
      "\n",
      "2020-11-13 14:46:18 (45.9 MB/s) - ‘ngrok-stable-linux-amd64.zip’ saved [13773305/13773305]\n",
      "\n",
      "Archive:  ngrok-stable-linux-amd64.zip\n",
      "  inflating: /opt/ngrok              \n"
     ]
    }
   ],
   "source": [
    "# NoVNC\n",
    "! wget https://raw.githubusercontent.com/blacktanktop/minerl_colab/master/install_novnc.sh    \n",
    "! bash install_novnc.sh\n",
    "\n",
    "import os\n",
    "os.environ['PATH'] += \"/opt/TurboVNC/bin\"\n",
    "! mkdir -p /content/.vnc\n",
    "\n",
    "# Ngrok\n",
    "! wget https://bin.equinox.io/c/4VmDzA7iaHb/ngrok-stable-linux-amd64.zip\n",
    "! unzip -d /opt ngrok-stable-linux-amd64.zip \n",
    "! rm ngrok-stable-linux-amd64.zip \n",
    "! echo \"web_addr: 4045\" > /content/config.yml"
   ]
  },
  {
   "cell_type": "code",
   "execution_count": null,
   "metadata": {
    "colab": {
     "base_uri": "https://localhost:8080/"
    },
    "id": "D62s-7nVPKW0",
    "outputId": "1525054b-c472-434f-ec71-0cd58e9cd0d7"
   },
   "outputs": [
    {
     "name": "stdout",
     "output_type": "stream",
     "text": [
      "kill: usage: kill [-s sigspec | -n signum | -sigspec] pid | jobspec ... or kill -l [sigspec]\n"
     ]
    }
   ],
   "source": [
    "!kill $(ps ax | grep websockify | grep -v grep | awk '{ print $1 }') >/dev/null\n",
    "!pkill ngrok\n",
    "!pkill vncserver\n",
    "!pkill Xvnc\n",
    "!pkill Xvfb\n",
    "!pkill x11vnc"
   ]
  },
  {
   "cell_type": "code",
   "execution_count": null,
   "metadata": {
    "id": "aC_2-hHfPlQh"
   },
   "outputs": [],
   "source": [
    "!timeout 5 /opt/websockify/run 5901 --web=/opt/noVNC --wrap-mode=ignore -- /opt/TurboVNC/bin/vncserver :1 -securitytypes otp -otp -noxstartup 2>/dev/null\n",
    "get_ipython().system_raw('python /opt/websockify/run 5901 --web=/opt/noVNC --wrap-mode=ignore -- /opt/TurboVNC/bin/vncserver :1 -securitytypes otp -otp -noxstartup > /content/.vnc/stdout 2>&1 &')\n",
    "get_ipython().system_raw('/opt/ngrok http -config=/content/config.yml 5901 &')\n",
    "!sleep 1\n",
    "get_ipython().system_raw('DISPLAY=:1 openbox &')"
   ]
  },
  {
   "cell_type": "code",
   "execution_count": null,
   "metadata": {
    "colab": {
     "base_uri": "https://localhost:8080/"
    },
    "id": "XOZY51RFPouU",
    "outputId": "6111e52f-dd92-4fb0-e6e4-bea182763955"
   },
   "outputs": [
    {
     "name": "stdout",
     "output_type": "stream",
     "text": [
      "Full control one-time password: 26347041\n",
      "http://f1de66d3d969.ngrok.io\n"
     ]
    }
   ],
   "source": [
    "!grep \"one-time password:\" /content/.vnc/stdout\n",
    "\n",
    "import requests\n",
    "import json\n",
    "r = requests.get(\"http://localhost:4045/api/tunnels\", headers={\"content-type\": \"application/json\"})\n",
    "print(r.json()['tunnels'][0]['public_url'])"
   ]
  },
  {
   "cell_type": "code",
   "execution_count": null,
   "metadata": {
    "id": "0BAS11VRPstn"
   },
   "outputs": [],
   "source": [
    "get_ipython().system_raw('/usr/bin/Xvfb :99 -screen 0 768x1024x24 &')\n",
    "!sleep 1\n",
    "get_ipython().system_raw('/usr/bin/x11vnc -rfbport 5902 -forever -display :99 &')\n",
    "!sleep 1\n",
    "get_ipython().system_raw('DISPLAY=:1 /usr/bin/vncviewer localhost:5902 &')\n",
    "!sleep 1\n",
    "get_ipython().system_raw('DISPLAY=:99 xterm &')"
   ]
  },
  {
   "cell_type": "markdown",
   "metadata": {
    "id": "IY24ny2Rdoq6"
   },
   "source": [
    "## No Action Test"
   ]
  },
  {
   "cell_type": "code",
   "execution_count": 1,
   "metadata": {
    "colab": {
     "base_uri": "https://localhost:8080/",
     "height": 1000
    },
    "id": "1LGGVHa0P3S8",
    "outputId": "ca5647a8-3dd7-4601-98e6-dcc2f9add4f2"
   },
   "outputs": [
    {
     "name": "stdout",
     "output_type": "stream",
     "text": [
      "env: DISPLAY=:99\n"
     ]
    },
    {
     "name": "stderr",
     "output_type": "stream",
     "text": [
      "/opt/miniconda3/envs/minerl2/lib/python3.7/site-packages/gym/logger.py:30: UserWarning: \u001b[33mWARN: Box bound precision lowered by casting to float32\u001b[0m\n",
      "  warnings.warn(colorize('%s: %s'%('WARN', msg % args), 'yellow'))\n",
      "INFO:minerl.env.malmo.instance.98a683:Starting Minecraft process: ['/var/folders/_5/9n4k6nj50nb48gfy7_x3brnr0000gn/T/tmpl1u5eqpw/Minecraft/launchClient.sh', '-port', '12601', '-env', '-runDir', '/var/folders/_5/9n4k6nj50nb48gfy7_x3brnr0000gn/T/tmpl1u5eqpw/Minecraft/run']\n",
      "INFO:minerl.env.malmo.instance.98a683:Starting process watcher for process 41281 @ localhost:12601\n",
      "DEBUG:minerl.env.malmo.instance.98a683:This mapping 'snapshot_20161220' was designed for MC 1.11! Use at your own peril.\n",
      "DEBUG:minerl.env.malmo.instance.98a683:#################################################\n",
      "DEBUG:minerl.env.malmo.instance.98a683:         ForgeGradle 2.2-SNAPSHOT-3966cea        \n",
      "DEBUG:minerl.env.malmo.instance.98a683:  https://github.com/MinecraftForge/ForgeGradle  \n",
      "DEBUG:minerl.env.malmo.instance.98a683:#################################################\n",
      "DEBUG:minerl.env.malmo.instance.98a683:               Powered by MCP unknown               \n",
      "DEBUG:minerl.env.malmo.instance.98a683:             http://modcoderpack.com             \n",
      "DEBUG:minerl.env.malmo.instance.98a683:         by: Searge, ProfMobius, Fesh0r,         \n",
      "DEBUG:minerl.env.malmo.instance.98a683:         R4wk, ZeuX, IngisKahn, bspkrs           \n",
      "DEBUG:minerl.env.malmo.instance.98a683:#################################################\n",
      "DEBUG:minerl.env.malmo.instance.98a683:Found AccessTransformer: malmomod_at.cfg\n",
      "DEBUG:minerl.env.malmo.instance.98a683::deobfCompileDummyTask\n",
      "DEBUG:minerl.env.malmo.instance.98a683::deobfProvidedDummyTask\n",
      "DEBUG:minerl.env.malmo.instance.98a683::getVersionJson\n",
      "DEBUG:minerl.env.malmo.instance.98a683::extractUserdev\n",
      "DEBUG:minerl.env.malmo.instance.98a683::downloadClient SKIPPED\n",
      "DEBUG:minerl.env.malmo.instance.98a683::downloadServer SKIPPED\n",
      "DEBUG:minerl.env.malmo.instance.98a683::splitServerJar SKIPPED\n",
      "DEBUG:minerl.env.malmo.instance.98a683::mergeJars SKIPPED\n",
      "DEBUG:minerl.env.malmo.instance.98a683::applyBinaryPatches\n",
      "DEBUG:minerl.env.malmo.instance.98a683::extractDependencyATs SKIPPED\n",
      "DEBUG:minerl.env.malmo.instance.98a683::extractMcpData SKIPPED\n",
      "DEBUG:minerl.env.malmo.instance.98a683::extractMcpMappings SKIPPED\n",
      "DEBUG:minerl.env.malmo.instance.98a683::genSrgs SKIPPED\n",
      "DEBUG:minerl.env.malmo.instance.98a683::deobfMcMCP\n",
      "DEBUG:minerl.env.malmo.instance.98a683:Applying SpecialSource...\n",
      "DEBUG:minerl.env.malmo.instance.98a683:Applying Exceptor...\n",
      "DEBUG:minerl.env.malmo.instance.98a683:Applying RuntimeInvisibleParameterAnnotations workaround...\n",
      "DEBUG:minerl.env.malmo.instance.98a683::sourceApiJava\n",
      "DEBUG:minerl.env.malmo.instance.98a683::compileApiJava UP-TO-DATE\n",
      "DEBUG:minerl.env.malmo.instance.98a683::processApiResources UP-TO-DATE\n",
      "DEBUG:minerl.env.malmo.instance.98a683::apiClasses UP-TO-DATE\n",
      "DEBUG:minerl.env.malmo.instance.98a683::copyModToClient UP-TO-DATE\n",
      "DEBUG:minerl.env.malmo.instance.98a683::copyModToServer UP-TO-DATE\n",
      "DEBUG:minerl.env.malmo.instance.98a683::copySrg\n",
      "DEBUG:minerl.env.malmo.instance.98a683::deleteSchemas\n",
      "DEBUG:minerl.env.malmo.instance.98a683::copySchemas\n",
      "DEBUG:minerl.env.malmo.instance.98a683::jaxb\n",
      "DEBUG:minerl.env.malmo.instance.98a683::sourceMainJava\n",
      "DEBUG:minerl.env.malmo.instance.98a683::compileJavawarning: [options] bootstrap class path not set in conjunction with -source 1.6\n",
      "DEBUG:minerl.env.malmo.instance.98a683:Note: SpongePowered MIXIN Annotation Processor Version=0.7.5\n",
      "DEBUG:minerl.env.malmo.instance.98a683:Note: ObfuscationServiceMCP supports type: \"searge\"\n",
      "DEBUG:minerl.env.malmo.instance.98a683:Note: ObfuscationServiceMCP supports type: \"notch\"\n",
      "DEBUG:minerl.env.malmo.instance.98a683:Note: Loading searge mappings from /Users/maxrudolph/.gradle/caches/minecraft/de/oceanlabs/mcp/mcp_snapshot/20161220/1.11.2/srgs/mcp-srg.srg\n",
      "DEBUG:minerl.env.malmo.instance.98a683:Note: Loading notch mappings from /Users/maxrudolph/.gradle/caches/minecraft/de/oceanlabs/mcp/mcp_snapshot/20161220/1.11.2/srgs/mcp-notch.srg\n",
      "DEBUG:minerl.env.malmo.instance.98a683:Note: Writing refmap to /private/var/folders/_5/9n4k6nj50nb48gfy7_x3brnr0000gn/T/tmpl1u5eqpw/Minecraft/build/tmp/compileJava/compileJava-refmap.json\n",
      "DEBUG:minerl.env.malmo.instance.98a683:Note: Writing refmap to /private/var/folders/_5/9n4k6nj50nb48gfy7_x3brnr0000gn/T/tmpl1u5eqpw/Minecraft/build/tmp/compileJava/compileJava-refmap.json\n",
      "DEBUG:minerl.env.malmo.instance.98a683:Note: Writing searge output SRGs to /private/var/folders/_5/9n4k6nj50nb48gfy7_x3brnr0000gn/T/tmpl1u5eqpw/Minecraft/build/tmp/compileJava/mcp-srg.srg\n",
      "DEBUG:minerl.env.malmo.instance.98a683:Note: Writing notch output SRGs to /private/var/folders/_5/9n4k6nj50nb48gfy7_x3brnr0000gn/T/tmpl1u5eqpw/Minecraft/build/tmp/compileJava/mcp-notch.srg\n",
      "DEBUG:minerl.env.malmo.instance.98a683:Note: Writing refmap to /private/var/folders/_5/9n4k6nj50nb48gfy7_x3brnr0000gn/T/tmpl1u5eqpw/Minecraft/build/tmp/compileJava/compileJava-refmap.json\n",
      "DEBUG:minerl.env.malmo.instance.98a683:Note: Writing refmap to /private/var/folders/_5/9n4k6nj50nb48gfy7_x3brnr0000gn/T/tmpl1u5eqpw/Minecraft/build/tmp/compileJava/compileJava-refmap.json\n",
      "DEBUG:minerl.env.malmo.instance.98a683:Note: Writing searge output SRGs to /private/var/folders/_5/9n4k6nj50nb48gfy7_x3brnr0000gn/T/tmpl1u5eqpw/Minecraft/build/tmp/compileJava/mcp-srg.srg\n",
      "DEBUG:minerl.env.malmo.instance.98a683:Note: Writing notch output SRGs to /private/var/folders/_5/9n4k6nj50nb48gfy7_x3brnr0000gn/T/tmpl1u5eqpw/Minecraft/build/tmp/compileJava/mcp-notch.srg\n",
      "DEBUG:minerl.env.malmo.instance.98a683:Note: Some input files use or override a deprecated API.\n",
      "DEBUG:minerl.env.malmo.instance.98a683:Note: Recompile with -Xlint:deprecation for details.\n",
      "DEBUG:minerl.env.malmo.instance.98a683:Note: Some input files use unchecked or unsafe operations.\n",
      "DEBUG:minerl.env.malmo.instance.98a683:Note: Recompile with -Xlint:unchecked for details.\n",
      "DEBUG:minerl.env.malmo.instance.98a683:\n",
      "DEBUG:minerl.env.malmo.instance.98a683::processResources\n",
      "DEBUG:minerl.env.malmo.instance.98a683::classes\n",
      "DEBUG:minerl.env.malmo.instance.98a683::jar\n",
      "DEBUG:minerl.env.malmo.instance.98a683::extractNatives SKIPPED\n",
      "DEBUG:minerl.env.malmo.instance.98a683::getAssetIndex UP-TO-DATE\n",
      "DEBUG:minerl.env.malmo.instance.98a683::getAssets\n",
      "DEBUG:minerl.env.malmo.instance.98a683:Current status: 1195/1196   99%\n",
      "DEBUG:minerl.env.malmo.instance.98a683::makeStart SKIPPED\n",
      "DEBUG:minerl.env.malmo.instance.98a683::runClient\n",
      "DEBUG:minerl.env.malmo.instance.98a683:[13:22:45] [main/INFO]: Extra: []\n",
      "DEBUG:minerl.env.malmo.instance.98a683:[13:22:45] [main/INFO]: Found and added coremod: com.microsoft.Malmo.OverclockingPlugin\n",
      "DEBUG:minerl.env.malmo.instance.98a683:[13:22:45] [main/INFO]: Running with arguments: [--userProperties, {}, --assetsDir, /Users/maxrudolph/.gradle/caches/minecraft/assets, --assetIndex, 1.11, --accessToken{REDACTED}, --version, 1.11.2, --tweakClass, net.minecraftforge.fml.common.launcher.FMLTweaker, --tweakClass, net.minecraftforge.gradle.tweakers.CoremodTweaker]\n",
      "DEBUG:minerl.env.malmo.instance.98a683:[13:22:45] [main/INFO]: Loading tweak class name net.minecraftforge.fml.common.launcher.FMLTweaker\n",
      "DEBUG:minerl.env.malmo.instance.98a683:[13:22:45] [main/INFO]: Using primary tweak class name net.minecraftforge.fml.common.launcher.FMLTweaker\n",
      "DEBUG:minerl.env.malmo.instance.98a683:[13:22:45] [main/INFO]: Loading tweak class name net.minecraftforge.gradle.tweakers.CoremodTweaker\n",
      "DEBUG:minerl.env.malmo.instance.98a683:[13:22:45] [main/INFO]: Calling tweak class net.minecraftforge.fml.common.launcher.FMLTweaker\n",
      "DEBUG:minerl.env.malmo.instance.98a683:[13:22:45] [main/INFO]: Forge Mod Loader version 13.20.0.2228 for Minecraft 1.11.2 loading\n",
      "DEBUG:minerl.env.malmo.instance.98a683:[13:22:45] [main/INFO]: Java is OpenJDK 64-Bit Server VM, version 1.8.0_272, running on Mac OS X:x86_64:10.15.7, installed at /Library/Java/JavaVirtualMachines/adoptopenjdk-8.jdk/Contents/Home/jre\n",
      "DEBUG:minerl.env.malmo.instance.98a683:[13:22:45] [main/INFO]: Managed to load a deobfuscated Minecraft name- we are in a deobfuscated environment. Skipping runtime deobfuscation\n",
      "DEBUG:minerl.env.malmo.instance.98a683:[13:22:45] [main/INFO]: Found a command line coremod : com.microsoft.Malmo.OverclockingPlugin\n"
     ]
    },
    {
     "name": "stderr",
     "output_type": "stream",
     "text": [
      "DEBUG:minerl.env.malmo.instance.98a683:[13:22:45] [main/WARN]: The coremod com.microsoft.Malmo.OverclockingPlugin does not have a MCVersion annotation, it may cause issues with this version of Minecraft\n",
      "DEBUG:minerl.env.malmo.instance.98a683:[13:22:45] [main/INFO]: SpongePowered MIXIN Subsystem Version=0.7.5 Source=file:/Users/maxrudolph/.gradle/caches/modules-2/files-2.1/org.spongepowered/mixin/0.7.5-SNAPSHOT/c989878008c2c5ff1a7c6491c4103d8faa221d19/mixin-0.7.5-SNAPSHOT.jar Service=LaunchWrapper Env=CLIENT\n",
      "DEBUG:minerl.env.malmo.instance.98a683:[13:22:45] [main/INFO]: Compatibility level set to JAVA_8\n",
      "DEBUG:minerl.env.malmo.instance.98a683:[13:22:45] [main/INFO]: Calling tweak class net.minecraftforge.gradle.tweakers.CoremodTweaker\n",
      "DEBUG:minerl.env.malmo.instance.98a683:[13:22:45] [main/INFO]: Injecting location in coremod net.minecraftforge.fml.relauncher.FMLCorePlugin\n",
      "DEBUG:minerl.env.malmo.instance.98a683:[13:22:45] [main/INFO]: Injecting location in coremod net.minecraftforge.classloading.FMLForgePlugin\n",
      "DEBUG:minerl.env.malmo.instance.98a683:[13:22:45] [main/INFO]: Injecting location in coremod com.microsoft.Malmo.OverclockingPlugin\n",
      "DEBUG:minerl.env.malmo.instance.98a683:[13:22:45] [main/INFO]: Loading tweak class name net.minecraftforge.fml.common.launcher.FMLInjectionAndSortingTweaker\n",
      "DEBUG:minerl.env.malmo.instance.98a683:[13:22:45] [main/INFO]: Loading tweak class name org.spongepowered.asm.mixin.EnvironmentStateTweaker\n",
      "DEBUG:minerl.env.malmo.instance.98a683:[13:22:45] [main/INFO]: Loading tweak class name net.minecraftforge.fml.common.launcher.FMLDeobfTweaker\n",
      "DEBUG:minerl.env.malmo.instance.98a683:[13:22:45] [main/INFO]: Loading tweak class name net.minecraftforge.gradle.tweakers.AccessTransformerTweaker\n",
      "DEBUG:minerl.env.malmo.instance.98a683:[13:22:45] [main/INFO]: Calling tweak class net.minecraftforge.fml.common.launcher.FMLInjectionAndSortingTweaker\n",
      "DEBUG:minerl.env.malmo.instance.98a683:[13:22:45] [main/INFO]: Calling tweak class net.minecraftforge.fml.common.launcher.FMLInjectionAndSortingTweaker\n",
      "DEBUG:minerl.env.malmo.instance.98a683:[13:22:45] [main/INFO]: Calling tweak class net.minecraftforge.fml.relauncher.CoreModManager$FMLPluginWrapper\n",
      "DEBUG:minerl.env.malmo.instance.98a683:[13:22:45] [main/ERROR]: The binary patch set is missing. Either you are in a development environment, or things are not going to work!\n",
      "DEBUG:minerl.env.malmo.instance.98a683:[13:22:46] [main/ERROR]: FML appears to be missing any signature data. This is not a good thing\n",
      "DEBUG:minerl.env.malmo.instance.98a683:[13:22:46] [main/INFO]: Calling tweak class net.minecraftforge.fml.relauncher.CoreModManager$FMLPluginWrapper\n",
      "DEBUG:minerl.env.malmo.instance.98a683:[13:22:46] [main/INFO]: Calling tweak class net.minecraftforge.fml.relauncher.CoreModManager$FMLPluginWrapper\n",
      "DEBUG:minerl.env.malmo.instance.98a683:[13:22:46] [main/INFO]: Calling tweak class org.spongepowered.asm.mixin.EnvironmentStateTweaker\n",
      "DEBUG:minerl.env.malmo.instance.98a683:[13:22:46] [main/INFO]: Initialised Mixin FML Remapper Adapter with net.minecraftforge.fml.common.asm.transformers.deobf.FMLDeobfuscatingRemapper@75201592\n",
      "DEBUG:minerl.env.malmo.instance.98a683:[13:22:46] [main/INFO]: Calling tweak class net.minecraftforge.fml.common.launcher.FMLDeobfTweaker\n",
      "DEBUG:minerl.env.malmo.instance.98a683:[13:22:46] [main/INFO]: Calling tweak class net.minecraftforge.gradle.tweakers.AccessTransformerTweaker\n",
      "DEBUG:minerl.env.malmo.instance.98a683:[13:22:46] [main/INFO]: Loading tweak class name net.minecraftforge.fml.common.launcher.TerminalTweaker\n",
      "DEBUG:minerl.env.malmo.instance.98a683:[13:22:46] [main/INFO]: Calling tweak class net.minecraftforge.fml.common.launcher.TerminalTweaker\n",
      "DEBUG:minerl.env.malmo.instance.98a683:[13:22:46] [main/WARN]: Reference map 'mixins.replaymod.refmap.json' for mixins.overclocking.malmomod.json could not be read. If this is a development environment you can ignore this message\n",
      "DEBUG:minerl.env.malmo.instance.98a683:[13:22:46] [main/INFO]: [com.microsoft.Malmo.OverclockingClassTransformer:transform:58]: MALMO: Attempting to transform MinecraftServer\n",
      "DEBUG:minerl.env.malmo.instance.98a683:[13:22:46] [main/INFO]: [com.microsoft.Malmo.OverclockingClassTransformer:overclockRenderer:129]: MALMO: Found Minecraft, attempting to transform it\n",
      "DEBUG:minerl.env.malmo.instance.98a683:[13:22:46] [main/INFO]: [com.microsoft.Malmo.OverclockingClassTransformer:overclockRenderer:135]: MALMO: Found Minecraft.runGameLoop() method, attempting to transform it\n",
      "DEBUG:minerl.env.malmo.instance.98a683:[13:22:46] [main/INFO]: [com.microsoft.Malmo.OverclockingClassTransformer:overclockRenderer:150]: MALMO: Hooked into call to Minecraft.updateDisplay()\n",
      "DEBUG:minerl.env.malmo.instance.98a683:[13:22:46] [main/INFO]: A re-entrant transformer '$wrapper.com.microsoft.Malmo.OverclockingClassTransformer' was detected and will no longer process meta class data\n",
      "DEBUG:minerl.env.malmo.instance.98a683:[13:22:46] [main/INFO]: Launching wrapped minecraft {net.minecraft.client.main.Main}\n",
      "DEBUG:minerl.env.malmo.instance.98a683:[13:22:46] [main/INFO]: [com.microsoft.Malmo.OverclockingClassTransformer:transform:58]: MALMO: Attempting to transform MinecraftServer\n",
      "DEBUG:minerl.env.malmo.instance.98a683:[13:22:46] [main/INFO]: [com.microsoft.Malmo.OverclockingClassTransformer:overclockRenderer:129]: MALMO: Found Minecraft, attempting to transform it\n",
      "DEBUG:minerl.env.malmo.instance.98a683:[13:22:46] [main/INFO]: [com.microsoft.Malmo.OverclockingClassTransformer:overclockRenderer:135]: MALMO: Found Minecraft.runGameLoop() method, attempting to transform it\n",
      "DEBUG:minerl.env.malmo.instance.98a683:[13:22:46] [main/INFO]: [com.microsoft.Malmo.OverclockingClassTransformer:overclockRenderer:150]: MALMO: Hooked into call to Minecraft.updateDisplay()\n",
      "DEBUG:minerl.env.malmo.instance.98a683:[13:22:46] [main/INFO]: [com.microsoft.Malmo.OverclockingClassTransformer:transform:42]: Transformed Name: net.minecraft.client.entity.EntityPlayerSP\n",
      "DEBUG:minerl.env.malmo.instance.98a683:[13:22:46] [main/INFO]: [com.microsoft.Malmo.OverclockingClassTransformer:transform:42]: Transformed Name: net.minecraft.client.entity.AbstractClientPlayer\n",
      "DEBUG:minerl.env.malmo.instance.98a683:[13:22:47] [Client thread/INFO]: Setting user: Player569\n",
      "DEBUG:minerl.env.malmo.instance.98a683:[13:22:50] [Client thread/WARN]: Skipping bad option: lastServer:\n",
      "DEBUG:minerl.env.malmo.instance.98a683:[13:22:50] [Client thread/INFO]: LWJGL Version: 2.9.2\n",
      "DEBUG:minerl.env.malmo.instance.98a683:[13:22:50] [Client thread/INFO]: [STDOUT]: MALMO: Attempting to transform MinecraftServer\n",
      "DEBUG:minerl.env.malmo.instance.98a683:[13:22:50] [Client thread/INFO]: [STDOUT]: MALMO: Found GlStateManager, attempting to transform it\n",
      "DEBUG:minerl.env.malmo.instance.98a683:[13:22:50] [Client thread/INFO]: [STDOUT]: MALMO: Found GlStateManager.bindTexture() method, attempting to transform it\n",
      "DEBUG:minerl.env.malmo.instance.98a683:[13:22:50] [Client thread/INFO]: [STDOUT]: MALMO: Hooked into call to GlStateManager.bindTexture()\n",
      "DEBUG:minerl.env.malmo.instance.98a683:[13:22:50] [Client thread/INFO]: MinecraftForge v13.20.0.2228 Initialized\n",
      "DEBUG:minerl.env.malmo.instance.98a683:[13:22:50] [Client thread/INFO]: Replaced 232 ore recipes\n",
      "DEBUG:minerl.env.malmo.instance.98a683:[13:22:50] [Client thread/INFO]: Found 0 mods from the command line. Injecting into mod discoverer\n",
      "DEBUG:minerl.env.malmo.instance.98a683:[13:22:50] [Client thread/INFO]: Searching /private/var/folders/_5/9n4k6nj50nb48gfy7_x3brnr0000gn/T/tmpl1u5eqpw/Minecraft/run/mods for mods\n",
      "DEBUG:minerl.env.malmo.instance.98a683:[13:22:51] [Client thread/INFO]: Forge Mod Loader has identified 5 mods to load\n",
      "DEBUG:minerl.env.malmo.instance.98a683:[13:22:51] [Client thread/INFO]: Attempting connection with missing mods [minecraft, mcp, FML, forge, malmomod] at CLIENT\n",
      "DEBUG:minerl.env.malmo.instance.98a683:[13:22:51] [Client thread/INFO]: Attempting connection with missing mods [minecraft, mcp, FML, forge, malmomod] at SERVER\n",
      "DEBUG:minerl.env.malmo.instance.98a683:[13:22:52] [Client thread/INFO]: Reloading ResourceManager: Default, FMLFileResourcePack:Forge Mod Loader, FMLFileResourcePack:Minecraft Forge, FMLFileResourcePack:Microsoft Malmo Mod\n"
     ]
    },
    {
     "name": "stderr",
     "output_type": "stream",
     "text": [
      "DEBUG:minerl.env.malmo.instance.98a683:[13:22:52] [Client thread/WARN]: ResourcePack: ignored non-lowercase namespace: MalmoMod in /private/var/folders/_5/9n4k6nj50nb48gfy7_x3brnr0000gn/T/tmpl1u5eqpw/Minecraft/build/libs/MalmoMod-0.37.0.jar\n",
      "DEBUG:minerl.env.malmo.instance.98a683:[13:22:52] [Client thread/WARN]: ResourcePack: ignored non-lowercase namespace: MalmoMod in /private/var/folders/_5/9n4k6nj50nb48gfy7_x3brnr0000gn/T/tmpl1u5eqpw/Minecraft/build/libs/MalmoMod-0.37.0.jar\n",
      "DEBUG:minerl.env.malmo.instance.98a683:[13:22:52] [Client thread/WARN]: ResourcePack: ignored non-lowercase namespace: MalmoMod in /private/var/folders/_5/9n4k6nj50nb48gfy7_x3brnr0000gn/T/tmpl1u5eqpw/Minecraft/build/libs/MalmoMod-0.37.0.jar\n",
      "DEBUG:minerl.env.malmo.instance.98a683:[13:22:52] [Client thread/INFO]: Processing ObjectHolder annotations\n",
      "DEBUG:minerl.env.malmo.instance.98a683:[13:22:52] [Client thread/INFO]: Found 444 ObjectHolder annotations\n",
      "DEBUG:minerl.env.malmo.instance.98a683:[13:22:52] [Client thread/INFO]: Identifying ItemStackHolder annotations\n",
      "DEBUG:minerl.env.malmo.instance.98a683:[13:22:52] [Client thread/INFO]: Found 0 ItemStackHolder annotations\n",
      "DEBUG:minerl.env.malmo.instance.98a683:[13:22:52] [Client thread/INFO]: Applying holder lookups\n",
      "DEBUG:minerl.env.malmo.instance.98a683:[13:22:52] [Client thread/INFO]: Holder lookups applied\n",
      "DEBUG:minerl.env.malmo.instance.98a683:[13:22:52] [Client thread/INFO]: Applying holder lookups\n",
      "DEBUG:minerl.env.malmo.instance.98a683:[13:22:52] [Client thread/INFO]: Holder lookups applied\n",
      "DEBUG:minerl.env.malmo.instance.98a683:[13:22:52] [Client thread/INFO]: Applying holder lookups\n",
      "DEBUG:minerl.env.malmo.instance.98a683:[13:22:52] [Client thread/INFO]: Holder lookups applied\n",
      "DEBUG:minerl.env.malmo.instance.98a683:[13:22:52] [Client thread/INFO]: Configured a dormant chunk cache size of 0\n",
      "DEBUG:minerl.env.malmo.instance.98a683:[13:22:52] [Forge Version Check/INFO]: [forge] Starting version check at http://files.minecraftforge.net/maven/net/minecraftforge/forge/promotions_slim.json\n",
      "DEBUG:minerl.env.malmo.instance.98a683:[13:22:52] [Client thread/INFO]: [STDOUT]: Testing schemas against internal version number: 0.37\n",
      "DEBUG:minerl.env.malmo.instance.98a683:[13:22:52] [Forge Version Check/INFO]: [forge] Found status: OUTDATED Target: 13.20.1.2386\n",
      "DEBUG:minerl.env.malmo.instance.98a683:[13:22:52] [Client thread/INFO]: [STDOUT]: [LOGTOPY] Performance directory not specified.\n",
      "DEBUG:minerl.env.malmo.instance.98a683:[13:22:52] [Client thread/INFO]: [STDOUT]: [ERROR] Seed specified was NONE. Expected a long (integer).\n",
      "DEBUG:minerl.env.malmo.instance.98a683:[13:22:52] [Client thread/INFO]: Applying holder lookups\n",
      "DEBUG:minerl.env.malmo.instance.98a683:[13:22:52] [Client thread/INFO]: Holder lookups applied\n",
      "DEBUG:minerl.env.malmo.instance.98a683:[13:22:52] [Client thread/INFO]: Injecting itemstacks\n",
      "DEBUG:minerl.env.malmo.instance.98a683:[13:22:52] [Client thread/INFO]: Itemstack injection complete\n",
      "DEBUG:minerl.env.malmo.instance.98a683:[13:22:53] [Sound Library Loader/INFO]: Starting up SoundSystem...\n",
      "DEBUG:minerl.env.malmo.instance.98a683:[13:22:53] [Thread-5/INFO]: Initializing LWJGL OpenAL\n",
      "DEBUG:minerl.env.malmo.instance.98a683:[13:22:53] [Thread-5/INFO]: (The LWJGL binding of OpenAL.  For more information, see http://www.lwjgl.org)\n",
      "DEBUG:minerl.env.malmo.instance.98a683:[13:22:53] [Thread-5/INFO]: OpenAL initialized.\n",
      "DEBUG:minerl.env.malmo.instance.98a683:[13:22:54] [Sound Library Loader/INFO]: Sound engine started\n",
      "DEBUG:minerl.env.malmo.instance.98a683:[13:22:55] [Client thread/INFO]: Max texture size: 16384\n",
      "DEBUG:minerl.env.malmo.instance.98a683:[13:22:55] [Client thread/INFO]: Created: 16x16 textures-atlas\n",
      "DEBUG:minerl.env.malmo.instance.98a683:[13:22:55] [Client thread/INFO]: [STDOUT]: CLIENT request state: WAITING_FOR_MOD_READY\n",
      "DEBUG:minerl.env.malmo.instance.98a683:[13:22:55] [Client thread/INFO]: Injecting itemstacks\n",
      "DEBUG:minerl.env.malmo.instance.98a683:[13:22:55] [Client thread/INFO]: Itemstack injection complete\n",
      "DEBUG:minerl.env.malmo.instance.98a683:[13:22:55] [Client thread/INFO]: Forge Mod Loader has successfully loaded 5 mods\n",
      "DEBUG:minerl.env.malmo.instance.98a683:[13:22:55] [Client thread/INFO]: Reloading ResourceManager: Default, FMLFileResourcePack:Forge Mod Loader, FMLFileResourcePack:Minecraft Forge, FMLFileResourcePack:Microsoft Malmo Mod\n",
      "DEBUG:minerl.env.malmo.instance.98a683:[13:22:55] [Client thread/WARN]: ResourcePack: ignored non-lowercase namespace: MalmoMod in /private/var/folders/_5/9n4k6nj50nb48gfy7_x3brnr0000gn/T/tmpl1u5eqpw/Minecraft/build/libs/MalmoMod-0.37.0.jar\n",
      "DEBUG:minerl.env.malmo.instance.98a683:[13:22:55] [Client thread/WARN]: ResourcePack: ignored non-lowercase namespace: MalmoMod in /private/var/folders/_5/9n4k6nj50nb48gfy7_x3brnr0000gn/T/tmpl1u5eqpw/Minecraft/build/libs/MalmoMod-0.37.0.jar\n",
      "DEBUG:minerl.env.malmo.instance.98a683:[13:22:55] [Client thread/WARN]: ResourcePack: ignored non-lowercase namespace: MalmoMod in /private/var/folders/_5/9n4k6nj50nb48gfy7_x3brnr0000gn/T/tmpl1u5eqpw/Minecraft/build/libs/MalmoMod-0.37.0.jar\n",
      "DEBUG:minerl.env.malmo.instance.98a683:[13:22:56] [Client thread/INFO]: SoundSystem shutting down...\n",
      "DEBUG:minerl.env.malmo.instance.98a683:[13:22:56] [Client thread/WARN]: Author: Paul Lamb, www.paulscode.com\n",
      "DEBUG:minerl.env.malmo.instance.98a683:[13:22:56] [Sound Library Loader/INFO]: Starting up SoundSystem...\n",
      "DEBUG:minerl.env.malmo.instance.98a683:[13:22:57] [Thread-7/INFO]: Initializing LWJGL OpenAL\n",
      "DEBUG:minerl.env.malmo.instance.98a683:[13:22:57] [Thread-7/INFO]: (The LWJGL binding of OpenAL.  For more information, see http://www.lwjgl.org)\n",
      "DEBUG:minerl.env.malmo.instance.98a683:[13:22:57] [Thread-7/INFO]: OpenAL initialized.\n",
      "DEBUG:minerl.env.malmo.instance.98a683:[13:22:57] [Sound Library Loader/INFO]: Sound engine started\n",
      "DEBUG:minerl.env.malmo.instance.98a683:[13:22:58] [Client thread/INFO]: Max texture size: 16384\n",
      "DEBUG:minerl.env.malmo.instance.98a683:[13:22:58] [Client thread/INFO]: Created: 512x512 textures-atlas\n",
      "DEBUG:minerl.env.malmo.instance.98a683:[13:22:59] [Client thread/WARN]: Skipping bad option: lastServer:\n",
      "DEBUG:minerl.env.malmo.instance.98a683:[13:22:59] [Client thread/INFO]: [STDOUT]: CLIENT enter state: WAITING_FOR_MOD_READY\n",
      "DEBUG:minerl.env.malmo.instance.98a683:[13:22:59] [Client thread/INFO]: [STDOUT]: ***** Start MalmoEnvServer on port 12601\n",
      "DEBUG:minerl.env.malmo.instance.98a683:[13:22:59] [Client thread/INFO]: [STDOUT]: CLIENT request state: DORMANT\n",
      "DEBUG:minerl.env.malmo.instance.98a683:[13:22:59] [Client thread/INFO]: [STDOUT]: CLIENT enter state: DORMANT\n",
      "INFO:minerl.env.malmo.instance.98a683:Minecraft process ready\n",
      "INFO:minerl.env.malmo:Logging output of Minecraft to ./logs/mc_3601.log\n",
      "DEBUG:minerl.env.core:Creating socket connection!\n",
      "DEBUG:minerl.env.core:Sending mission init!\n",
      "DEBUG:minerl.env.malmo.instance.98a683:[13:22:59] [EnvServerSocketHandler/INFO]: [STDOUT]: Received from localhost:<MissionInit xmlns=\"http://ProjectMalmo.microsoft.com\" xmlns:xsi=\"http://www.w3.org/2001/XMLSchema-instance\" SchemaVersion=\"\" PlatformVersion=\"0.37.0\">\n",
      "DEBUG:minerl.env.malmo.instance.98a683:                                <Mission>\n",
      "DEBUG:minerl.env.malmo.instance.98a683:    <About>\n",
      "DEBUG:minerl.env.malmo.instance.98a683:        <Summary>MineRLNavigateDense-v0</Summary>\n",
      "DEBUG:minerl.env.malmo.instance.98a683:    </About>\n",
      "DEBUG:minerl.env.malmo.instance.98a683:\n",
      "DEBUG:minerl.env.malmo.instance.98a683:    <ModSettings>\n",
      "DEBUG:minerl.env.malmo.instance.98a683:        <MsPerTick>50</MsPerTick>\n",
      "DEBUG:minerl.env.malmo.instance.98a683:    </ModSettings>\n",
      "DEBUG:minerl.env.malmo.instance.98a683:\n",
      "DEBUG:minerl.env.malmo.instance.98a683:    <ServerSection>\n",
      "DEBUG:minerl.env.malmo.instance.98a683:        <ServerInitialConditions>\n",
      "DEBUG:minerl.env.malmo.instance.98a683:            <Time>\n",
      "DEBUG:minerl.env.malmo.instance.98a683:                <StartTime>6000</StartTime>\n",
      "DEBUG:minerl.env.malmo.instance.98a683:                <AllowPassageOfTime>false</AllowPassageOfTime>\n",
      "DEBUG:minerl.env.malmo.instance.98a683:            </Time>\n",
      "DEBUG:minerl.env.malmo.instance.98a683:            \n",
      "DEBUG:minerl.env.malmo.instance.98a683:            <Weather>clear</Weather>\n"
     ]
    },
    {
     "name": "stderr",
     "output_type": "stream",
     "text": [
      "DEBUG:minerl.env.malmo.instance.98a683:            <AllowSpawning>false</AllowSpawning>\n",
      "DEBUG:minerl.env.malmo.instance.98a683:        </ServerInitialConditions>\n",
      "DEBUG:minerl.env.malmo.instance.98a683:        <ServerHandlers>\n",
      "DEBUG:minerl.env.malmo.instance.98a683:            <DefaultWorldGenerator forceReset=\"true\"/>\n",
      "DEBUG:minerl.env.malmo.instance.98a683:            <NavigationDecorator>\n",
      "DEBUG:minerl.env.malmo.instance.98a683:                <randomPlacementProperties>\n",
      "DEBUG:minerl.env.malmo.instance.98a683:                    <maxRandomizedRadius>64</maxRandomizedRadius>\n",
      "DEBUG:minerl.env.malmo.instance.98a683:                    <minRandomizedRadius>64</minRandomizedRadius>\n",
      "DEBUG:minerl.env.malmo.instance.98a683:                    <maxRadius>8</maxRadius>\n",
      "DEBUG:minerl.env.malmo.instance.98a683:             \n",
      "DEBUG:minerl.env.malmo.instance.98a683:[13:23:00] [Realms Notification Availability checker #1/INFO]: Could not authorize you against Realms server: Invalid session id\n",
      "DEBUG:minerl.env.malmo.instance.98a683:[13:23:00] [EnvServerSocketHandler/INFO]: [STDOUT]: REPLYING WITH: MALMOOK\n",
      "DEBUG:minerl.env.core:Peeking the client.\n",
      "DEBUG:minerl.env.malmo.instance.98a683:[13:23:00] [Client thread/INFO]: [STDOUT]: Mission received: MineRLNavigateDense-v0\n",
      "DEBUG:minerl.env.malmo.instance.98a683:[13:23:00] [Client thread/INFO]: [STDOUT]: CLIENT request state: CREATING_HANDLERS\n",
      "DEBUG:minerl.env.malmo.instance.98a683:[13:23:00] [Client thread/INFO]: [STDOUT]: CLIENT enter state: CREATING_HANDLERS\n",
      "DEBUG:minerl.env.malmo.instance.98a683:[13:23:00] [Client thread/INFO]: [STDOUT]: Starting command server.\n",
      "DEBUG:minerl.env.malmo.instance.98a683:[13:23:00] [Thread-10/INFO]: [STDOUT]: INFO: ->com(0) Listening for messages on port 10126\n",
      "DEBUG:minerl.env.malmo.instance.98a683:[13:23:01] [Client thread/INFO]: [STDOUT]: CLIENT request state: EVALUATING_WORLD_REQUIREMENTS\n",
      "DEBUG:minerl.env.malmo.instance.98a683:[13:23:01] [Client thread/INFO]: [STDOUT]: CLIENT enter state: EVALUATING_WORLD_REQUIREMENTS\n",
      "DEBUG:minerl.env.malmo.instance.98a683:[13:23:01] [Client thread/INFO]: [STDOUT]: CLIENT request state: CREATING_NEW_WORLD\n",
      "DEBUG:minerl.env.malmo.instance.98a683:[13:23:01] [Client thread/INFO]: [STDOUT]: CLIENT enter state: CREATING_NEW_WORLD\n",
      "DEBUG:minerl.env.malmo.instance.98a683:[13:23:01] [Server thread/INFO]: Starting integrated minecraft server version 1.11.2\n",
      "DEBUG:minerl.env.malmo.instance.98a683:[13:23:01] [Server thread/INFO]: Generating keypair\n",
      "DEBUG:minerl.env.malmo.instance.98a683:[13:23:01] [Server thread/INFO]: Injecting existing block and item data into this server instance\n",
      "DEBUG:minerl.env.malmo.instance.98a683:[13:23:01] [Server thread/INFO]: Applying holder lookups\n",
      "DEBUG:minerl.env.malmo.instance.98a683:[13:23:01] [Server thread/INFO]: Holder lookups applied\n",
      "DEBUG:minerl.env.malmo.instance.98a683:[13:23:01] [Server thread/INFO]: Loading dimension 0 (TEMP_0_7682dedb-bd60-45a0-aa99-8590741937ca) (net.minecraft.server.integrated.IntegratedServer@27d80b9f)\n",
      "DEBUG:minerl.env.malmo.instance.98a683:[13:23:02] [Server thread/INFO]: Loading dimension 1 (TEMP_0_7682dedb-bd60-45a0-aa99-8590741937ca) (net.minecraft.server.integrated.IntegratedServer@27d80b9f)\n",
      "DEBUG:minerl.env.malmo.instance.98a683:[13:23:02] [Server thread/INFO]: Loading dimension -1 (TEMP_0_7682dedb-bd60-45a0-aa99-8590741937ca) (net.minecraft.server.integrated.IntegratedServer@27d80b9f)\n",
      "DEBUG:minerl.env.malmo.instance.98a683:[13:23:02] [Server thread/INFO]: Preparing start region for level 0\n",
      "DEBUG:minerl.env.malmo.instance.98a683:[13:23:03] [Server thread/INFO]: Preparing spawn area: 8%\n",
      "DEBUG:minerl.env.malmo.instance.98a683:[13:23:04] [Server thread/INFO]: Preparing spawn area: 18%\n",
      "DEBUG:minerl.env.malmo.instance.98a683:[13:23:05] [Server thread/INFO]: Preparing spawn area: 29%\n",
      "DEBUG:minerl.env.malmo.instance.98a683:[13:23:06] [Server thread/INFO]: Preparing spawn area: 42%\n",
      "DEBUG:minerl.env.malmo.instance.98a683:[13:23:07] [Server thread/INFO]: Preparing spawn area: 55%\n",
      "DEBUG:minerl.env.malmo.instance.98a683:[13:23:08] [Server thread/INFO]: Preparing spawn area: 69%\n",
      "DEBUG:minerl.env.malmo.instance.98a683:[13:23:09] [Server thread/INFO]: Preparing spawn area: 83%\n",
      "DEBUG:minerl.env.malmo.instance.98a683:[13:23:10] [Server thread/INFO]: Preparing spawn area: 97%\n",
      "DEBUG:minerl.env.malmo.instance.98a683:[13:23:10] [Server thread/INFO]: Changing view distance to 4, from 10\n",
      "DEBUG:minerl.env.malmo.instance.98a683:[13:23:11] [Netty Local Client IO #0/INFO]: [STDOUT]: Transformed Name: net.minecraft.client.entity.EntityOtherPlayerMP\n",
      "DEBUG:minerl.env.malmo.instance.98a683:[13:23:11] [Netty Local Client IO #0/INFO]: [STDOUT]: MALMO: Attempting to transform MinecraftServer\n",
      "DEBUG:minerl.env.malmo.instance.98a683:[13:23:11] [Netty Local Client IO #0/INFO]: [STDOUT]: MALMO: Found EntityOtherPlayerMP, attempting to transform it\n",
      "DEBUG:minerl.env.malmo.instance.98a683:[13:23:11] [Server thread/INFO]: [STDOUT]: SERVER request state: WAITING_FOR_MOD_READY\n",
      "DEBUG:minerl.env.malmo.instance.98a683:[13:23:11] [Server thread/INFO]: [STDOUT]: CLIENT request state: WAITING_FOR_SERVER_READY\n",
      "DEBUG:minerl.env.malmo.instance.98a683:[13:23:11] [Server thread/INFO]: [STDOUT]: SERVER enter state: WAITING_FOR_MOD_READY\n",
      "DEBUG:minerl.env.malmo.instance.98a683:[13:23:11] [Netty Local Client IO #0/INFO]: Server protocol version 2\n",
      "DEBUG:minerl.env.malmo.instance.98a683:[13:23:11] [Netty Server IO #1/INFO]: Client protocol version 2\n",
      "DEBUG:minerl.env.malmo.instance.98a683:[13:23:11] [Netty Server IO #1/INFO]: Client attempting to join with 5 mods : minecraft@1.11.2,FML@8.0.99.99,malmomod@0.37.0,forge@13.20.0.2228,mcp@9.19\n",
      "DEBUG:minerl.env.malmo.instance.98a683:[13:23:11] [Netty Local Client IO #0/INFO]: [Netty Local Client IO #0] Client side modded connection established\n",
      "DEBUG:minerl.env.malmo.instance.98a683:[13:23:11] [Client thread/INFO]: [STDOUT]: CLIENT enter state: WAITING_FOR_SERVER_READY\n",
      "DEBUG:minerl.env.malmo.instance.98a683:[13:23:11] [Server thread/INFO]: [Server thread] Server side modded connection established\n",
      "DEBUG:minerl.env.malmo.instance.98a683:[13:23:11] [Server thread/INFO]: MineRLAgent[local:E:f2b36f4f] logged in with entity id 570 at (87.5, 67.0, 246.5)\n",
      "DEBUG:minerl.env.malmo.instance.98a683:[13:23:11] [Server thread/INFO]: MineRLAgent joined the game\n",
      "DEBUG:minerl.env.malmo.instance.98a683:[13:23:11] [Server thread/INFO]: [STDOUT]: SERVER request state: DORMANT\n",
      "DEBUG:minerl.env.malmo.instance.98a683:[13:23:11] [Server thread/INFO]: [STDOUT]: SERVER enter state: DORMANT\n",
      "DEBUG:minerl.env.malmo.instance.98a683:[13:23:11] [Server thread/INFO]: [STDOUT]: INCOMING MISSION: Received MissionInit directly through ServerStateMachine constructor.\n",
      "DEBUG:minerl.env.malmo.instance.98a683:[13:23:11] [Server thread/INFO]: [STDOUT]: Mission received: MineRLNavigateDense-v0\n",
      "DEBUG:minerl.env.malmo.instance.98a683:[13:23:11] [Server thread/INFO]: Received mission: §9MineRLNavigateDense-v0\n",
      "DEBUG:minerl.env.malmo.instance.98a683:[13:23:11] [Server thread/INFO]: Source: §alocalhost\n",
      "DEBUG:minerl.env.malmo.instance.98a683:[13:23:11] [Server thread/INFO]: [STDOUT]: SERVER request state: BUILDING_WORLD\n",
      "DEBUG:minerl.env.malmo.instance.98a683:[13:23:11] [Server thread/INFO]: [STDOUT]: SERVER enter state: BUILDING_WORLD\n",
      "DEBUG:minerl.env.malmo.instance.98a683:[13:23:11] [Server thread/INFO]: [STDOUT]: SERVER request state: WAITING_FOR_AGENTS_TO_ASSEMBLE\n",
      "DEBUG:minerl.env.malmo.instance.98a683:[13:23:12] [Client thread/INFO]: [CHAT] Received mission: §9MineRLNavigateDense-v0\n",
      "DEBUG:minerl.env.malmo.instance.98a683:[13:23:12] [Client thread/INFO]: [CHAT] Source: §alocalhost\n",
      "DEBUG:minerl.env.malmo.instance.98a683:[13:23:12] [Client thread/INFO]: [STDOUT]: ***Telling server we are ready - MineRLAgent\n",
      "DEBUG:minerl.env.malmo.instance.98a683:[13:23:12] [Client thread/INFO]: [STDOUT]: ***Telling server we are ready - MineRLAgent\n",
      "DEBUG:minerl.env.malmo.instance.98a683:[13:23:12] [Client thread/INFO]: [STDOUT]: ***Telling server we are ready - MineRLAgent\n",
      "DEBUG:minerl.env.malmo.instance.98a683:[13:23:12] [Client thread/INFO]: [STDOUT]: ***Telling server we are ready - MineRLAgent\n",
      "DEBUG:minerl.env.malmo.instance.98a683:[13:23:13] [Server thread/INFO]: [STDOUT]: SERVER enter state: WAITING_FOR_AGENTS_TO_ASSEMBLE\n"
     ]
    },
    {
     "name": "stderr",
     "output_type": "stream",
     "text": [
      "DEBUG:minerl.env.malmo.instance.98a683:[13:23:13] [Server thread/INFO]: [STDOUT]: Experiment requires: \n",
      "DEBUG:minerl.env.malmo.instance.98a683:[13:23:13] [Server thread/INFO]: [STDOUT]: >>>> MineRLAgent\n",
      "DEBUG:minerl.env.malmo.instance.98a683:[13:23:13] [Client thread/INFO]: [STDOUT]: ***Telling server we are ready - MineRLAgent\n",
      "DEBUG:minerl.env.malmo.instance.98a683:[13:23:13] [Client thread/INFO]: [STDOUT]: CLIENT request state: RUNNING\n",
      "DEBUG:minerl.env.malmo.instance.98a683:[13:23:13] [Client thread/INFO]: [STDOUT]: CLIENT enter state: RUNNING\n",
      "DEBUG:minerl.env.malmo.instance.98a683:[13:23:13] [Server thread/INFO]: [STDOUT]: SERVER request state: RUNNING\n",
      "DEBUG:minerl.env.malmo.instance.98a683:[13:23:13] [Server thread/INFO]: [STDOUT]: SERVER enter state: RUNNING\n",
      "DEBUG:minerl.env.malmo.instance.98a683:[13:23:13] [Client thread/INFO]: [STDOUT]: Resized the window\n",
      "DEBUG:minerl.env.malmo.instance.98a683:[13:23:13] [Client thread/INFO]: [STDOUT]: Unpausing\n",
      "DEBUG:minerl.env.malmo.instance.98a683:[13:23:13] [Client thread/INFO]: [CHAT] §l300...\n",
      "DEBUG:minerl.env.malmo.instance.98a683:[13:23:13] [Client thread/INFO]: [CHAT] §l299...\n",
      "DEBUG:minerl.env.malmo.instance.98a683:[13:23:14] [Client thread/INFO]: [CHAT] §l298...\n"
     ]
    },
    {
     "name": "stdout",
     "output_type": "stream",
     "text": [
      "Total reward:  -0.1287994384765625\n",
      "Total reward:  -0.22849273681640625\n",
      "Total reward:  -0.33405303955078125\n",
      "Total reward:  -0.4432220458984375\n",
      "Total reward:  -0.5531845092773438\n",
      "Total reward:  -0.6638946533203125\n",
      "Total reward:  -0.7754287719726562\n",
      "Total reward:  -0.8880081176757812\n",
      "Total reward:  -1.0019989013671875\n",
      "Total reward:  -1.1179046630859375\n",
      "Total reward:  -1.2363662719726562\n",
      "Total reward:  -1.3820037841796875\n",
      "Total reward:  -1.6530380249023438\n",
      "Total reward:  -1.8299636840820312\n",
      "Total reward:  -2.0056991577148438\n",
      "Total reward:  -2.1783447265625\n",
      "Total reward:  -2.2707366943359375\n",
      "Total reward:  -2.2838134765625\n",
      "Total reward:  -2.3033599853515625\n",
      "Total reward:  -2.3274612426757812\n",
      "Total reward:  -2.3546295166015625\n",
      "Total reward:  -2.3837966918945312\n",
      "Total reward:  -2.4142990112304688\n"
     ]
    },
    {
     "name": "stderr",
     "output_type": "stream",
     "text": [
      "DEBUG:minerl.env.malmo.instance.98a683:[13:23:14] [Client thread/INFO]: [CHAT] §l297...\n"
     ]
    },
    {
     "name": "stdout",
     "output_type": "stream",
     "text": [
      "Total reward:  -2.4693603515625\n",
      "Total reward:  -2.6014938354492188\n",
      "Total reward:  -2.6908493041992188\n",
      "Total reward:  -2.7747879028320312\n",
      "Total reward:  -2.8515090942382812\n",
      "Total reward:  -2.915069580078125\n",
      "Total reward:  -2.9661865234375\n",
      "Total reward:  -3.0076980590820312\n",
      "Total reward:  -3.039642333984375\n",
      "Total reward:  -3.062347412109375\n",
      "Total reward:  -3.076446533203125\n",
      "Total reward:  -3.108734130859375\n"
     ]
    },
    {
     "name": "stderr",
     "output_type": "stream",
     "text": [
      "DEBUG:minerl.env.malmo.instance.98a683:[13:23:14] [Client thread/INFO]: [CHAT] §l296...\n"
     ]
    },
    {
     "name": "stdout",
     "output_type": "stream",
     "text": [
      "Total reward:  -3.163421630859375\n",
      "Total reward:  -3.2004852294921875\n",
      "Total reward:  -3.2271347045898438\n",
      "Total reward:  -3.2422409057617188\n",
      "Total reward:  -3.2450485229492188\n",
      "Total reward:  -3.23516845703125\n",
      "Total reward:  -3.2125320434570312\n",
      "Total reward:  -3.1773910522460938\n",
      "Total reward:  -3.1302871704101562\n",
      "Total reward:  -3.072021484375\n",
      "Total reward:  -3.003662109375\n",
      "Total reward:  -2.9498367309570312\n",
      "Total reward:  -2.890869140625\n",
      "Total reward:  -2.8583145141601562\n",
      "Total reward:  -2.8143081665039062\n",
      "Total reward:  -2.7581405639648438\n",
      "Total reward:  -2.6848373413085938\n",
      "Total reward:  -2.5959548950195312\n",
      "Total reward:  -2.498138427734375\n",
      "Total reward:  -2.3538818359375\n",
      "Total reward:  -2.2081527709960938\n",
      "Total reward:  -2.0599899291992188\n",
      "Total reward:  -1.9274368286132812\n",
      "Total reward:  -1.8234939575195312\n",
      "Total reward:  -1.7098770141601562\n",
      "Total reward:  -1.5423049926757812\n"
     ]
    },
    {
     "name": "stderr",
     "output_type": "stream",
     "text": [
      "DEBUG:minerl.env.malmo.instance.98a683:[13:23:15] [Client thread/INFO]: [CHAT] §l295...\n"
     ]
    },
    {
     "name": "stdout",
     "output_type": "stream",
     "text": [
      "Total reward:  -1.5594482421875\n",
      "Total reward:  -1.5848617553710938\n",
      "Total reward:  -1.608489990234375\n",
      "Total reward:  -1.6305999755859375\n",
      "Total reward:  -1.651336669921875\n",
      "Total reward:  -1.6707992553710938\n",
      "Total reward:  -1.7286453247070312\n",
      "Total reward:  -1.773345947265625\n",
      "Total reward:  -1.7928390502929688\n",
      "Total reward:  -1.7878265380859375\n",
      "Total reward:  -1.75921630859375\n",
      "Total reward:  -1.7080917358398438\n",
      "Total reward:  -1.6357040405273438\n",
      "Total reward:  -1.543487548828125\n",
      "Total reward:  -1.4544219970703125\n"
     ]
    },
    {
     "name": "stderr",
     "output_type": "stream",
     "text": [
      "DEBUG:minerl.env.malmo.instance.98a683:[13:23:15] [Client thread/INFO]: [CHAT] §l294...\n"
     ]
    },
    {
     "name": "stdout",
     "output_type": "stream",
     "text": [
      "Total reward:  -1.287445068359375\n",
      "Total reward:  -1.1539077758789062\n",
      "Total reward:  -1.07672119140625\n",
      "Total reward:  -0.9834060668945312\n",
      "Total reward:  -0.8737640380859375\n",
      "Total reward:  -0.7416458129882812\n",
      "Total reward:  -0.5895538330078125\n",
      "Total reward:  -0.426788330078125\n",
      "Total reward:  -0.2010650634765625\n",
      "Total reward:  0.01387786865234375\n",
      "Total reward:  0.223236083984375\n",
      "Total reward:  0.4051475524902344\n",
      "Total reward:  0.5465240478515625\n",
      "Total reward:  0.6998558044433594\n",
      "Total reward:  0.7549095153808594\n"
     ]
    },
    {
     "name": "stderr",
     "output_type": "stream",
     "text": [
      "DEBUG:minerl.env.malmo.instance.98a683:[13:23:15] [Client thread/INFO]: [CHAT] §l293...\n"
     ]
    },
    {
     "name": "stdout",
     "output_type": "stream",
     "text": [
      "Total reward:  0.7567214965820312\n",
      "Total reward:  0.7598114013671875\n",
      "Total reward:  0.7638702392578125\n",
      "Total reward:  0.7687263488769531\n",
      "Total reward:  0.7742729187011719\n",
      "Total reward:  0.7804450988769531\n",
      "Total reward:  0.7616310119628906\n",
      "Total reward:  0.7761344909667969\n",
      "Total reward:  0.7963829040527344\n",
      "Total reward:  0.804779052734375\n",
      "Total reward:  0.8136177062988281\n",
      "Total reward:  0.8228912353515625\n",
      "Total reward:  0.8325958251953125\n",
      "Total reward:  0.8427085876464844\n",
      "Total reward:  0.8532218933105469\n",
      "Total reward:  0.8641204833984375\n",
      "Total reward:  0.8208999633789062\n"
     ]
    },
    {
     "name": "stderr",
     "output_type": "stream",
     "text": [
      "DEBUG:minerl.env.malmo.instance.98a683:[13:23:15] [Client thread/INFO]: [CHAT] §l292...\n"
     ]
    },
    {
     "name": "stdout",
     "output_type": "stream",
     "text": [
      "Total reward:  0.782958984375\n",
      "Total reward:  0.7739372253417969\n",
      "Total reward:  0.79290771484375\n",
      "Total reward:  0.8459320068359375\n",
      "Total reward:  0.9292144775390625\n",
      "Total reward:  1.0313491821289062\n",
      "Total reward:  1.2045783996582031\n",
      "Total reward:  1.3900909423828125\n",
      "Total reward:  1.582489013671875\n",
      "Total reward:  1.7545967102050781\n",
      "Total reward:  1.8952178955078125\n",
      "Total reward:  2.049701690673828\n",
      "Total reward:  2.2705078125\n",
      "Total reward:  2.4874305725097656\n",
      "Total reward:  2.7022552490234375\n",
      "Total reward:  2.9159622192382812\n",
      "Total reward:  3.1290740966796875\n",
      "Total reward:  3.3418846130371094\n",
      "Total reward:  3.554546356201172\n",
      "Total reward:  3.7031021118164062\n",
      "Total reward:  3.670673370361328\n",
      "Total reward:  3.6592445373535156\n",
      "Total reward:  3.6774826049804688\n",
      "Total reward:  3.724285125732422\n",
      "Total reward:  3.7983779907226562\n",
      "Total reward:  3.8983154296875\n",
      "Total reward:  4.022487640380859\n",
      "Total reward:  4.135581970214844\n",
      "Total reward:  4.331195831298828\n"
     ]
    },
    {
     "name": "stderr",
     "output_type": "stream",
     "text": [
      "DEBUG:minerl.env.malmo.instance.98a683:[13:23:16] [Client thread/INFO]: [CHAT] §l291...\n"
     ]
    },
    {
     "name": "stdout",
     "output_type": "stream",
     "text": [
      "Total reward:  4.462497711181641\n",
      "Total reward:  4.533355712890625\n",
      "Total reward:  4.543201446533203\n",
      "Total reward:  4.526393890380859\n",
      "Total reward:  4.5250701904296875\n",
      "Total reward:  4.5392303466796875\n",
      "Total reward:  4.568553924560547\n",
      "Total reward:  4.612449645996094\n",
      "Total reward:  4.670047760009766\n",
      "Total reward:  4.740230560302734\n",
      "Total reward:  4.821632385253906\n",
      "Total reward:  4.858951568603516\n",
      "Total reward:  4.810741424560547\n",
      "Total reward:  4.766193389892578\n",
      "Total reward:  4.753501892089844\n",
      "Total reward:  4.771762847900391\n",
      "Total reward:  4.819877624511719\n"
     ]
    },
    {
     "name": "stderr",
     "output_type": "stream",
     "text": [
      "DEBUG:minerl.env.malmo.instance.98a683:[13:23:16] [Client thread/INFO]: [CHAT] §l290...\n"
     ]
    },
    {
     "name": "stdout",
     "output_type": "stream",
     "text": [
      "Total reward:  4.896583557128906\n",
      "Total reward:  5.00042724609375\n",
      "Total reward:  5.1298065185546875\n",
      "Total reward:  5.2829437255859375\n",
      "Total reward:  5.4579010009765625\n",
      "Total reward:  5.652587890625\n",
      "Total reward:  5.810150146484375\n",
      "Total reward:  5.957298278808594\n",
      "Total reward:  6.036277770996094\n",
      "Total reward:  6.135982513427734\n",
      "Total reward:  6.256641387939453\n",
      "Total reward:  6.398170471191406\n",
      "Total reward:  6.560211181640625\n",
      "Total reward:  6.742145538330078\n",
      "Total reward:  6.943092346191406\n",
      "Total reward:  7.161933898925781\n",
      "Total reward:  7.397312164306641\n",
      "Total reward:  7.647636413574219\n"
     ]
    },
    {
     "name": "stderr",
     "output_type": "stream",
     "text": [
      "DEBUG:minerl.env.malmo.instance.98a683:[13:23:16] [Client thread/INFO]: [CHAT] §l289...\n"
     ]
    },
    {
     "name": "stdout",
     "output_type": "stream",
     "text": [
      "Total reward:  7.854515075683594\n",
      "Total reward:  8.043018341064453\n",
      "Total reward:  8.143714904785156\n",
      "Total reward:  8.263431549072266\n",
      "Total reward:  8.402637481689453\n",
      "Total reward:  8.561473846435547\n",
      "Total reward:  8.739768981933594\n",
      "Total reward:  8.937068939208984\n",
      "Total reward:  9.15262222290039\n",
      "Total reward:  9.344978332519531\n",
      "Total reward:  9.611526489257812\n",
      "Total reward:  9.766342163085938\n",
      "Total reward:  9.845958709716797\n",
      "Total reward:  9.947685241699219\n",
      "Total reward:  10.071880340576172\n",
      "Total reward:  10.218582153320312\n",
      "Total reward:  10.387519836425781\n",
      "Total reward:  10.578132629394531\n"
     ]
    },
    {
     "name": "stderr",
     "output_type": "stream",
     "text": [
      "DEBUG:minerl.env.malmo.instance.98a683:[13:23:16] [Client thread/INFO]: [CHAT] §l288...\n"
     ]
    },
    {
     "name": "stdout",
     "output_type": "stream",
     "text": [
      "Total reward:  10.789588928222656\n",
      "Total reward:  11.02077865600586\n",
      "Total reward:  11.270339965820312\n",
      "Total reward:  11.536663055419922\n",
      "Total reward:  11.750911712646484\n",
      "Total reward:  11.928169250488281\n",
      "Total reward:  12.01894760131836\n",
      "Total reward:  12.13116455078125\n",
      "Total reward:  12.265357971191406\n",
      "Total reward:  12.421703338623047\n",
      "Total reward:  12.600055694580078\n",
      "Total reward:  12.799957275390625\n",
      "Total reward:  13.020645141601562\n",
      "Total reward:  13.26107406616211\n",
      "Total reward:  13.519916534423828\n",
      "Total reward:  13.795578002929688\n",
      "Total reward:  14.086204528808594\n",
      "Total reward:  14.38967514038086\n"
     ]
    },
    {
     "name": "stderr",
     "output_type": "stream",
     "text": [
      "DEBUG:minerl.env.malmo.instance.98a683:[13:23:17] [Client thread/INFO]: [CHAT] §l287...\n"
     ]
    },
    {
     "name": "stdout",
     "output_type": "stream",
     "text": [
      "Total reward:  14.70361328125\n",
      "Total reward:  15.012710571289062\n",
      "Total reward:  15.211910247802734\n",
      "Total reward:  15.317367553710938\n",
      "Total reward:  15.34243392944336\n",
      "Total reward:  15.325916290283203\n",
      "Total reward:  15.326316833496094\n",
      "Total reward:  15.34368896484375\n",
      "Total reward:  15.377689361572266\n",
      "Total reward:  15.427650451660156\n",
      "Total reward:  15.492557525634766\n",
      "Total reward:  15.571098327636719\n",
      "Total reward:  15.661663055419922\n",
      "Total reward:  15.762359619140625\n",
      "Total reward:  15.888504028320312\n",
      "Total reward:  15.968212127685547\n",
      "Total reward:  16.07889175415039\n",
      "Total reward:  16.1903076171875\n",
      "Total reward:  16.31937026977539\n"
     ]
    },
    {
     "name": "stderr",
     "output_type": "stream",
     "text": [
      "DEBUG:minerl.env.malmo.instance.98a683:[13:23:17] [Client thread/INFO]: [CHAT] §l286...\n"
     ]
    },
    {
     "name": "stdout",
     "output_type": "stream",
     "text": [
      "Total reward:  16.514801025390625\n",
      "Total reward:  16.718082427978516\n",
      "Total reward:  16.938865661621094\n",
      "Total reward:  17.097412109375\n",
      "Total reward:  17.275150299072266\n",
      "Total reward:  17.470211029052734\n",
      "Total reward:  17.658843994140625\n",
      "Total reward:  17.82978057861328\n",
      "Total reward:  17.923259735107422\n",
      "Total reward:  18.034866333007812\n",
      "Total reward:  18.165199279785156\n",
      "Total reward:  18.323299407958984\n",
      "Total reward:  18.50594711303711\n",
      "Total reward:  18.706188201904297\n",
      "Total reward:  18.922786712646484\n",
      "Total reward:  19.154186248779297\n",
      "Total reward:  19.39853286743164\n",
      "Total reward:  19.653663635253906\n",
      "Total reward:  19.917133331298828\n",
      "Total reward:  20.186195373535156\n",
      "Total reward:  20.441329956054688\n",
      "Total reward:  20.66546630859375\n",
      "Total reward:  20.791637420654297\n",
      "Total reward:  20.931053161621094\n",
      "Total reward:  21.08462905883789\n",
      "Total reward:  21.252845764160156\n",
      "Total reward:  21.43575668334961\n",
      "Total reward:  21.63300323486328\n",
      "Total reward:  21.843852996826172\n",
      "Total reward:  22.067180633544922\n",
      "Total reward:  22.301513671875\n",
      "Total reward:  22.545021057128906\n",
      "Total reward:  22.795528411865234\n"
     ]
    },
    {
     "name": "stderr",
     "output_type": "stream",
     "text": [
      "DEBUG:minerl.env.malmo.instance.98a683:[13:23:17] [Client thread/INFO]: [CHAT] §l285...\n"
     ]
    },
    {
     "name": "stdout",
     "output_type": "stream",
     "text": [
      "Total reward:  23.039573669433594\n",
      "Total reward:  23.277610778808594\n",
      "Total reward:  23.50882339477539\n",
      "Total reward:  23.73193359375\n",
      "Total reward:  23.859813690185547\n",
      "Total reward:  23.996742248535156\n",
      "Total reward:  24.14385223388672\n",
      "Total reward:  24.301780700683594\n",
      "Total reward:  24.47254180908203\n",
      "Total reward:  24.65570068359375\n",
      "Total reward:  24.85041046142578\n",
      "Total reward:  25.055423736572266\n",
      "Total reward:  25.269092559814453\n",
      "Total reward:  25.489398956298828\n",
      "Total reward:  25.713958740234375\n",
      "Total reward:  25.940017700195312\n",
      "Total reward:  26.144676208496094\n",
      "Total reward:  26.39611053466797\n",
      "Total reward:  26.54334259033203\n",
      "Total reward:  26.698558807373047\n",
      "Total reward:  26.86297607421875\n"
     ]
    },
    {
     "name": "stderr",
     "output_type": "stream",
     "text": [
      "DEBUG:minerl.env.malmo.instance.98a683:[13:23:17] [Client thread/INFO]: [CHAT] §l284...\n"
     ]
    },
    {
     "name": "stdout",
     "output_type": "stream",
     "text": [
      "Total reward:  27.037281036376953\n",
      "Total reward:  27.22165298461914\n",
      "Total reward:  27.415782928466797\n",
      "Total reward:  27.618915557861328\n",
      "Total reward:  27.82982635498047\n",
      "Total reward:  28.046871185302734\n",
      "Total reward:  28.26797866821289\n",
      "Total reward:  28.49066162109375\n",
      "Total reward:  28.71204376220703\n",
      "Total reward:  28.919422149658203\n",
      "Total reward:  28.953617095947266\n",
      "Total reward:  28.955257415771484\n",
      "Total reward:  28.959060668945312\n",
      "Total reward:  28.966678619384766\n",
      "Total reward:  28.979137420654297\n",
      "Total reward:  28.996875762939453\n",
      "Total reward:  29.019790649414062\n",
      "Total reward:  29.047264099121094\n",
      "Total reward:  29.078197479248047\n",
      "Total reward:  29.111034393310547\n"
     ]
    },
    {
     "name": "stderr",
     "output_type": "stream",
     "text": [
      "DEBUG:minerl.env.malmo.instance.98a683:[13:23:17] [Client thread/INFO]: [CHAT] §l283...\n"
     ]
    },
    {
     "name": "stdout",
     "output_type": "stream",
     "text": [
      "Total reward:  29.143802642822266\n",
      "Total reward:  29.166370391845703\n",
      "Total reward:  29.178203582763672\n",
      "Total reward:  29.17923355102539\n",
      "Total reward:  29.182361602783203\n",
      "Total reward:  29.189258575439453\n",
      "Total reward:  29.20095443725586\n",
      "Total reward:  29.2178955078125\n",
      "Total reward:  29.239986419677734\n",
      "Total reward:  29.266597747802734\n",
      "Total reward:  29.296627044677734\n",
      "Total reward:  29.328514099121094\n",
      "Total reward:  29.360279083251953\n",
      "Total reward:  29.381725311279297\n",
      "Total reward:  29.391674041748047\n",
      "Total reward:  29.391475677490234\n",
      "Total reward:  29.39333724975586\n",
      "Total reward:  29.416831970214844\n",
      "Total reward:  29.461406707763672\n",
      "Total reward:  29.526084899902344\n",
      "Total reward:  29.60946273803711\n"
     ]
    },
    {
     "name": "stderr",
     "output_type": "stream",
     "text": [
      "DEBUG:minerl.env.malmo.instance.98a683:[13:23:18] [Client thread/INFO]: [CHAT] §l282...\n"
     ]
    },
    {
     "name": "stdout",
     "output_type": "stream",
     "text": [
      "Total reward:  29.709754943847656\n",
      "Total reward:  29.824787139892578\n",
      "Total reward:  29.95201873779297\n",
      "Total reward:  30.088542938232422\n",
      "Total reward:  30.223114013671875\n",
      "Total reward:  30.424949645996094\n",
      "Total reward:  30.547157287597656\n",
      "Total reward:  30.549541473388672\n",
      "Total reward:  30.553752899169922\n",
      "Total reward:  30.562881469726562\n",
      "Total reward:  30.577396392822266\n",
      "Total reward:  30.597190856933594\n",
      "Total reward:  30.621631622314453\n",
      "Total reward:  30.66765594482422\n",
      "Total reward:  30.732070922851562\n",
      "Total reward:  30.811378479003906\n",
      "Total reward:  30.893619537353516\n",
      "Total reward:  31.047435760498047\n",
      "Total reward:  31.143287658691406\n",
      "Total reward:  31.25042724609375\n",
      "Total reward:  31.369827270507812\n"
     ]
    },
    {
     "name": "stderr",
     "output_type": "stream",
     "text": [
      "DEBUG:minerl.env.malmo.instance.98a683:[13:23:18] [Client thread/INFO]: [CHAT] §l281...\n"
     ]
    },
    {
     "name": "stdout",
     "output_type": "stream",
     "text": [
      "Total reward:  31.501895904541016\n",
      "Total reward:  31.64649200439453\n",
      "Total reward:  31.802959442138672\n",
      "Total reward:  31.970149993896484\n",
      "Total reward:  32.146419525146484\n",
      "Total reward:  32.32966995239258\n",
      "Total reward:  32.51733207702637\n",
      "Total reward:  32.69777297973633\n",
      "Total reward:  32.93987846374512\n",
      "Total reward:  33.083431243896484\n",
      "Total reward:  33.23395919799805\n",
      "Total reward:  33.392961502075195\n",
      "Total reward:  33.561302185058594\n",
      "Total reward:  33.73923110961914\n",
      "Total reward:  33.926408767700195\n",
      "Total reward:  34.12193489074707\n",
      "Total reward:  34.32435417175293\n",
      "Total reward:  34.53167724609375\n",
      "Total reward:  34.74138641357422\n",
      "Total reward:  34.93081474304199\n",
      "Total reward:  34.931884765625\n"
     ]
    },
    {
     "name": "stderr",
     "output_type": "stream",
     "text": [
      "DEBUG:minerl.env.malmo.instance.98a683:[13:23:18] [Client thread/INFO]: [CHAT] §l280...\n",
      "DEBUG:minerl.env.malmo.instance.98a683:[13:23:18] [Client thread/INFO]: [CHAT] §l279...\n"
     ]
    },
    {
     "name": "stdout",
     "output_type": "stream",
     "text": [
      "Total reward:  34.925039291381836\n",
      "Total reward:  34.93881416320801\n",
      "Total reward:  34.97357749938965\n",
      "Total reward:  35.02910232543945\n",
      "Total reward:  35.1046142578125\n",
      "Total reward:  35.198814392089844\n",
      "Total reward:  35.30990219116211\n",
      "Total reward:  35.422157287597656\n",
      "Total reward:  35.62045478820801\n",
      "Total reward:  35.79366111755371\n",
      "Total reward:  35.89496994018555\n",
      "Total reward:  36.008914947509766\n",
      "Total reward:  36.13691520690918\n",
      "Total reward:  36.27971839904785\n",
      "Total reward:  36.43741798400879\n",
      "Total reward:  36.60417366027832\n",
      "Total reward:  36.77872848510742\n",
      "Total reward:  36.92664909362793\n",
      "Total reward:  36.92664909362793\n",
      "Total reward:  36.877145767211914\n",
      "Total reward:  36.83334159851074\n"
     ]
    },
    {
     "name": "stderr",
     "output_type": "stream",
     "text": [
      "DEBUG:minerl.env.malmo.instance.98a683:[13:23:18] [Client thread/INFO]: [CHAT] §l278...\n"
     ]
    },
    {
     "name": "stdout",
     "output_type": "stream",
     "text": [
      "Total reward:  36.79925346374512\n",
      "Total reward:  36.776798248291016\n",
      "Total reward:  36.76709175109863\n",
      "Total reward:  36.77052116394043\n",
      "Total reward:  36.78678894042969\n",
      "Total reward:  36.81496047973633\n",
      "Total reward:  36.824472427368164\n",
      "Total reward:  36.83528137207031\n",
      "Total reward:  36.78182029724121\n",
      "Total reward:  36.733154296875\n",
      "Total reward:  36.714752197265625\n",
      "Total reward:  36.726823806762695\n",
      "Total reward:  36.76899528503418\n",
      "Total reward:  36.84035682678223\n",
      "Total reward:  36.93948554992676\n",
      "Total reward:  37.064470291137695\n",
      "Total reward:  37.17596435546875\n",
      "Total reward:  37.369537353515625\n",
      "Total reward:  37.489187240600586\n",
      "Total reward:  37.54813194274902\n",
      "Total reward:  37.53990364074707\n",
      "Total reward:  37.51034164428711\n"
     ]
    },
    {
     "name": "stderr",
     "output_type": "stream",
     "text": [
      "DEBUG:minerl.env.malmo.instance.98a683:[13:23:19] [Client thread/INFO]: [CHAT] §l277...\n"
     ]
    },
    {
     "name": "stdout",
     "output_type": "stream",
     "text": [
      "Total reward:  37.49925994873047\n",
      "Total reward:  37.50699043273926\n",
      "Total reward:  37.53317451477051\n",
      "Total reward:  37.576820373535156\n",
      "Total reward:  37.636329650878906\n",
      "Total reward:  37.70952796936035\n",
      "Total reward:  37.78495788574219\n",
      "Total reward:  37.80826187133789\n",
      "Total reward:  37.72528076171875\n",
      "Total reward:  37.6548957824707\n",
      "Total reward:  37.600778579711914\n",
      "Total reward:  37.564735412597656\n",
      "Total reward:  37.547767639160156\n",
      "Total reward:  37.55014991760254\n",
      "Total reward:  37.57147216796875\n",
      "Total reward:  37.61069107055664\n",
      "Total reward:  37.62091064453125\n",
      "Total reward:  37.62942695617676\n",
      "Total reward:  37.54002380371094\n",
      "Total reward:  37.46323013305664\n",
      "Total reward:  37.42329025268555\n",
      "Total reward:  37.42025184631348\n"
     ]
    },
    {
     "name": "stderr",
     "output_type": "stream",
     "text": [
      "DEBUG:minerl.env.malmo.instance.98a683:[13:23:19] [Client thread/INFO]: [CHAT] §l276...\n"
     ]
    },
    {
     "name": "stdout",
     "output_type": "stream",
     "text": [
      "Total reward:  37.45361328125\n",
      "Total reward:  37.52236557006836\n",
      "Total reward:  37.625017166137695\n",
      "Total reward:  37.759613037109375\n",
      "Total reward:  37.87030601501465\n",
      "Total reward:  38.05946922302246\n",
      "Total reward:  38.140281677246094\n",
      "Total reward:  38.16885185241699\n",
      "Total reward:  38.22626304626465\n",
      "Total reward:  38.313833236694336\n",
      "Total reward:  38.432220458984375\n",
      "Total reward:  38.581459045410156\n",
      "Total reward:  38.7609977722168\n",
      "Total reward:  38.96972465515137\n",
      "Total reward:  39.205970764160156\n",
      "Total reward:  39.467512130737305\n",
      "Total reward:  39.75156021118164\n",
      "Total reward:  40.05474090576172\n",
      "Total reward:  40.373069763183594\n",
      "Total reward:  40.70192337036133\n",
      "Total reward:  41.02106475830078\n",
      "Total reward:  41.19205284118652\n"
     ]
    },
    {
     "name": "stderr",
     "output_type": "stream",
     "text": [
      "DEBUG:minerl.env.malmo.instance.98a683:[13:23:19] [Client thread/INFO]: [CHAT] §l275...\n"
     ]
    },
    {
     "name": "stdout",
     "output_type": "stream",
     "text": [
      "Total reward:  41.274383544921875\n",
      "Total reward:  41.37771987915039\n",
      "Total reward:  41.504201889038086\n",
      "Total reward:  41.58371353149414\n",
      "Total reward:  41.589622497558594\n",
      "Total reward:  41.61720085144043\n",
      "Total reward:  41.66530418395996\n",
      "Total reward:  41.73208999633789\n",
      "Total reward:  41.81503677368164\n",
      "Total reward:  41.91097068786621\n",
      "Total reward:  42.01607704162598\n",
      "Total reward:  42.12590980529785\n",
      "Total reward:  42.23541069030762\n",
      "Total reward:  42.35770034790039\n",
      "Total reward:  42.48510551452637\n",
      "Total reward:  42.564584732055664\n",
      "Total reward:  42.61893272399902\n",
      "Total reward:  42.651390075683594\n",
      "Total reward:  42.70342826843262\n",
      "Total reward:  42.776588439941406\n",
      "Total reward:  42.8790168762207\n",
      "Total reward:  43.00790214538574\n",
      "Total reward:  43.15644836425781\n"
     ]
    },
    {
     "name": "stderr",
     "output_type": "stream",
     "text": [
      "DEBUG:minerl.env.malmo.instance.98a683:[13:23:19] [Client thread/INFO]: [CHAT] §l274...\n"
     ]
    },
    {
     "name": "stdout",
     "output_type": "stream",
     "text": [
      "Total reward:  43.32219886779785\n",
      "Total reward:  43.50197792053223\n",
      "Total reward:  43.69189643859863\n",
      "Total reward:  43.887338638305664\n",
      "Total reward:  44.08294677734375\n",
      "Total reward:  44.253902435302734\n",
      "Total reward:  44.4771614074707\n",
      "Total reward:  44.50766372680664\n",
      "Total reward:  44.4886531829834\n",
      "Total reward:  44.47597885131836\n",
      "Total reward:  44.471513748168945\n",
      "Total reward:  44.4760856628418\n",
      "Total reward:  44.489545822143555\n",
      "Total reward:  44.51083183288574\n",
      "Total reward:  44.53802299499512\n",
      "Total reward:  44.568389892578125\n",
      "Total reward:  44.59843063354492\n",
      "Total reward:  44.61003112792969\n",
      "Total reward:  44.590925216674805\n",
      "Total reward:  44.56808280944824\n",
      "Total reward:  44.567543029785156\n",
      "Total reward:  44.590576171875\n",
      "Total reward:  44.63752365112305\n",
      "Total reward:  44.707862854003906\n"
     ]
    },
    {
     "name": "stderr",
     "output_type": "stream",
     "text": [
      "DEBUG:minerl.env.malmo.instance.98a683:[13:23:19] [Client thread/INFO]: [CHAT] §l273...\n"
     ]
    },
    {
     "name": "stdout",
     "output_type": "stream",
     "text": [
      "Total reward:  44.80025291442871\n",
      "Total reward:  44.91257667541504\n",
      "Total reward:  45.041948318481445\n",
      "Total reward:  45.18472099304199\n",
      "Total reward:  45.336483001708984\n",
      "Total reward:  45.49205207824707\n",
      "Total reward:  45.64547538757324\n",
      "Total reward:  45.79485321044922\n",
      "Total reward:  45.93335723876953\n",
      "Total reward:  46.06367301940918\n",
      "Total reward:  46.18735313415527\n",
      "Total reward:  46.305612564086914\n",
      "Total reward:  46.41940879821777\n",
      "Total reward:  46.52950668334961\n",
      "Total reward:  46.63650703430176\n",
      "Total reward:  46.74089431762695\n"
     ]
    },
    {
     "name": "stderr",
     "output_type": "stream",
     "text": [
      "DEBUG:minerl.env.malmo.instance.98a683:[13:23:20] [Client thread/INFO]: [CHAT] §l272...\n"
     ]
    },
    {
     "name": "stdout",
     "output_type": "stream",
     "text": [
      "Total reward:  46.84305000305176\n",
      "Total reward:  46.943281173706055\n",
      "Total reward:  47.043500900268555\n",
      "Total reward:  47.15721893310547\n",
      "Total reward:  47.28311347961426\n",
      "Total reward:  47.41794013977051\n",
      "Total reward:  47.54418182373047\n",
      "Total reward:  47.66409111022949\n",
      "Total reward:  47.779197692871094\n",
      "Total reward:  47.89056205749512\n",
      "Total reward:  47.99892807006836\n",
      "Total reward:  48.10482215881348\n",
      "Total reward:  48.20863151550293\n",
      "Total reward:  48.31063938140869\n",
      "Total reward:  48.41105937957764\n",
      "Total reward:  48.510056495666504\n",
      "Total reward:  48.607754707336426\n",
      "Total reward:  48.706058502197266\n",
      "Total reward:  48.818297386169434\n",
      "Total reward:  48.94298076629639\n",
      "Total reward:  49.076579093933105\n",
      "Total reward:  49.20167064666748\n"
     ]
    },
    {
     "name": "stderr",
     "output_type": "stream",
     "text": [
      "DEBUG:minerl.env.malmo.instance.98a683:[13:23:20] [Client thread/INFO]: [CHAT] §l271...\n"
     ]
    },
    {
     "name": "stdout",
     "output_type": "stream",
     "text": [
      "Total reward:  49.320600509643555\n",
      "Total reward:  49.434932708740234\n",
      "Total reward:  49.545716285705566\n",
      "Total reward:  49.65366840362549\n",
      "Total reward:  49.75928592681885\n",
      "Total reward:  49.862918853759766\n",
      "Total reward:  49.96481895446777\n",
      "Total reward:  50.06517028808594\n",
      "Total reward:  50.16411209106445\n",
      "Total reward:  50.261746406555176\n",
      "Total reward:  50.358153343200684\n",
      "Total reward:  50.45547962188721\n",
      "Total reward:  50.5673131942749\n",
      "Total reward:  50.69214916229248\n",
      "Total reward:  50.82608890533447\n",
      "Total reward:  50.9512825012207\n",
      "Total reward:  51.07018184661865\n",
      "Total reward:  51.184401512145996\n",
      "Total reward:  51.295013427734375\n",
      "Total reward:  51.40274143218994\n",
      "Total reward:  51.50807571411133\n"
     ]
    },
    {
     "name": "stderr",
     "output_type": "stream",
     "text": [
      "DEBUG:minerl.env.malmo.instance.98a683:[13:23:20] [Client thread/INFO]: [CHAT] §l270...\n"
     ]
    },
    {
     "name": "stdout",
     "output_type": "stream",
     "text": [
      "Total reward:  51.61135768890381\n",
      "Total reward:  51.712830543518066\n",
      "Total reward:  51.81266498565674\n",
      "Total reward:  51.910990715026855\n",
      "Total reward:  52.00790023803711\n",
      "Total reward:  52.10566711425781\n",
      "Total reward:  52.21810531616211\n",
      "Total reward:  52.34358596801758\n",
      "Total reward:  52.47794437408447\n",
      "Total reward:  52.60330677032471\n",
      "Total reward:  52.72230052947998\n",
      "Total reward:  52.836626052856445\n",
      "Total reward:  52.94738578796387\n",
      "Total reward:  53.0553035736084\n",
      "Total reward:  53.16085433959961\n",
      "Total reward:  53.26435852050781\n",
      "Total reward:  53.36603260040283\n",
      "Total reward:  53.46602535247803\n",
      "Total reward:  53.56444072723389\n",
      "Total reward:  53.661354064941406\n",
      "Total reward:  53.756815910339355\n",
      "Total reward:  53.85349655151367\n",
      "Total reward:  53.965683937072754\n",
      "Total reward:  54.0917272567749\n",
      "Total reward:  54.226877212524414\n",
      "Total reward:  54.35259819030762\n"
     ]
    },
    {
     "name": "stderr",
     "output_type": "stream",
     "text": [
      "DEBUG:minerl.env.malmo.instance.98a683:[13:23:20] [Client thread/INFO]: [CHAT] §l269...\n"
     ]
    },
    {
     "name": "stdout",
     "output_type": "stream",
     "text": [
      "Total reward:  54.47170448303223\n",
      "Total reward:  54.58599281311035\n",
      "Total reward:  54.69660949707031\n",
      "Total reward:  54.804287910461426\n",
      "Total reward:  54.90949630737305\n",
      "Total reward:  55.01253890991211\n",
      "Total reward:  55.11361122131348\n",
      "Total reward:  55.21284103393555\n",
      "Total reward:  55.310312271118164\n",
      "Total reward:  55.4060754776001\n",
      "Total reward:  55.500165939331055\n",
      "Total reward:  55.59593677520752\n",
      "Total reward:  55.708526611328125\n",
      "Total reward:  55.83619499206543\n",
      "Total reward:  55.97324752807617\n",
      "Total reward:  56.10001277923584\n",
      "Total reward:  56.219650745391846\n",
      "Total reward:  56.33414840698242\n",
      "Total reward:  56.444746017456055\n"
     ]
    },
    {
     "name": "stderr",
     "output_type": "stream",
     "text": [
      "DEBUG:minerl.env.malmo.instance.98a683:[13:23:20] [Client thread/INFO]: [CHAT] §l268...\n"
     ]
    },
    {
     "name": "stdout",
     "output_type": "stream",
     "text": [
      "Total reward:  56.55221366882324\n",
      "Total reward:  56.657023429870605\n",
      "Total reward:  56.759461879730225\n",
      "Total reward:  56.85969924926758\n",
      "Total reward:  56.9578332901001\n",
      "Total reward:  57.05391454696655\n",
      "Total reward:  57.14796304702759\n",
      "Total reward:  57.24382400512695\n",
      "Total reward:  57.35737466812134\n",
      "Total reward:  57.48662805557251\n",
      "Total reward:  57.62498712539673\n",
      "Total reward:  57.752281665802\n",
      "Total reward:  57.87213945388794\n",
      "Total reward:  57.98678541183472\n",
      "Total reward:  58.09755277633667\n",
      "Total reward:  58.2052206993103\n",
      "Total reward:  58.31022262573242\n",
      "Total reward:  58.41278266906738\n",
      "Total reward:  58.512996196746826\n",
      "Total reward:  58.61088180541992\n",
      "Total reward:  58.70641231536865\n",
      "Total reward:  58.79953145980835\n"
     ]
    },
    {
     "name": "stderr",
     "output_type": "stream",
     "text": [
      "DEBUG:minerl.env.malmo.instance.98a683:[13:23:21] [Client thread/INFO]: [CHAT] §l267...\n",
      "DEBUG:minerl.env.malmo.instance.98a683:[13:23:21] [Client thread/INFO]: [CHAT] §l266...\n"
     ]
    },
    {
     "name": "stdout",
     "output_type": "stream",
     "text": [
      "Total reward:  58.89016675949097\n",
      "Total reward:  58.98348808288574\n",
      "Total reward:  59.097105979919434\n",
      "Total reward:  59.2289924621582\n",
      "Total reward:  59.37062168121338\n",
      "Total reward:  59.499574184417725\n",
      "Total reward:  59.620168685913086\n",
      "Total reward:  59.735000133514404\n",
      "Total reward:  59.84556770324707\n",
      "Total reward:  59.95268201828003\n",
      "Total reward:  60.05672883987427\n",
      "Total reward:  60.157835960388184\n",
      "Total reward:  60.25597357749939\n",
      "Total reward:  60.35101819038391\n",
      "Total reward:  60.44278931617737\n",
      "Total reward:  60.53107261657715\n",
      "Total reward:  60.615631103515625\n",
      "Total reward:  60.7045111656189\n",
      "Total reward:  60.81918811798096\n",
      "Total reward:  60.95766735076904\n",
      "Total reward:  61.107420682907104\n",
      "Total reward:  61.24080204963684\n",
      "Total reward:  61.363590240478516\n"
     ]
    },
    {
     "name": "stderr",
     "output_type": "stream",
     "text": [
      "DEBUG:minerl.env.malmo.instance.98a683:[13:23:21] [Client thread/INFO]: [CHAT] §l265...\n"
     ]
    },
    {
     "name": "stdout",
     "output_type": "stream",
     "text": [
      "Total reward:  61.47920346260071\n",
      "Total reward:  61.58951210975647\n",
      "Total reward:  61.69538688659668\n",
      "Total reward:  61.79705739021301\n",
      "Total reward:  61.894341468811035\n",
      "Total reward:  61.98678517341614\n",
      "Total reward:  62.0737521648407\n",
      "Total reward:  62.15447795391083\n",
      "Total reward:  62.228110790252686\n",
      "Total reward:  62.3081910610199\n",
      "Total reward:  62.42455494403839\n",
      "Total reward:  62.57614195346832\n",
      "Total reward:  62.742318630218506\n",
      "Total reward:  62.884244322776794\n",
      "Total reward:  63.01097369194031\n",
      "Total reward:  63.127893924713135\n",
      "Total reward:  63.2375722527504\n",
      "Total reward:  63.34031283855438\n",
      "Total reward:  63.434359669685364\n",
      "Total reward:  63.51578050851822\n",
      "Total reward:  63.57831686735153\n",
      "Total reward:  63.61410439014435\n",
      "Total reward:  63.61653804779053\n",
      "Total reward:  63.58430290222168\n"
     ]
    },
    {
     "name": "stderr",
     "output_type": "stream",
     "text": [
      "DEBUG:minerl.env.malmo.instance.98a683:[13:23:21] [Client thread/INFO]: [CHAT] §l264...\n"
     ]
    },
    {
     "name": "stdout",
     "output_type": "stream",
     "text": [
      "Total reward:  63.52218955755234\n",
      "Total reward:  63.477606654167175\n",
      "Total reward:  63.4940299987793\n",
      "Total reward:  63.5558705329895\n",
      "Total reward:  63.59438169002533\n",
      "Total reward:  63.54950416088104\n",
      "Total reward:  63.46365261077881\n",
      "Total reward:  63.36249554157257\n",
      "Total reward:  63.25591254234314\n",
      "Total reward:  63.14688718318939\n",
      "Total reward:  63.03628122806549\n",
      "Total reward:  62.92417812347412\n",
      "Total reward:  62.810542345047\n",
      "Total reward:  62.69524967670441\n",
      "Total reward:  62.57846200466156\n",
      "Total reward:  62.46044039726257\n",
      "Total reward:  62.34151804447174\n",
      "Total reward:  62.237029910087585\n",
      "Total reward:  62.152621150016785\n",
      "Total reward:  62.08157539367676\n",
      "Total reward:  62.00300359725952\n",
      "Total reward:  61.913331270217896\n",
      "Total reward:  61.821415424346924\n",
      "Total reward:  61.73131847381592\n",
      "Total reward:  61.644582748413086\n",
      "Total reward:  61.5615074634552\n"
     ]
    },
    {
     "name": "stderr",
     "output_type": "stream",
     "text": [
      "DEBUG:minerl.env.malmo.instance.98a683:[13:23:21] [Client thread/INFO]: [CHAT] §l263...\n"
     ]
    },
    {
     "name": "stdout",
     "output_type": "stream",
     "text": [
      "Total reward:  61.48183012008667\n",
      "Total reward:  61.40507674217224\n",
      "Total reward:  61.33073091506958\n",
      "Total reward:  61.25831484794617\n",
      "Total reward:  61.18741822242737\n",
      "Total reward:  61.117706298828125\n",
      "Total reward:  61.05752229690552\n",
      "Total reward:  61.01052665710449\n",
      "Total reward:  60.97325086593628\n",
      "Total reward:  60.93290710449219\n",
      "Total reward:  60.8856635093689\n",
      "Total reward:  60.83791732788086\n",
      "Total reward:  60.79209017753601\n",
      "Total reward:  60.749064922332764\n",
      "Total reward:  60.7089307308197\n",
      "Total reward:  60.6714084148407\n",
      "Total reward:  60.636077880859375\n",
      "Total reward:  60.60249185562134\n",
      "Total reward:  60.57023787498474\n",
      "Total reward:  60.538952589035034\n",
      "Total reward:  60.508331060409546\n",
      "Total reward:  60.47811985015869\n",
      "Total reward:  60.45547270774841\n",
      "Total reward:  60.44700312614441\n",
      "Total reward:  60.4500195980072\n",
      "Total reward:  60.45333480834961\n"
     ]
    },
    {
     "name": "stderr",
     "output_type": "stream",
     "text": [
      "DEBUG:minerl.env.malmo.instance.98a683:[13:23:21] [Client thread/INFO]: [CHAT] §l262...\n",
      "DEBUG:minerl.env.malmo.instance.98a683:[13:23:22] [Client thread/INFO]: [CHAT] §l261...\n"
     ]
    },
    {
     "name": "stdout",
     "output_type": "stream",
     "text": [
      "Total reward:  60.449328899383545\n",
      "Total reward:  60.44270133972168\n",
      "Total reward:  60.43581962585449\n",
      "Total reward:  60.429709911346436\n",
      "Total reward:  60.42465901374817\n",
      "Total reward:  60.42057681083679\n",
      "Total reward:  60.41719675064087\n",
      "Total reward:  60.41419291496277\n",
      "Total reward:  60.41123867034912\n",
      "Total reward:  60.4080331325531\n",
      "Total reward:  60.40431356430054\n",
      "Total reward:  60.3998589515686\n",
      "Total reward:  60.40211772918701\n",
      "Total reward:  60.42096400260925\n",
      "Total reward:  60.45369219779968\n",
      "Total reward:  60.48862648010254\n",
      "Total reward:  60.513407468795776\n",
      "Total reward:  60.53321814537048\n",
      "Total reward:  60.550724267959595\n",
      "Total reward:  60.567211627960205\n",
      "Total reward:  60.58317804336548\n",
      "Total reward:  60.59869146347046\n",
      "Total reward:  60.61360216140747\n",
      "Total reward:  60.627665758132935\n"
     ]
    },
    {
     "name": "stderr",
     "output_type": "stream",
     "text": [
      "DEBUG:minerl.env.malmo.instance.98a683:[13:23:22] [Client thread/INFO]: [CHAT] §l260...\n"
     ]
    },
    {
     "name": "stdout",
     "output_type": "stream",
     "text": [
      "Total reward:  60.64060997962952\n",
      "Total reward:  60.652172803878784\n",
      "Total reward:  60.6621150970459\n",
      "Total reward:  60.677894115448\n",
      "Total reward:  60.71099615097046\n",
      "Total reward:  60.758291482925415\n",
      "Total reward:  60.80751442909241\n",
      "Total reward:  60.84510922431946\n",
      "Total reward:  60.87657570838928\n",
      "Total reward:  60.90487813949585\n",
      "Total reward:  60.93145680427551\n",
      "Total reward:  60.95686960220337\n",
      "Total reward:  60.98118805885315\n",
      "Total reward:  61.00423789024353\n",
      "Total reward:  61.02573227882385\n",
      "Total reward:  61.04535126686096\n",
      "Total reward:  61.06278467178345\n",
      "Total reward:  61.07774996757507\n",
      "Total reward:  61.09000253677368\n",
      "Total reward:  61.10828375816345\n",
      "Total reward:  61.14616322517395\n",
      "Total reward:  61.20038461685181\n",
      "Total reward:  61.25681710243225\n",
      "Total reward:  61.299156188964844\n"
     ]
    },
    {
     "name": "stderr",
     "output_type": "stream",
     "text": [
      "DEBUG:minerl.env.malmo.instance.98a683:[13:23:22] [Client thread/INFO]: [CHAT] §l259...\n"
     ]
    },
    {
     "name": "stdout",
     "output_type": "stream",
     "text": [
      "Total reward:  61.33355498313904\n",
      "Total reward:  61.36337614059448\n",
      "Total reward:  61.390280961990356\n",
      "Total reward:  61.41493582725525\n",
      "Total reward:  61.43745422363281\n",
      "Total reward:  61.45766615867615\n",
      "Total reward:  61.47527527809143\n",
      "Total reward:  61.48995041847229\n",
      "Total reward:  61.50137257575989\n",
      "Total reward:  61.509262800216675\n",
      "Total reward:  61.51339149475098\n",
      "Total reward:  61.52466917037964\n",
      "Total reward:  61.55815672874451\n",
      "Total reward:  61.61014151573181\n",
      "Total reward:  61.66373109817505\n",
      "Total reward:  61.700286865234375\n",
      "Total reward:  61.726972579956055\n",
      "Total reward:  61.74774742126465\n",
      "Total reward:  61.764594078063965\n",
      "Total reward:  61.778337717056274\n",
      "Total reward:  61.7891640663147\n",
      "Total reward:  61.796937227249146\n",
      "Total reward:  61.8013858795166\n",
      "Total reward:  61.80220818519592\n",
      "Total reward:  61.79913067817688\n"
     ]
    },
    {
     "name": "stderr",
     "output_type": "stream",
     "text": [
      "DEBUG:minerl.env.malmo.instance.98a683:[13:23:22] [Client thread/INFO]: [CHAT] §l258...\n"
     ]
    },
    {
     "name": "stdout",
     "output_type": "stream",
     "text": [
      "Total reward:  61.7919340133667\n",
      "Total reward:  61.79176640510559\n",
      "Total reward:  61.81291580200195\n",
      "Total reward:  61.85076093673706\n",
      "Total reward:  61.88722229003906\n",
      "Total reward:  61.90631151199341\n",
      "Total reward:  61.916013956069946\n",
      "Total reward:  61.92062759399414\n",
      "Total reward:  61.922213077545166\n",
      "Total reward:  61.92155432701111\n",
      "Total reward:  61.91875386238098\n",
      "Total reward:  61.913589000701904\n",
      "Total reward:  61.90571737289429\n",
      "Total reward:  61.89478921890259\n",
      "Total reward:  61.8805034160614\n",
      "Total reward:  61.862632036209106\n",
      "Total reward:  61.84102416038513\n",
      "Total reward:  61.82733106613159\n",
      "Total reward:  61.834803342819214\n",
      "Total reward:  61.85890507698059\n",
      "Total reward:  61.88132405281067\n",
      "Total reward:  61.88719654083252\n",
      "Total reward:  61.88442850112915\n",
      "Total reward:  61.877224922180176\n",
      "Total reward:  61.86758065223694\n"
     ]
    },
    {
     "name": "stderr",
     "output_type": "stream",
     "text": [
      "DEBUG:minerl.env.malmo.instance.98a683:[13:23:22] [Client thread/INFO]: [CHAT] §l257...\n"
     ]
    },
    {
     "name": "stdout",
     "output_type": "stream",
     "text": [
      "Total reward:  61.85624551773071\n",
      "Total reward:  61.844911336898804\n",
      "Total reward:  61.83143758773804\n",
      "Total reward:  61.815574645996094\n",
      "Total reward:  61.79705762863159\n",
      "Total reward:  61.77566146850586\n",
      "Total reward:  61.751219272613525\n",
      "Total reward:  61.723628282547\n",
      "Total reward:  61.70456528663635\n",
      "Total reward:  61.70656967163086\n",
      "Total reward:  61.725306034088135\n",
      "Total reward:  61.74289846420288\n",
      "Total reward:  61.74481916427612\n",
      "Total reward:  61.73865365982056\n",
      "Total reward:  61.728442907333374\n",
      "Total reward:  61.71611499786377\n",
      "Total reward:  61.702414751052856\n",
      "Total reward:  61.68746471405029\n",
      "Total reward:  61.67109298706055\n",
      "Total reward:  61.65302109718323\n",
      "Total reward:  61.63295769691467\n"
     ]
    },
    {
     "name": "stderr",
     "output_type": "stream",
     "text": [
      "DEBUG:minerl.env.malmo.instance.98a683:[13:23:23] [Client thread/INFO]: [CHAT] §l256...\n"
     ]
    },
    {
     "name": "stdout",
     "output_type": "stream",
     "text": [
      "Total reward:  61.61065053939819\n",
      "Total reward:  61.58590531349182\n",
      "Total reward:  61.56891345977783\n",
      "Total reward:  61.570619344711304\n",
      "Total reward:  61.58666229248047\n",
      "Total reward:  61.60078763961792\n",
      "Total reward:  61.60121703147888\n",
      "Total reward:  61.595102310180664\n",
      "Total reward:  61.586161375045776\n",
      "Total reward:  61.57609510421753\n",
      "Total reward:  61.5654833316803\n",
      "Total reward:  61.554325580596924\n"
     ]
    },
    {
     "name": "stderr",
     "output_type": "stream",
     "text": [
      "DEBUG:minerl.env.malmo.instance.98a683:[13:23:23] [Client thread/INFO]: [CHAT] §l255...\n"
     ]
    },
    {
     "name": "stdout",
     "output_type": "stream",
     "text": [
      "Total reward:  61.5423526763916\n",
      "Total reward:  61.52920198440552\n",
      "Total reward:  61.51450991630554\n",
      "Total reward:  61.49987292289734\n",
      "Total reward:  61.482699155807495\n",
      "Total reward:  61.46286654472351\n",
      "Total reward:  61.45039248466492\n",
      "Total reward:  61.45662474632263\n",
      "Total reward:  61.47771143913269\n",
      "Total reward:  61.49798059463501\n",
      "Total reward:  61.50468707084656\n",
      "Total reward:  61.50459599494934\n",
      "Total reward:  61.50127339363098\n",
      "Total reward:  61.496392488479614\n",
      "Total reward:  61.490565061569214\n",
      "Total reward:  61.483839988708496\n",
      "Total reward:  61.47600340843201\n",
      "Total reward:  61.4667432308197\n",
      "Total reward:  61.455734968185425\n",
      "Total reward:  61.442689180374146\n",
      "Total reward:  61.427369832992554\n",
      "Total reward:  61.409595012664795\n"
     ]
    },
    {
     "name": "stderr",
     "output_type": "stream",
     "text": [
      "DEBUG:minerl.env.malmo.instance.98a683:[13:23:23] [Client thread/INFO]: [CHAT] §l254...\n"
     ]
    },
    {
     "name": "stdout",
     "output_type": "stream",
     "text": [
      "Total reward:  61.39966058731079\n",
      "Total reward:  61.409568309783936\n",
      "Total reward:  61.435553550720215\n",
      "Total reward:  61.46167778968811\n",
      "Total reward:  61.47369194030762\n",
      "Total reward:  61.47834229469299\n",
      "Total reward:  61.4792377948761\n",
      "Total reward:  61.47811436653137\n",
      "Total reward:  61.47564482688904\n",
      "Total reward:  61.47193384170532\n",
      "Total reward:  61.466811656951904\n",
      "Total reward:  61.46000075340271\n",
      "Total reward:  61.45120334625244\n",
      "Total reward:  61.44015097618103\n",
      "Total reward:  61.426621437072754\n",
      "Total reward:  61.42021703720093\n",
      "Total reward:  61.432466983795166\n",
      "Total reward:  61.45931792259216\n",
      "Total reward:  61.48652410507202\n",
      "Total reward:  61.499794483184814\n",
      "Total reward:  61.50598883628845\n",
      "Total reward:  61.50874423980713\n",
      "Total reward:  61.50977301597595\n"
     ]
    },
    {
     "name": "stderr",
     "output_type": "stream",
     "text": [
      "DEBUG:minerl.env.malmo.instance.98a683:[13:23:23] [Client thread/INFO]: [CHAT] §l253...\n"
     ]
    },
    {
     "name": "stdout",
     "output_type": "stream",
     "text": [
      "Total reward:  61.50970196723938\n",
      "Total reward:  61.50858116149902\n",
      "Total reward:  61.50618529319763\n",
      "Total reward:  61.502182483673096\n",
      "Total reward:  61.49622631072998\n",
      "Total reward:  61.48800468444824\n",
      "Total reward:  61.47725796699524\n",
      "Total reward:  61.463786125183105\n",
      "Total reward:  61.45757055282593\n",
      "Total reward:  61.470725774765015\n",
      "Total reward:  61.4994158744812\n",
      "Total reward:  61.52783203125\n",
      "Total reward:  61.54206609725952\n",
      "Total reward:  61.54892826080322\n",
      "Total reward:  61.55204248428345\n",
      "Total reward:  61.55312967300415\n",
      "Total reward:  61.55283284187317\n",
      "Total reward:  61.55122137069702\n",
      "Total reward:  61.54809093475342\n",
      "Total reward:  61.543129205703735\n",
      "Total reward:  61.53601002693176\n",
      "Total reward:  61.52644157409668\n",
      "Total reward:  61.51418495178223\n",
      "Total reward:  61.49905753135681\n"
     ]
    },
    {
     "name": "stderr",
     "output_type": "stream",
     "text": [
      "DEBUG:minerl.env.malmo.instance.98a683:[13:23:24] [Client thread/INFO]: [CHAT] §l252...\n",
      "DEBUG:minerl.env.malmo.instance.98a683:[13:23:24] [Client thread/INFO]: [CHAT] §l251...\n"
     ]
    },
    {
     "name": "stdout",
     "output_type": "stream",
     "text": [
      "Total reward:  61.491724729537964\n",
      "Total reward:  61.50498008728027\n",
      "Total reward:  61.53494715690613\n",
      "Total reward:  61.56508207321167\n",
      "Total reward:  61.58015275001526\n",
      "Total reward:  61.58716821670532\n",
      "Total reward:  61.58990216255188\n",
      "Total reward:  61.59018588066101\n",
      "Total reward:  61.58874249458313\n",
      "Total reward:  61.58701229095459\n",
      "Total reward:  61.583250999450684\n",
      "Total reward:  61.57723379135132\n",
      "Total reward:  61.56870746612549\n",
      "Total reward:  61.557440757751465\n",
      "Total reward:  61.54324746131897\n",
      "Total reward:  61.536203145980835\n",
      "Total reward:  61.54834008216858\n",
      "Total reward:  61.57542014122009\n",
      "Total reward:  61.60125946998596\n",
      "Total reward:  61.61258292198181\n",
      "Total reward:  61.616539001464844\n",
      "Total reward:  61.61690640449524\n",
      "Total reward:  61.61546039581299\n",
      "Total reward:  61.612841844558716\n"
     ]
    },
    {
     "name": "stderr",
     "output_type": "stream",
     "text": [
      "DEBUG:minerl.env.malmo.instance.98a683:[13:23:24] [Client thread/INFO]: [CHAT] §l250...\n"
     ]
    },
    {
     "name": "stdout",
     "output_type": "stream",
     "text": [
      "Total reward:  61.609094858169556\n",
      "Total reward:  61.603981256484985\n",
      "Total reward:  61.59715747833252\n",
      "Total reward:  61.58826780319214\n",
      "Total reward:  61.57699728012085\n",
      "Total reward:  61.563088178634644\n",
      "Total reward:  61.546348333358765\n",
      "Total reward:  61.53708338737488\n",
      "Total reward:  61.54743504524231\n",
      "Total reward:  61.573424100875854\n",
      "Total reward:  61.598774909973145\n",
      "Total reward:  61.60964322090149\n",
      "Total reward:  61.61303639411926\n",
      "Total reward:  61.61267304420471\n",
      "Total reward:  61.61031246185303\n",
      "Total reward:  61.60660743713379\n",
      "Total reward:  61.60162615776062\n",
      "Total reward:  61.59515953063965\n",
      "Total reward:  61.586891651153564\n",
      "Total reward:  61.576496839523315\n",
      "Total reward:  61.56368637084961\n",
      "Total reward:  61.548226833343506\n",
      "Total reward:  61.53146409988403\n",
      "Total reward:  61.52235174179077\n",
      "Total reward:  61.53368902206421\n"
     ]
    },
    {
     "name": "stderr",
     "output_type": "stream",
     "text": [
      "DEBUG:minerl.env.malmo.instance.98a683:[13:23:24] [Client thread/INFO]: [CHAT] §l249...\n"
     ]
    },
    {
     "name": "stdout",
     "output_type": "stream",
     "text": [
      "Total reward:  61.56155276298523\n",
      "Total reward:  61.589229345321655\n",
      "Total reward:  61.60168170928955\n",
      "Total reward:  61.60602164268494\n",
      "Total reward:  61.60607862472534\n",
      "Total reward:  61.603713512420654\n",
      "Total reward:  61.59966588020325\n",
      "Total reward:  61.59407639503479\n",
      "Total reward:  61.58679437637329\n",
      "Total reward:  61.57755446434021\n",
      "Total reward:  61.56607270240784\n",
      "Total reward:  61.55209517478943\n",
      "Total reward:  61.5354163646698\n",
      "Total reward:  61.52606415748596\n",
      "Total reward:  61.55609679222107\n",
      "Total reward:  61.63959884643555\n",
      "Total reward:  61.7221565246582\n",
      "Total reward:  61.78310251235962\n",
      "Total reward:  61.83015990257263\n",
      "Total reward:  61.867844104766846\n",
      "Total reward:  61.89861798286438\n",
      "Total reward:  61.92369341850281\n",
      "Total reward:  61.9435601234436\n",
      "Total reward:  61.95832061767578\n",
      "Total reward:  61.967896938323975\n",
      "Total reward:  61.972153663635254\n"
     ]
    },
    {
     "name": "stderr",
     "output_type": "stream",
     "text": [
      "DEBUG:minerl.env.malmo.instance.98a683:[13:23:24] [Client thread/INFO]: [CHAT] §l248...\n"
     ]
    },
    {
     "name": "stdout",
     "output_type": "stream",
     "text": [
      "Total reward:  61.97096562385559\n",
      "Total reward:  61.96425771713257\n",
      "Total reward:  61.952019453048706\n",
      "Total reward:  61.94669723510742\n",
      "Total reward:  61.96359133720398\n",
      "Total reward:  61.99807024002075\n",
      "Total reward:  62.030683279037476\n",
      "Total reward:  62.044299364089966\n",
      "Total reward:  62.04738783836365\n",
      "Total reward:  62.04508948326111\n",
      "Total reward:  62.03903007507324\n",
      "Total reward:  62.03015089035034\n",
      "Total reward:  62.018678188323975\n",
      "Total reward:  62.004499197006226\n",
      "Total reward:  61.98737192153931\n",
      "Total reward:  61.96704459190369\n",
      "Total reward:  61.943307876586914\n",
      "Total reward:  61.916022300720215\n",
      "Total reward:  61.88512063026428\n",
      "Total reward:  61.86315727233887\n",
      "Total reward:  61.86335492134094\n",
      "Total reward:  61.881020069122314\n",
      "Total reward:  61.89700198173523\n",
      "Total reward:  61.896047830581665\n",
      "Total reward:  61.88629651069641\n"
     ]
    },
    {
     "name": "stderr",
     "output_type": "stream",
     "text": [
      "DEBUG:minerl.env.malmo.instance.98a683:[13:23:24] [Client thread/INFO]: [CHAT] §l247...\n",
      "DEBUG:minerl.env.malmo.instance.98a683:[13:23:25] [Client thread/INFO]: [CHAT] §l246...\n"
     ]
    },
    {
     "name": "stdout",
     "output_type": "stream",
     "text": [
      "Total reward:  61.87208962440491\n",
      "Total reward:  61.85550594329834\n",
      "Total reward:  61.837355613708496\n",
      "Total reward:  61.81778693199158\n",
      "Total reward:  61.79663920402527\n",
      "Total reward:  61.77364158630371\n",
      "Total reward:  61.74851608276367\n",
      "Total reward:  61.72102665901184\n",
      "Total reward:  61.69099831581116\n",
      "Total reward:  61.669090032577515\n",
      "Total reward:  61.66619253158569\n",
      "Total reward:  61.67772388458252\n",
      "Total reward:  61.68680000305176\n",
      "Total reward:  61.68187594413757\n",
      "Total reward:  61.67037582397461\n",
      "Total reward:  61.65613913536072\n",
      "Total reward:  61.64090824127197\n",
      "Total reward:  61.62526869773865\n",
      "Total reward:  61.609211921691895\n",
      "Total reward:  61.59440493583679\n",
      "Total reward:  61.578107833862305\n",
      "Total reward:  61.560030937194824\n",
      "Total reward:  61.53991889953613\n",
      "Total reward:  61.51756763458252\n",
      "Total reward:  61.492830753326416\n",
      "Total reward:  61.47582197189331\n"
     ]
    },
    {
     "name": "stderr",
     "output_type": "stream",
     "text": [
      "DEBUG:minerl.env.malmo.instance.98a683:[13:23:25] [Client thread/INFO]: [CHAT] §l245...\n"
     ]
    },
    {
     "name": "stdout",
     "output_type": "stream",
     "text": [
      "Total reward:  61.477461099624634\n",
      "Total reward:  61.493823766708374\n",
      "Total reward:  61.509114265441895\n",
      "Total reward:  61.51112699508667\n",
      "Total reward:  61.50665092468262\n",
      "Total reward:  61.49924087524414\n",
      "Total reward:  61.49054789543152\n",
      "Total reward:  61.481157302856445\n",
      "Total reward:  61.47110033035278\n",
      "Total reward:  61.46014881134033\n",
      "Total reward:  61.44798016548157\n",
      "Total reward:  61.434266090393066\n",
      "Total reward:  61.41871404647827\n",
      "Total reward:  61.401084899902344\n",
      "Total reward:  61.38119554519653\n",
      "Total reward:  61.36924624443054\n",
      "Total reward:  61.376868724823\n",
      "Total reward:  61.400328159332275\n",
      "Total reward:  61.423866987228394\n",
      "Total reward:  61.43368601799011\n",
      "Total reward:  61.43644428253174\n",
      "Total reward:  61.435691118240356\n",
      "Total reward:  61.433125257492065\n",
      "Total reward:  61.429399251937866\n",
      "Total reward:  61.42460536956787\n",
      "Total reward:  61.41857099533081\n"
     ]
    },
    {
     "name": "stderr",
     "output_type": "stream",
     "text": [
      "DEBUG:minerl.env.malmo.instance.98a683:[13:23:25] [Client thread/INFO]: [CHAT] §l244...\n"
     ]
    },
    {
     "name": "stdout",
     "output_type": "stream",
     "text": [
      "Total reward:  61.411015033721924\n",
      "Total reward:  61.401639461517334\n",
      "Total reward:  61.390174865722656\n",
      "Total reward:  61.37647485733032\n",
      "Total reward:  61.369885206222534\n",
      "Total reward:  61.38171124458313\n",
      "Total reward:  61.407975912094116\n",
      "Total reward:  61.43347406387329\n",
      "Total reward:  61.44561195373535\n",
      "Total reward:  61.451091051101685\n",
      "Total reward:  61.45344138145447\n",
      "Total reward:  61.454309701919556\n",
      "Total reward:  61.454285621643066\n",
      "Total reward:  61.4533953666687\n",
      "Total reward:  61.45139813423157\n",
      "Total reward:  61.44795298576355\n",
      "Total reward:  61.44270443916321\n",
      "Total reward:  61.435333013534546\n",
      "Total reward:  61.42557096481323\n",
      "Total reward:  61.413209676742554\n",
      "Total reward:  61.40805625915527\n",
      "Total reward:  61.422139167785645\n",
      "Total reward:  61.45169734954834\n",
      "Total reward:  61.481186866760254\n",
      "Total reward:  61.49672293663025\n",
      "Total reward:  61.5049991607666\n"
     ]
    },
    {
     "name": "stderr",
     "output_type": "stream",
     "text": [
      "DEBUG:minerl.env.malmo.instance.98a683:[13:23:25] [Client thread/INFO]: [CHAT] §l243...\n",
      "DEBUG:minerl.env.malmo.instance.98a683:[13:23:25] [Client thread/INFO]: [CHAT] §l242...\n"
     ]
    },
    {
     "name": "stdout",
     "output_type": "stream",
     "text": [
      "Total reward:  61.50957798957825\n",
      "Total reward:  61.51215600967407\n",
      "Total reward:  61.513367652893066\n",
      "Total reward:  61.51328182220459\n",
      "Total reward:  61.51169466972351\n",
      "Total reward:  61.508296728134155\n",
      "Total reward:  61.502763509750366\n",
      "Total reward:  61.49480080604553\n",
      "Total reward:  61.48416590690613\n",
      "Total reward:  61.470672845840454\n",
      "Total reward:  61.46489500999451\n",
      "Total reward:  61.47970199584961\n",
      "Total reward:  61.51127099990845\n",
      "Total reward:  61.54319095611572\n",
      "Total reward:  61.560072898864746\n",
      "Total reward:  61.57006335258484\n",
      "Total reward:  61.575474977493286\n",
      "Total reward:  61.57817196846008\n",
      "Total reward:  61.57891535758972\n",
      "Total reward:  61.57786774635315\n",
      "Total reward:  61.574896812438965\n",
      "Total reward:  61.56975173950195\n",
      "Total reward:  61.56215500831604\n",
      "Total reward:  61.55185675621033\n",
      "Total reward:  61.538654088974\n",
      "Total reward:  61.53261184692383\n"
     ]
    },
    {
     "name": "stderr",
     "output_type": "stream",
     "text": [
      "DEBUG:minerl.env.malmo.instance.98a683:[13:23:25] [Client thread/INFO]: [CHAT] §l241...\n"
     ]
    },
    {
     "name": "stdout",
     "output_type": "stream",
     "text": [
      "Total reward:  61.545884132385254\n",
      "Total reward:  61.57424330711365\n",
      "Total reward:  61.6014928817749\n",
      "Total reward:  61.61413836479187\n",
      "Total reward:  61.61932587623596\n",
      "Total reward:  61.62083959579468\n",
      "Total reward:  61.633660316467285\n",
      "Total reward:  61.685872316360474\n",
      "Total reward:  61.72926378250122\n",
      "Total reward:  61.76476502418518\n",
      "Total reward:  61.792906284332275\n",
      "Total reward:  61.81399989128113\n",
      "Total reward:  61.828251123428345\n",
      "Total reward:  61.83582425117493\n",
      "Total reward:  61.836880683898926\n",
      "Total reward:  61.84344840049744\n",
      "Total reward:  61.87184548377991\n",
      "Total reward:  61.91790556907654\n",
      "Total reward:  61.96300292015076\n",
      "Total reward:  61.9887855052948\n",
      "Total reward:  62.00337219238281\n",
      "Total reward:  62.011255502700806\n",
      "Total reward:  62.01469087600708\n",
      "Total reward:  62.01463580131531\n",
      "Total reward:  62.01134634017944\n"
     ]
    },
    {
     "name": "stderr",
     "output_type": "stream",
     "text": [
      "DEBUG:minerl.env.malmo.instance.98a683:[13:23:25] [Client thread/INFO]: [CHAT] §l240...\n"
     ]
    },
    {
     "name": "stdout",
     "output_type": "stream",
     "text": [
      "Total reward:  62.00473618507385\n",
      "Total reward:  61.994587421417236\n",
      "Total reward:  61.98074555397034\n",
      "Total reward:  61.962923526763916\n",
      "Total reward:  61.94100022315979\n",
      "Total reward:  61.9149284362793\n",
      "Total reward:  61.89749360084534\n",
      "Total reward:  61.90278172492981\n",
      "Total reward:  61.92609524726868\n",
      "Total reward:  61.94790554046631\n",
      "Total reward:  61.951863288879395\n",
      "Total reward:  61.946282625198364\n",
      "Total reward:  61.935646295547485\n",
      "Total reward:  61.92212677001953\n",
      "Total reward:  61.9065945148468\n",
      "Total reward:  61.88923406600952\n",
      "Total reward:  61.86990737915039\n",
      "Total reward:  61.84835863113403\n",
      "Total reward:  61.824320793151855\n",
      "Total reward:  61.797569274902344\n",
      "Total reward:  61.76794457435608\n",
      "Total reward:  61.746485233306885\n",
      "Total reward:  61.74459409713745\n",
      "Total reward:  61.75752830505371\n",
      "Total reward:  61.7678108215332\n",
      "Total reward:  61.763341665267944\n",
      "Total reward:  61.751819133758545\n"
     ]
    },
    {
     "name": "stderr",
     "output_type": "stream",
     "text": [
      "DEBUG:minerl.env.malmo.instance.98a683:[13:23:26] [Client thread/INFO]: [CHAT] §l239...\n",
      "DEBUG:minerl.env.malmo.instance.98a683:[13:23:26] [Client thread/INFO]: [CHAT] §l238...\n"
     ]
    },
    {
     "name": "stdout",
     "output_type": "stream",
     "text": [
      "Total reward:  61.73724102973938\n",
      "Total reward:  61.72143220901489\n",
      "Total reward:  61.705018520355225\n",
      "Total reward:  61.68800926208496\n",
      "Total reward:  61.67013216018677\n",
      "Total reward:  61.65102243423462\n",
      "Total reward:  61.630319118499756\n",
      "Total reward:  61.60770893096924\n",
      "Total reward:  61.58294486999512\n",
      "Total reward:  61.55584907531738\n",
      "Total reward:  61.53822135925293\n",
      "Total reward:  61.53943204879761\n",
      "Total reward:  61.55546569824219\n",
      "Total reward:  61.570138692855835\n",
      "Total reward:  61.571045875549316\n",
      "Total reward:  61.565171241760254\n",
      "Total reward:  61.556177377700806\n",
      "Total reward:  61.54577398300171\n",
      "Total reward:  61.53457736968994\n",
      "Total reward:  61.52263617515564\n",
      "Total reward:  61.50973081588745\n",
      "Total reward:  61.49554657936096\n",
      "Total reward:  61.479761600494385\n",
      "Total reward:  61.46209144592285\n",
      "Total reward:  61.44230675697327\n",
      "Total reward:  61.42023468017578\n",
      "Total reward:  61.4062385559082\n"
     ]
    },
    {
     "name": "stderr",
     "output_type": "stream",
     "text": [
      "DEBUG:minerl.env.malmo.instance.98a683:[13:23:26] [Client thread/INFO]: [CHAT] §l237...\n"
     ]
    },
    {
     "name": "stdout",
     "output_type": "stream",
     "text": [
      "Total reward:  61.41189694404602\n",
      "Total reward:  61.43341016769409\n",
      "Total reward:  61.45480966567993\n",
      "Total reward:  61.46240592002869\n",
      "Total reward:  61.462942600250244\n",
      "Total reward:  61.460007429122925\n",
      "Total reward:  61.45531225204468\n",
      "Total reward:  61.44951272010803\n",
      "Total reward:  61.44270086288452\n",
      "Total reward:  61.43470001220703\n",
      "Total reward:  61.42522740364075\n",
      "Total reward:  61.413986921310425\n",
      "Total reward:  61.40070939064026\n",
      "Total reward:  61.385173320770264\n",
      "Total reward:  61.37686109542847\n",
      "Total reward:  61.38691544532776\n",
      "Total reward:  61.411338329315186\n",
      "Total reward:  61.43489122390747\n",
      "Total reward:  61.44519066810608\n",
      "Total reward:  61.45186686515808\n",
      "Total reward:  61.45492625236511\n",
      "Total reward:  61.45611310005188\n",
      "Total reward:  61.456095933914185\n",
      "Total reward:  61.45496964454651\n"
     ]
    },
    {
     "name": "stderr",
     "output_type": "stream",
     "text": [
      "DEBUG:minerl.env.malmo.instance.98a683:[13:23:26] [Client thread/INFO]: [CHAT] §l236...\n"
     ]
    },
    {
     "name": "stdout",
     "output_type": "stream",
     "text": [
      "Total reward:  61.45254850387573\n",
      "Total reward:  61.44853496551514\n",
      "Total reward:  61.442612409591675\n",
      "Total reward:  61.4344916343689\n",
      "Total reward:  61.423929929733276\n",
      "Total reward:  61.4107403755188\n",
      "Total reward:  61.40475344657898\n",
      "Total reward:  61.417908668518066\n",
      "Total reward:  61.446446895599365\n",
      "Total reward:  61.47483849525452\n",
      "Total reward:  61.489341735839844\n",
      "Total reward:  61.496644496917725\n",
      "Total reward:  61.50030779838562\n",
      "Total reward:  61.50202202796936\n",
      "Total reward:  61.502421855926514\n",
      "Total reward:  61.50157642364502\n",
      "Total reward:  61.499284982681274\n",
      "Total reward:  61.49523949623108\n",
      "Total reward:  61.48911809921265\n",
      "Total reward:  61.480628967285156\n",
      "Total reward:  61.46953058242798\n",
      "Total reward:  61.45563769340515\n",
      "Total reward:  61.44947624206543\n",
      "Total reward:  61.463810443878174\n",
      "Total reward:  61.494834899902344\n",
      "Total reward:  61.52622365951538\n",
      "Total reward:  61.54270911216736\n",
      "Total reward:  61.55120015144348\n"
     ]
    },
    {
     "name": "stderr",
     "output_type": "stream",
     "text": [
      "DEBUG:minerl.env.malmo.instance.98a683:[13:23:26] [Client thread/INFO]: [CHAT] §l235...\n",
      "DEBUG:minerl.env.malmo.instance.98a683:[13:23:26] [Client thread/INFO]: [CHAT] §l234...\n"
     ]
    },
    {
     "name": "stdout",
     "output_type": "stream",
     "text": [
      "Total reward:  61.55542230606079\n",
      "Total reward:  61.55718779563904\n",
      "Total reward:  61.55721712112427\n",
      "Total reward:  61.555641174316406\n",
      "Total reward:  61.55230402946472\n",
      "Total reward:  61.5483934879303\n",
      "Total reward:  61.54185485839844\n",
      "Total reward:  61.532477140426636\n",
      "Total reward:  61.52009057998657\n",
      "Total reward:  61.514732360839844\n",
      "Total reward:  61.5285918712616\n",
      "Total reward:  61.55748224258423\n",
      "Total reward:  61.5852997303009\n",
      "Total reward:  61.59852623939514\n",
      "Total reward:  61.604275703430176\n",
      "Total reward:  61.60632348060608\n",
      "Total reward:  61.606449365615845\n",
      "Total reward:  61.605305433273315\n",
      "Total reward:  61.60294842720032\n",
      "Total reward:  61.599146604537964\n",
      "Total reward:  61.59356236457825\n",
      "Total reward:  61.585845947265625\n",
      "Total reward:  61.57568550109863\n",
      "Total reward:  61.60529375076294\n",
      "Total reward:  61.56129503250122\n",
      "Total reward:  61.48550772666931\n",
      "Total reward:  61.42195010185242\n"
     ]
    },
    {
     "name": "stderr",
     "output_type": "stream",
     "text": [
      "DEBUG:minerl.env.malmo.instance.98a683:[13:23:27] [Client thread/INFO]: [CHAT] §l233...\n"
     ]
    },
    {
     "name": "stdout",
     "output_type": "stream",
     "text": [
      "Total reward:  61.388113498687744\n",
      "Total reward:  61.39331245422363\n",
      "Total reward:  61.440800189971924\n",
      "Total reward:  61.52872014045715\n",
      "Total reward:  61.64985752105713\n",
      "Total reward:  61.79011821746826\n",
      "Total reward:  61.92572045326233\n",
      "Total reward:  62.02023673057556\n",
      "Total reward:  62.03567576408386\n",
      "Total reward:  62.0261116027832\n",
      "Total reward:  62.01098346710205\n",
      "Total reward:  61.99143385887146\n",
      "Total reward:  61.96808457374573\n",
      "Total reward:  61.94127941131592\n",
      "Total reward:  61.91121983528137\n",
      "Total reward:  61.8780472278595\n",
      "Total reward:  61.843085527420044\n",
      "Total reward:  61.80497431755066\n",
      "Total reward:  61.76389455795288\n",
      "Total reward:  61.731876850128174\n",
      "Total reward:  61.720253467559814\n",
      "Total reward:  61.72497916221619\n",
      "Total reward:  61.72835159301758\n",
      "Total reward:  61.71738958358765\n",
      "Total reward:  61.69944620132446\n",
      "Total reward:  61.678369998931885\n",
      "Total reward:  61.65595269203186\n"
     ]
    },
    {
     "name": "stderr",
     "output_type": "stream",
     "text": [
      "DEBUG:minerl.env.malmo.instance.98a683:[13:23:27] [Client thread/INFO]: [CHAT] §l232...\n"
     ]
    },
    {
     "name": "stdout",
     "output_type": "stream",
     "text": [
      "Total reward:  61.63284945487976\n",
      "Total reward:  61.609129667282104\n",
      "Total reward:  61.5845947265625\n",
      "Total reward:  61.55895185470581\n",
      "Total reward:  61.53190779685974\n",
      "Total reward:  61.50320816040039\n",
      "Total reward:  61.47265672683716\n",
      "Total reward:  61.45046329498291\n",
      "Total reward:  61.44693422317505\n",
      "Total reward:  61.45790648460388\n",
      "Total reward:  61.467453718185425\n",
      "Total reward:  61.46406006813049\n",
      "Total reward:  61.45459461212158\n",
      "Total reward:  61.44263219833374\n",
      "Total reward:  61.42981767654419\n",
      "Total reward:  61.4167218208313\n",
      "Total reward:  61.403361320495605\n",
      "Total reward:  61.38949465751648\n",
      "Total reward:  61.37478518486023\n",
      "Total reward:  61.358893394470215\n",
      "Total reward:  61.34151363372803\n",
      "Total reward:  61.32239389419556\n",
      "Total reward:  61.3013391494751\n",
      "Total reward:  61.287639141082764\n",
      "Total reward:  61.29296827316284\n",
      "Total reward:  61.31367564201355\n"
     ]
    },
    {
     "name": "stderr",
     "output_type": "stream",
     "text": [
      "DEBUG:minerl.env.malmo.instance.98a683:[13:23:27] [Client thread/INFO]: [CHAT] §l231...\n"
     ]
    },
    {
     "name": "stdout",
     "output_type": "stream",
     "text": [
      "Total reward:  61.33451437950134\n",
      "Total reward:  61.342456579208374\n",
      "Total reward:  61.34393000602722\n",
      "Total reward:  61.34233617782593\n",
      "Total reward:  61.33928608894348\n",
      "Total reward:  61.335381269454956\n",
      "Total reward:  61.330687046051025\n",
      "Total reward:  61.32501268386841\n",
      "Total reward:  61.31806707382202\n",
      "Total reward:  61.30954360961914\n",
      "Total reward:  61.29916286468506\n",
      "Total reward:  61.28669214248657\n",
      "Total reward:  61.281211376190186\n",
      "Total reward:  61.2937126159668\n",
      "Total reward:  61.320348262786865\n",
      "Total reward:  61.34643888473511\n",
      "Total reward:  61.35972046852112\n",
      "Total reward:  61.366671562194824\n",
      "Total reward:  61.37070035934448\n",
      "Total reward:  61.37339234352112\n",
      "Total reward:  61.37530779838562\n",
      "Total reward:  61.37646460533142\n",
      "Total reward:  61.376620054244995\n",
      "Total reward:  61.37542939186096\n",
      "Total reward:  61.3725380897522\n",
      "Total reward:  61.36762261390686\n"
     ]
    },
    {
     "name": "stderr",
     "output_type": "stream",
     "text": [
      "DEBUG:minerl.env.malmo.instance.98a683:[13:23:27] [Client thread/INFO]: [CHAT] §l230...\n",
      "DEBUG:minerl.env.malmo.instance.98a683:[13:23:27] [Client thread/INFO]: [CHAT] §l229...\n"
     ]
    },
    {
     "name": "stdout",
     "output_type": "stream",
     "text": [
      "Total reward:  61.36040925979614\n",
      "Total reward:  61.350679874420166\n",
      "Total reward:  61.3479642868042\n",
      "Total reward:  61.3642463684082\n",
      "Total reward:  61.39586114883423\n",
      "Total reward:  61.427637815475464\n",
      "Total reward:  61.44571542739868\n",
      "Total reward:  61.4566433429718\n",
      "Total reward:  61.46654915809631\n",
      "Total reward:  61.473928689956665\n",
      "Total reward:  61.479496240615845\n",
      "Total reward:  61.483393907547\n",
      "Total reward:  61.485480070114136\n",
      "Total reward:  61.48549437522888\n",
      "Total reward:  61.48315143585205\n",
      "Total reward:  61.47818565368652\n",
      "Total reward:  61.47037744522095\n",
      "Total reward:  61.459555864334106\n",
      "Total reward:  61.4562132358551\n",
      "Total reward:  61.47342324256897\n",
      "Total reward:  61.50739669799805\n",
      "Total reward:  61.54181265830994\n",
      "Total reward:  61.561078786849976\n"
     ]
    },
    {
     "name": "stderr",
     "output_type": "stream",
     "text": [
      "DEBUG:minerl.env.malmo.instance.98a683:[13:23:27] [Client thread/INFO]: [CHAT] §l228...\n"
     ]
    },
    {
     "name": "stdout",
     "output_type": "stream",
     "text": [
      "Total reward:  61.57213044166565\n",
      "Total reward:  61.578718423843384\n",
      "Total reward:  61.58267307281494\n",
      "Total reward:  61.58472418785095\n",
      "Total reward:  61.58501219749451\n",
      "Total reward:  61.58338236808777\n",
      "Total reward:  61.57956385612488\n",
      "Total reward:  61.573265075683594\n",
      "Total reward:  61.56421971321106\n",
      "Total reward:  61.55221223831177\n",
      "Total reward:  61.54729652404785\n",
      "Total reward:  61.56176424026489\n",
      "Total reward:  61.591370820999146\n",
      "Total reward:  61.61986780166626\n",
      "Total reward:  61.633626222610474\n",
      "Total reward:  61.639824628829956\n",
      "Total reward:  61.64226675033569\n",
      "Total reward:  61.64274263381958\n",
      "Total reward:  61.641902923583984\n",
      "Total reward:  61.63979363441467\n",
      "Total reward:  61.63617467880249\n",
      "Total reward:  61.63069820404053\n",
      "Total reward:  61.62300729751587\n",
      "Total reward:  61.61278200149536\n",
      "Total reward:  61.59954476356506\n",
      "Total reward:  61.58336687088013\n",
      "Total reward:  61.57466387748718\n"
     ]
    },
    {
     "name": "stderr",
     "output_type": "stream",
     "text": [
      "DEBUG:minerl.env.malmo.instance.98a683:[13:23:27] [Client thread/INFO]: [CHAT] §l227...\n"
     ]
    },
    {
     "name": "stdout",
     "output_type": "stream",
     "text": [
      "Total reward:  61.58579087257385\n",
      "Total reward:  61.612711906433105\n",
      "Total reward:  61.63893461227417\n",
      "Total reward:  61.650384187698364\n",
      "Total reward:  61.654167890548706\n",
      "Total reward:  61.65406060218811\n",
      "Total reward:  61.651848793029785\n",
      "Total reward:  61.64819526672363\n",
      "Total reward:  61.643171072006226\n",
      "Total reward:  61.63656497001648\n",
      "Total reward:  61.628058433532715\n",
      "Total reward:  61.617324352264404\n",
      "Total reward:  61.60407209396362\n",
      "Total reward:  61.58807039260864\n",
      "Total reward:  61.59473896026611\n",
      "Total reward:  61.54940223693848\n",
      "Total reward:  61.507269620895386\n",
      "Total reward:  61.487586975097656\n",
      "Total reward:  61.50100541114807\n",
      "Total reward:  61.551472425460815\n",
      "Total reward:  61.637125968933105\n",
      "Total reward:  61.749985694885254\n",
      "Total reward:  61.87435746192932\n",
      "Total reward:  61.984230518341064\n",
      "Total reward:  62.04034781455994\n",
      "Total reward:  62.04463577270508\n",
      "Total reward:  62.04095792770386\n",
      "Total reward:  62.032302379608154\n"
     ]
    },
    {
     "name": "stderr",
     "output_type": "stream",
     "text": [
      "DEBUG:minerl.env.malmo.instance.98a683:[13:23:28] [Client thread/INFO]: [CHAT] §l226...\n",
      "DEBUG:minerl.env.malmo.instance.98a683:[13:23:28] [Client thread/INFO]: [CHAT] §l225...\n"
     ]
    },
    {
     "name": "stdout",
     "output_type": "stream",
     "text": [
      "Total reward:  62.01932883262634\n",
      "Total reward:  62.00235438346863\n",
      "Total reward:  61.98153018951416\n",
      "Total reward:  61.956947326660156\n",
      "Total reward:  61.928688764572144\n",
      "Total reward:  61.89684987068176\n",
      "Total reward:  61.86186075210571\n",
      "Total reward:  61.82348132133484\n",
      "Total reward:  61.79404902458191\n",
      "Total reward:  61.7856228351593\n",
      "Total reward:  61.79406142234802\n",
      "Total reward:  61.8011417388916\n",
      "Total reward:  61.79299354553223\n",
      "Total reward:  61.777199506759644\n",
      "Total reward:  61.757758378982544\n",
      "Total reward:  61.736555099487305\n",
      "Total reward:  61.71430277824402\n",
      "Total reward:  61.69110703468323\n",
      "Total reward:  61.66679310798645\n",
      "Total reward:  61.641088008880615\n",
      "Total reward:  61.61371564865112\n",
      "Total reward:  61.58443760871887\n",
      "Total reward:  61.5530743598938\n",
      "Total reward:  61.530171394348145\n",
      "Total reward:  61.526344537734985\n",
      "Total reward:  61.53728771209717\n",
      "Total reward:  61.54658007621765\n"
     ]
    },
    {
     "name": "stderr",
     "output_type": "stream",
     "text": [
      "DEBUG:minerl.env.malmo.instance.98a683:[13:23:28] [Client thread/INFO]: [CHAT] §l224...\n"
     ]
    },
    {
     "name": "stdout",
     "output_type": "stream",
     "text": [
      "Total reward:  61.542407751083374\n",
      "Total reward:  61.531864404678345\n",
      "Total reward:  61.51864266395569\n",
      "Total reward:  61.50444436073303\n",
      "Total reward:  61.48986601829529\n",
      "Total reward:  61.47493076324463\n",
      "Total reward:  61.45939826965332\n",
      "Total reward:  61.44293284416199\n",
      "Total reward:  61.425193071365356\n",
      "Total reward:  61.405877113342285\n",
      "Total reward:  61.38473987579346\n",
      "Total reward:  61.36159300804138\n",
      "Total reward:  61.34650897979736\n",
      "Total reward:  61.35072469711304\n",
      "Total reward:  61.37034225463867\n",
      "Total reward:  61.389806509017944\n",
      "Total reward:  61.39604735374451\n",
      "Total reward:  61.3956413269043\n",
      "Total reward:  61.39207434654236\n",
      "Total reward:  61.38699793815613\n",
      "Total reward:  61.38103246688843\n",
      "Total reward:  61.37425208091736\n",
      "Total reward:  61.36647057533264\n",
      "Total reward:  61.3574001789093\n",
      "Total reward:  61.34673881530762\n",
      "Total reward:  61.33421277999878\n",
      "Total reward:  61.31959390640259\n"
     ]
    },
    {
     "name": "stderr",
     "output_type": "stream",
     "text": [
      "DEBUG:minerl.env.malmo.instance.98a683:[13:23:28] [Client thread/INFO]: [CHAT] §l223...\n"
     ]
    },
    {
     "name": "stdout",
     "output_type": "stream",
     "text": [
      "Total reward:  61.31206941604614\n",
      "Total reward:  61.322514295578\n",
      "Total reward:  61.3470299243927\n",
      "Total reward:  61.37079668045044\n",
      "Total reward:  61.38175582885742\n",
      "Total reward:  61.3864426612854\n",
      "Total reward:  61.38828682899475\n",
      "Total reward:  61.38887810707092\n",
      "Total reward:  61.3887734413147\n",
      "Total reward:  61.38798403739929\n",
      "Total reward:  61.38626146316528\n",
      "Total reward:  61.383259296417236\n",
      "Total reward:  61.378620624542236\n",
      "Total reward:  61.37202024459839\n",
      "Total reward:  61.3631865978241\n",
      "Total reward:  61.351903676986694\n",
      "Total reward:  61.34770393371582\n",
      "Total reward:  61.362389087677\n",
      "Total reward:  61.39228582382202\n",
      "Total reward:  61.42223882675171\n",
      "Total reward:  61.438636779785156\n",
      "Total reward:  61.448017597198486\n",
      "Total reward:  61.453858852386475\n",
      "Total reward:  61.46005630493164\n",
      "Total reward:  61.464521408081055\n",
      "Total reward:  61.46739411354065\n",
      "Total reward:  61.46853423118591\n"
     ]
    },
    {
     "name": "stderr",
     "output_type": "stream",
     "text": [
      "DEBUG:minerl.env.malmo.instance.98a683:[13:23:28] [Client thread/INFO]: [CHAT] §l222...\n",
      "DEBUG:minerl.env.malmo.instance.98a683:[13:23:28] [Client thread/INFO]: [CHAT] §l221...\n"
     ]
    },
    {
     "name": "stdout",
     "output_type": "stream",
     "text": [
      "Total reward:  61.4676833152771\n",
      "Total reward:  61.4645562171936\n",
      "Total reward:  61.45889091491699\n",
      "Total reward:  61.45046806335449\n",
      "Total reward:  61.43911957740784\n",
      "Total reward:  61.435256004333496\n",
      "Total reward:  61.451781034469604\n",
      "Total reward:  61.484928131103516\n",
      "Total reward:  61.5185124874115\n",
      "Total reward:  61.537153005599976\n",
      "Total reward:  61.54772758483887\n",
      "Total reward:  61.55395245552063\n",
      "Total reward:  61.55763792991638\n",
      "Total reward:  61.55950355529785\n",
      "Total reward:  61.55968356132507\n",
      "Total reward:  61.55802273750305\n",
      "Total reward:  61.55424904823303\n",
      "Total reward:  61.5480682849884\n",
      "Total reward:  61.53921580314636\n",
      "Total reward:  61.527472257614136\n",
      "Total reward:  61.522796392440796\n",
      "Total reward:  61.53738522529602\n",
      "Total reward:  61.567036628723145\n",
      "Total reward:  61.59565591812134\n",
      "Total reward:  61.60970091819763\n",
      "Total reward:  61.61628222465515\n",
      "Total reward:  61.61916637420654\n"
     ]
    },
    {
     "name": "stderr",
     "output_type": "stream",
     "text": [
      "DEBUG:minerl.env.malmo.instance.98a683:[13:23:29] [Client thread/INFO]: [CHAT] §l220...\n"
     ]
    },
    {
     "name": "stdout",
     "output_type": "stream",
     "text": [
      "Total reward:  61.62012577056885\n",
      "Total reward:  61.61980223655701\n",
      "Total reward:  61.61824035644531\n",
      "Total reward:  61.61520195007324\n",
      "Total reward:  61.610339641571045\n",
      "Total reward:  61.603293895721436\n",
      "Total reward:  61.593745946884155\n",
      "Total reward:  61.583690881729126\n",
      "Total reward:  61.57019090652466\n",
      "Total reward:  61.56370401382446\n",
      "Total reward:  61.57687711715698\n",
      "Total reward:  61.60572910308838\n",
      "Total reward:  61.6338324546814\n",
      "Total reward:  61.6469144821167\n",
      "Total reward:  61.652101278305054\n",
      "Total reward:  61.653197050094604\n",
      "Total reward:  61.652021408081055\n",
      "Total reward:  61.649263858795166\n",
      "Total reward:  61.645018339157104\n",
      "Total reward:  61.63908934593201\n",
      "Total reward:  61.63117480278015\n",
      "Total reward:  61.62095761299133\n",
      "Total reward:  61.608155965805054\n",
      "Total reward:  61.59254574775696\n",
      "Total reward:  61.57396411895752\n",
      "Total reward:  61.58758187294006\n",
      "Total reward:  61.64294457435608\n",
      "Total reward:  61.71539664268494\n"
     ]
    },
    {
     "name": "stderr",
     "output_type": "stream",
     "text": [
      "DEBUG:minerl.env.malmo.instance.98a683:[13:23:29] [Client thread/INFO]: [CHAT] §l219...\n",
      "DEBUG:minerl.env.malmo.instance.98a683:[13:23:29] [Client thread/INFO]: [CHAT] §l218...\n"
     ]
    },
    {
     "name": "stdout",
     "output_type": "stream",
     "text": [
      "Total reward:  61.78822875022888\n",
      "Total reward:  61.83981251716614\n",
      "Total reward:  61.87779664993286\n",
      "Total reward:  61.9066367149353\n",
      "Total reward:  61.92875123023987\n",
      "Total reward:  61.94533038139343\n",
      "Total reward:  61.956862926483154\n",
      "Total reward:  61.96346712112427\n",
      "Total reward:  61.96509623527527\n",
      "Total reward:  61.96165156364441\n",
      "Total reward:  61.953054666519165\n",
      "Total reward:  61.93927454948425\n",
      "Total reward:  61.93233847618103\n",
      "Total reward:  61.94670581817627\n",
      "Total reward:  61.97740721702576\n",
      "Total reward:  62.005306005477905\n",
      "Total reward:  62.0148811340332\n",
      "Total reward:  62.01601028442383\n",
      "Total reward:  62.01167702674866\n",
      "Total reward:  62.00413465499878\n",
      "Total reward:  61.994280099868774\n",
      "Total reward:  61.982290744781494\n",
      "Total reward:  61.96800518035889\n",
      "Total reward:  61.95113921165466\n",
      "Total reward:  61.931396484375\n",
      "Total reward:  61.908530712127686\n",
      "Total reward:  61.88236355781555\n",
      "Total reward:  61.8527934551239\n"
     ]
    },
    {
     "name": "stderr",
     "output_type": "stream",
     "text": [
      "DEBUG:minerl.env.malmo.instance.98a683:[13:23:29] [Client thread/INFO]: [CHAT] §l217...\n"
     ]
    },
    {
     "name": "stdout",
     "output_type": "stream",
     "text": [
      "Total reward:  61.831515073776245\n",
      "Total reward:  61.83084273338318\n",
      "Total reward:  61.846152782440186\n",
      "Total reward:  61.8592312335968\n",
      "Total reward:  61.85656547546387\n",
      "Total reward:  61.84602451324463\n",
      "Total reward:  61.83173942565918\n",
      "Total reward:  61.81563448905945\n",
      "Total reward:  61.79840636253357\n",
      "Total reward:  61.78011918067932\n",
      "Total reward:  61.76054835319519\n",
      "Total reward:  61.739370584487915\n",
      "Total reward:  61.716262102127075\n",
      "Total reward:  61.69094896316528\n",
      "Total reward:  61.66322374343872\n",
      "Total reward:  61.6329460144043\n",
      "Total reward:  61.611308574676514\n",
      "Total reward:  61.6099488735199\n",
      "Total reward:  61.62467956542969\n",
      "Total reward:  61.63835406303406\n",
      "Total reward:  61.63750243186951\n",
      "Total reward:  61.62937569618225\n",
      "Total reward:  61.617802143096924\n",
      "Total reward:  61.60458755493164\n",
      "Total reward:  61.590407609939575\n",
      "Total reward:  61.574585914611816\n",
      "Total reward:  61.557857275009155\n",
      "Total reward:  61.539899587631226\n"
     ]
    },
    {
     "name": "stderr",
     "output_type": "stream",
     "text": [
      "DEBUG:minerl.env.malmo.instance.98a683:[13:23:29] [Client thread/INFO]: [CHAT] §l216...\n"
     ]
    },
    {
     "name": "stdout",
     "output_type": "stream",
     "text": [
      "Total reward:  61.52038359642029\n",
      "Total reward:  61.499024391174316\n",
      "Total reward:  61.47559332847595\n",
      "Total reward:  61.459816455841064\n",
      "Total reward:  61.462225914001465\n",
      "Total reward:  61.47865700721741\n",
      "Total reward:  61.493537187576294\n",
      "Total reward:  61.49544286727905\n",
      "Total reward:  61.491212606430054\n",
      "Total reward:  61.484397649765015\n",
      "Total reward:  61.476617097854614\n",
      "Total reward:  61.46841764450073\n",
      "Total reward:  61.45978808403015\n",
      "Total reward:  61.45045733451843\n",
      "Total reward:  61.44006299972534\n",
      "Total reward:  61.42824101448059\n",
      "Total reward:  61.41466665267944\n",
      "Total reward:  61.39907217025757\n",
      "Total reward:  61.38124966621399\n",
      "Total reward:  61.370837926864624\n",
      "Total reward:  61.3790009021759\n",
      "Total reward:  61.40200138092041\n",
      "Total reward:  61.424609422683716\n",
      "Total reward:  61.434094190597534\n",
      "Total reward:  61.437007904052734\n",
      "Total reward:  61.436800956726074\n",
      "Total reward:  61.435091495513916\n"
     ]
    },
    {
     "name": "stderr",
     "output_type": "stream",
     "text": [
      "DEBUG:minerl.env.malmo.instance.98a683:[13:23:29] [Client thread/INFO]: [CHAT] §l215...\n",
      "DEBUG:minerl.env.malmo.instance.98a683:[13:23:29] [Client thread/INFO]: [CHAT] §l214...\n"
     ]
    },
    {
     "name": "stdout",
     "output_type": "stream",
     "text": [
      "Total reward:  61.43246245384216\n",
      "Total reward:  61.428953886032104\n",
      "Total reward:  61.42434525489807\n",
      "Total reward:  61.418318033218384\n",
      "Total reward:  61.410542011260986\n",
      "Total reward:  61.40240788459778\n",
      "Total reward:  61.39162278175354\n",
      "Total reward:  61.37806010246277\n",
      "Total reward:  61.37193727493286\n",
      "Total reward:  61.38561129570007\n",
      "Total reward:  61.41539263725281\n",
      "Total reward:  61.44549036026001\n",
      "Total reward:  61.46126437187195\n",
      "Total reward:  61.46943259239197\n",
      "Total reward:  61.473610401153564\n",
      "Total reward:  61.475550174713135\n",
      "Total reward:  61.47594618797302\n",
      "Total reward:  61.474921464920044\n",
      "Total reward:  61.47231912612915\n",
      "Total reward:  61.46786952018738\n",
      "Total reward:  61.461283445358276\n",
      "Total reward:  61.45229482650757\n",
      "Total reward:  61.440683126449585\n",
      "Total reward:  61.43609380722046\n",
      "Total reward:  61.45033669471741\n",
      "Total reward:  61.47934603691101\n",
      "Total reward:  61.50754380226135\n"
     ]
    },
    {
     "name": "stderr",
     "output_type": "stream",
     "text": [
      "DEBUG:minerl.env.malmo.instance.98a683:[13:23:30] [Client thread/INFO]: [CHAT] §l213...\n"
     ]
    },
    {
     "name": "stdout",
     "output_type": "stream",
     "text": [
      "Total reward:  61.52177357673645\n",
      "Total reward:  61.5289146900177\n",
      "Total reward:  61.53260517120361\n",
      "Total reward:  61.534552335739136\n",
      "Total reward:  61.5353741645813\n",
      "Total reward:  61.53510808944702\n",
      "Total reward:  61.533514976501465\n",
      "Total reward:  61.530250549316406\n",
      "Total reward:  61.52495837211609\n",
      "Total reward:  61.517317056655884\n",
      "Total reward:  61.507060050964355\n",
      "Total reward:  61.49398231506348\n",
      "Total reward:  61.488163232803345\n",
      "Total reward:  61.5018949508667\n",
      "Total reward:  61.5312979221344\n",
      "Total reward:  61.560386657714844\n",
      "Total reward:  61.57777380943298\n",
      "Total reward:  61.587087631225586\n",
      "Total reward:  61.592084884643555\n",
      "Total reward:  61.59458780288696\n",
      "Total reward:  61.59531617164612\n",
      "Total reward:  61.59439659118652\n",
      "Total reward:  61.59166693687439\n",
      "Total reward:  61.58684802055359\n",
      "Total reward:  61.57964205741882\n",
      "Total reward:  61.56978106498718\n"
     ]
    },
    {
     "name": "stderr",
     "output_type": "stream",
     "text": [
      "DEBUG:minerl.env.malmo.instance.98a683:[13:23:30] [Client thread/INFO]: [CHAT] §l212...\n"
     ]
    },
    {
     "name": "stdout",
     "output_type": "stream",
     "text": [
      "Total reward:  61.55704689025879\n",
      "Total reward:  61.54127740859985\n",
      "Total reward:  61.533313035964966\n",
      "Total reward:  61.5460786819458\n",
      "Total reward:  61.575631618499756\n",
      "Total reward:  61.6051812171936\n",
      "Total reward:  61.61940598487854\n",
      "Total reward:  61.62542772293091\n",
      "Total reward:  61.671199560165405\n",
      "Total reward:  61.718698263168335\n",
      "Total reward:  61.75779390335083\n",
      "Total reward:  61.7895233631134\n",
      "Total reward:  61.81443214416504\n",
      "Total reward:  61.832799196243286\n",
      "Total reward:  61.84477519989014\n",
      "Total reward:  61.850462675094604\n",
      "Total reward:  61.8499641418457\n",
      "Total reward:  61.85501432418823\n",
      "Total reward:  61.88126540184021\n",
      "Total reward:  61.92414593696594\n",
      "Total reward:  61.965076208114624\n",
      "Total reward:  61.98703742027283\n",
      "Total reward:  61.99833393096924\n",
      "Total reward:  62.003511905670166\n",
      "Total reward:  62.004812717437744\n",
      "Total reward:  62.003151178359985\n",
      "Total reward:  61.99872922897339\n",
      "Total reward:  61.99140810966492\n"
     ]
    },
    {
     "name": "stderr",
     "output_type": "stream",
     "text": [
      "DEBUG:minerl.env.malmo.instance.98a683:[13:23:30] [Client thread/INFO]: [CHAT] §l211...\n",
      "DEBUG:minerl.env.malmo.instance.98a683:[13:23:30] [Client thread/INFO]: [CHAT] §l210...\n"
     ]
    },
    {
     "name": "stdout",
     "output_type": "stream",
     "text": [
      "Total reward:  61.982171297073364\n",
      "Total reward:  61.96921181678772\n",
      "Total reward:  61.95234227180481\n",
      "Total reward:  61.93143606185913\n",
      "Total reward:  61.90643906593323\n",
      "Total reward:  61.88941168785095\n",
      "Total reward:  61.89364171028137\n",
      "Total reward:  61.9144401550293\n",
      "Total reward:  61.93303298950195\n",
      "Total reward:  61.934760332107544\n",
      "Total reward:  61.92776393890381\n",
      "Total reward:  61.91636610031128\n",
      "Total reward:  61.902610540390015\n",
      "Total reward:  61.88726496696472\n",
      "Total reward:  61.87043595314026\n",
      "Total reward:  61.851921796798706\n",
      "Total reward:  61.83141469955444\n",
      "Total reward:  61.80860662460327\n",
      "Total reward:  61.78323698043823\n",
      "Total reward:  61.75511431694031\n",
      "Total reward:  61.72411799430847\n",
      "Total reward:  61.70189642906189\n",
      "Total reward:  61.70056080818176\n",
      "Total reward:  61.71574854850769\n"
     ]
    },
    {
     "name": "stderr",
     "output_type": "stream",
     "text": [
      "DEBUG:minerl.env.malmo.instance.98a683:[13:23:30] [Client thread/INFO]: [CHAT] §l209...\n"
     ]
    },
    {
     "name": "stdout",
     "output_type": "stream",
     "text": [
      "Total reward:  61.72964286804199\n",
      "Total reward:  61.728254556655884\n",
      "Total reward:  61.71912884712219\n",
      "Total reward:  61.706259965896606\n",
      "Total reward:  61.691540479660034\n",
      "Total reward:  61.675686836242676\n",
      "Total reward:  61.65880250930786\n",
      "Total reward:  61.640703439712524\n",
      "Total reward:  61.621100425720215\n",
      "Total reward:  61.599698305130005\n",
      "Total reward:  61.57623839378357\n",
      "Total reward:  61.55051946640015\n",
      "Total reward:  61.5318660736084\n",
      "Total reward:  61.531712770462036\n",
      "Total reward:  61.54574728012085\n",
      "Total reward:  61.557968854904175\n",
      "Total reward:  61.557005167007446\n",
      "Total reward:  61.54986381530762\n",
      "Total reward:  61.54017162322998\n",
      "Total reward:  61.52957224845886\n",
      "Total reward:  61.51861262321472\n",
      "Total reward:  61.50727295875549\n",
      "Total reward:  61.49527192115784\n",
      "Total reward:  61.48223924636841\n",
      "Total reward:  61.4678053855896\n"
     ]
    },
    {
     "name": "stderr",
     "output_type": "stream",
     "text": [
      "DEBUG:minerl.env.malmo.instance.98a683:[13:23:30] [Client thread/INFO]: [CHAT] §l208...\n"
     ]
    },
    {
     "name": "stdout",
     "output_type": "stream",
     "text": [
      "Total reward:  61.45164370536804\n",
      "Total reward:  61.4334876537323\n",
      "Total reward:  61.41313338279724\n",
      "Total reward:  61.40034484863281\n",
      "Total reward:  61.406147956848145\n",
      "Total reward:  61.42674946784973\n",
      "Total reward:  61.44676446914673\n",
      "Total reward:  61.45367407798767\n",
      "Total reward:  61.454086780548096\n",
      "Total reward:  61.451475620269775\n",
      "Total reward:  61.44745850563049\n",
      "Total reward:  61.4426167011261\n",
      "Total reward:  61.43698263168335\n",
      "Total reward:  61.43033218383789\n",
      "Total reward:  61.42234420776367\n",
      "Total reward:  61.412688970565796\n",
      "Total reward:  61.4010694026947\n",
      "Total reward:  61.38723969459534\n",
      "Total reward:  61.37101149559021\n",
      "Total reward:  61.36253261566162\n",
      "Total reward:  61.37380313873291\n",
      "Total reward:  61.40112018585205\n",
      "Total reward:  61.428746700286865\n",
      "Total reward:  61.442309617996216\n",
      "Total reward:  61.4485650062561\n"
     ]
    },
    {
     "name": "stderr",
     "output_type": "stream",
     "text": [
      "DEBUG:minerl.env.malmo.instance.98a683:[13:23:31] [Client thread/INFO]: [CHAT] §l207...\n"
     ]
    },
    {
     "name": "stdout",
     "output_type": "stream",
     "text": [
      "Total reward:  61.451077699661255\n",
      "Total reward:  61.45156383514404\n",
      "Total reward:  61.450690031051636\n",
      "Total reward:  61.44855999946594\n",
      "Total reward:  61.44500374794006\n",
      "Total reward:  61.43974232673645\n",
      "Total reward:  61.432480335235596\n",
      "Total reward:  61.422945499420166\n",
      "Total reward:  61.410913705825806\n",
      "Total reward:  61.40593075752258\n",
      "Total reward:  61.419636249542236\n",
      "Total reward:  61.448007345199585\n",
      "Total reward:  61.47563147544861\n",
      "Total reward:  61.48952102661133\n",
      "Total reward:  61.4964759349823\n",
      "Total reward:  61.50008821487427\n",
      "Total reward:  61.502042055130005\n",
      "Total reward:  61.50294351577759\n",
      "Total reward:  61.502827167510986\n",
      "Total reward:  61.50145411491394\n",
      "Total reward:  61.49848031997681\n",
      "Total reward:  61.493550300598145\n",
      "Total reward:  61.4863440990448\n",
      "Total reward:  61.47659373283386\n",
      "Total reward:  61.46409058570862\n",
      "Total reward:  61.45881462097168\n"
     ]
    },
    {
     "name": "stderr",
     "output_type": "stream",
     "text": [
      "DEBUG:minerl.env.malmo.instance.98a683:[13:23:31] [Client thread/INFO]: [CHAT] §l206...\n",
      "DEBUG:minerl.env.malmo.instance.98a683:[13:23:31] [Client thread/INFO]: [CHAT] §l205...\n"
     ]
    },
    {
     "name": "stdout",
     "output_type": "stream",
     "text": [
      "Total reward:  61.47299909591675\n",
      "Total reward:  61.502811670303345\n",
      "Total reward:  61.532426834106445\n",
      "Total reward:  61.547762870788574\n",
      "Total reward:  61.55563926696777\n",
      "Total reward:  61.55968976020813\n",
      "Total reward:  61.561641454696655\n",
      "Total reward:  61.56214380264282\n",
      "Total reward:  61.5612690448761\n",
      "Total reward:  61.558812618255615\n",
      "Total reward:  61.554277181625366\n",
      "Total reward:  61.547561168670654\n",
      "Total reward:  61.53836464881897\n",
      "Total reward:  61.52644443511963\n",
      "Total reward:  61.51161456108093\n",
      "Total reward:  61.50458812713623\n",
      "Total reward:  61.51826190948486\n",
      "Total reward:  61.54874134063721\n",
      "Total reward:  61.57939577102661\n",
      "Total reward:  61.5948588848114\n",
      "Total reward:  61.60217475891113\n",
      "Total reward:  61.605141162872314\n",
      "Total reward:  61.60560059547424\n",
      "Total reward:  61.60428166389465\n",
      "Total reward:  61.601317405700684\n",
      "Total reward:  61.59654927253723\n",
      "Total reward:  61.58970499038696\n"
     ]
    },
    {
     "name": "stderr",
     "output_type": "stream",
     "text": [
      "DEBUG:minerl.env.malmo.instance.98a683:[13:23:31] [Client thread/INFO]: [CHAT] §l204...\n"
     ]
    },
    {
     "name": "stdout",
     "output_type": "stream",
     "text": [
      "Total reward:  61.59496712684631\n",
      "Total reward:  61.562400579452515\n",
      "Total reward:  61.496113300323486\n",
      "Total reward:  61.43893003463745\n",
      "Total reward:  61.408846855163574\n",
      "Total reward:  61.415547132492065\n",
      "Total reward:  61.462440729141235\n",
      "Total reward:  61.54758810997009\n",
      "Total reward:  61.663448095321655\n",
      "Total reward:  61.79536700248718\n",
      "Total reward:  61.918938398361206\n",
      "Total reward:  61.99375128746033\n",
      "Total reward:  62.00525903701782\n",
      "Total reward:  61.99904990196228\n",
      "Total reward:  61.98846173286438\n",
      "Total reward:  61.9740993976593\n",
      "Total reward:  61.9562246799469\n",
      "Total reward:  61.934940338134766\n",
      "Total reward:  61.91028809547424\n",
      "Total reward:  61.88230347633362\n",
      "Total reward:  61.85324573516846\n",
      "Total reward:  61.82047510147095\n",
      "Total reward:  61.78418684005737\n",
      "Total reward:  61.75655436515808\n",
      "Total reward:  61.74965167045593\n",
      "Total reward:  61.759437799453735\n",
      "Total reward:  61.76796841621399\n",
      "Total reward:  61.76138424873352\n"
     ]
    },
    {
     "name": "stderr",
     "output_type": "stream",
     "text": [
      "DEBUG:minerl.env.malmo.instance.98a683:[13:23:31] [Client thread/INFO]: [CHAT] §l203...\n"
     ]
    },
    {
     "name": "stdout",
     "output_type": "stream",
     "text": [
      "Total reward:  61.74716567993164\n",
      "Total reward:  61.72926712036133\n",
      "Total reward:  61.70956110954285\n",
      "Total reward:  61.688759326934814\n",
      "Total reward:  61.66697406768799\n",
      "Total reward:  61.644038677215576\n",
      "Total reward:  61.61968541145325\n",
      "Total reward:  61.59363889694214\n",
      "Total reward:  61.56566405296326\n",
      "Total reward:  61.53558301925659\n",
      "Total reward:  61.513872385025024\n",
      "Total reward:  61.51121520996094\n",
      "Total reward:  61.52334022521973\n",
      "Total reward:  61.53391766548157\n",
      "Total reward:  61.531025886535645\n",
      "Total reward:  61.52172303199768\n",
      "Total reward:  61.509689807891846\n",
      "Total reward:  61.49662709236145\n",
      "Total reward:  61.483134031295776\n",
      "Total reward:  61.469239473342896\n",
      "Total reward:  61.45470404624939\n",
      "Total reward:  61.439194440841675\n",
      "Total reward:  61.42237138748169\n",
      "Total reward:  61.403934955596924\n",
      "Total reward:  61.38363695144653\n",
      "Total reward:  61.361289501190186\n",
      "Total reward:  61.349241971969604\n"
     ]
    },
    {
     "name": "stderr",
     "output_type": "stream",
     "text": [
      "DEBUG:minerl.env.malmo.instance.98a683:[13:23:31] [Client thread/INFO]: [CHAT] §l202...\n",
      "DEBUG:minerl.env.malmo.instance.98a683:[13:23:31] [Client thread/INFO]: [CHAT] §l201...\n"
     ]
    },
    {
     "name": "stdout",
     "output_type": "stream",
     "text": [
      "Total reward:  61.3561897277832\n",
      "Total reward:  61.37844657897949\n",
      "Total reward:  61.40043544769287\n",
      "Total reward:  61.408748388290405\n",
      "Total reward:  61.410038471221924\n",
      "Total reward:  61.40785813331604\n",
      "Total reward:  61.40391302108765\n",
      "Total reward:  61.39886665344238\n",
      "Total reward:  61.392826318740845\n",
      "Total reward:  61.38563060760498\n",
      "Total reward:  61.37700915336609\n",
      "Total reward:  61.366676568984985\n",
      "Total reward:  61.354371309280396\n",
      "Total reward:  61.339876651763916\n",
      "Total reward:  61.33245587348938\n",
      "Total reward:  61.34308886528015\n",
      "Total reward:  61.36785101890564\n",
      "Total reward:  61.391810178756714\n",
      "Total reward:  61.4028103351593\n",
      "Total reward:  61.40744185447693\n",
      "Total reward:  61.40916466712952\n",
      "Total reward:  61.409584283828735\n",
      "Total reward:  61.40926456451416\n",
      "Total reward:  61.40822124481201\n",
      "Total reward:  61.40620732307434\n",
      "Total reward:  61.40287733078003\n",
      "Total reward:  61.39787268638611\n"
     ]
    },
    {
     "name": "stderr",
     "output_type": "stream",
     "text": [
      "DEBUG:minerl.env.malmo.instance.98a683:[13:23:32] [Client thread/INFO]: [CHAT] §l200...\n"
     ]
    },
    {
     "name": "stdout",
     "output_type": "stream",
     "text": [
      "Total reward:  61.39087152481079\n",
      "Total reward:  61.38160228729248\n",
      "Total reward:  61.36984944343567\n",
      "Total reward:  61.36520862579346\n",
      "Total reward:  61.37950682640076\n",
      "Total reward:  61.409045696258545\n",
      "Total reward:  61.4385769367218\n",
      "Total reward:  61.4544780254364\n",
      "Total reward:  61.46332621574402\n",
      "Total reward:  61.46861815452576\n",
      "Total reward:  61.472827196121216\n",
      "Total reward:  61.47558784484863\n",
      "Total reward:  61.47699046134949\n",
      "Total reward:  61.47685146331787\n",
      "Total reward:  61.47487688064575\n",
      "Total reward:  61.470754861831665\n",
      "Total reward:  61.46420192718506\n",
      "Total reward:  61.45498037338257\n",
      "Total reward:  61.4429075717926\n",
      "Total reward:  61.43839621543884\n",
      "Total reward:  61.45427632331848\n",
      "Total reward:  61.48677039146423\n",
      "Total reward:  61.51968026161194\n",
      "Total reward:  61.53770089149475\n",
      "Total reward:  61.54770851135254\n",
      "Total reward:  61.553414821624756\n",
      "Total reward:  61.55662417411804\n"
     ]
    },
    {
     "name": "stderr",
     "output_type": "stream",
     "text": [
      "DEBUG:minerl.env.malmo.instance.98a683:[13:23:32] [Client thread/INFO]: [CHAT] §l199...\n",
      "DEBUG:minerl.env.malmo.instance.98a683:[13:23:32] [Client thread/INFO]: [CHAT] §l198...\n"
     ]
    },
    {
     "name": "stdout",
     "output_type": "stream",
     "text": [
      "Total reward:  61.5580518245697\n",
      "Total reward:  61.55782723426819\n",
      "Total reward:  61.555793046951294\n",
      "Total reward:  61.55167484283447\n",
      "Total reward:  61.54517960548401\n",
      "Total reward:  61.53603959083557\n",
      "Total reward:  61.52403521537781\n",
      "Total reward:  61.519110918045044\n",
      "Total reward:  61.53341460227966\n",
      "Total reward:  61.56274700164795\n",
      "Total reward:  61.59104013442993\n",
      "Total reward:  61.60481142997742\n",
      "Total reward:  61.611159801483154\n",
      "Total reward:  61.61384415626526\n",
      "Total reward:  61.614630460739136\n",
      "Total reward:  61.61415910720825\n",
      "Total reward:  61.61247396469116\n",
      "Total reward:  61.60933327674866\n",
      "Total reward:  61.60439109802246\n",
      "Total reward:  61.59728932380676\n",
      "Total reward:  61.587705850601196\n",
      "Total reward:  61.57607698440552\n",
      "Total reward:  61.56135892868042\n",
      "Total reward:  61.55391049385071\n",
      "Total reward:  61.566162109375\n",
      "Total reward:  61.5941276550293\n",
      "Total reward:  61.62144351005554\n",
      "Total reward:  61.63398265838623\n"
     ]
    },
    {
     "name": "stderr",
     "output_type": "stream",
     "text": [
      "DEBUG:minerl.env.malmo.instance.98a683:[13:23:32] [Client thread/INFO]: [CHAT] §l197...\n"
     ]
    },
    {
     "name": "stdout",
     "output_type": "stream",
     "text": [
      "Total reward:  61.63881492614746\n",
      "Total reward:  61.63970327377319\n",
      "Total reward:  61.63843488693237\n",
      "Total reward:  61.635679721832275\n",
      "Total reward:  61.631515979766846\n",
      "Total reward:  61.6257381439209\n",
      "Total reward:  61.61803483963013\n",
      "Total reward:  61.608081579208374\n",
      "Total reward:  61.59559154510498\n",
      "Total reward:  61.58033299446106\n",
      "Total reward:  61.56500840187073\n",
      "Total reward:  61.52067303657532\n",
      "Total reward:  61.479482889175415\n",
      "Total reward:  61.46052122116089\n",
      "Total reward:  61.47437572479248\n",
      "Total reward:  61.52498006820679\n",
      "Total reward:  61.61049246788025\n",
      "Total reward:  61.7229950428009\n",
      "Total reward:  61.84694480895996\n",
      "Total reward:  61.956647872924805\n",
      "Total reward:  62.01339840888977\n",
      "Total reward:  62.01895308494568\n",
      "Total reward:  62.01659917831421\n",
      "Total reward:  62.00928449630737\n",
      "Total reward:  61.997658252716064\n",
      "Total reward:  61.98202919960022\n"
     ]
    },
    {
     "name": "stderr",
     "output_type": "stream",
     "text": [
      "DEBUG:minerl.env.malmo.instance.98a683:[13:23:32] [Client thread/INFO]: [CHAT] §l196...\n"
     ]
    },
    {
     "name": "stdout",
     "output_type": "stream",
     "text": [
      "Total reward:  61.96254587173462\n",
      "Total reward:  61.939292907714844\n",
      "Total reward:  61.912346839904785\n",
      "Total reward:  61.88179922103882\n",
      "Total reward:  61.84933638572693\n",
      "Total reward:  61.81315279006958\n",
      "Total reward:  61.785592555999756\n",
      "Total reward:  61.778937578201294\n",
      "Total reward:  61.78909492492676\n",
      "Total reward:  61.79789447784424\n",
      "Total reward:  61.791274070739746\n",
      "Total reward:  61.77682375907898\n",
      "Total reward:  61.75856161117554\n",
      "Total reward:  61.738396644592285\n",
      "Total reward:  61.71706247329712\n",
      "Total reward:  61.694681882858276\n",
      "Total reward:  61.6710946559906\n",
      "Total reward:  61.646037101745605\n",
      "Total reward:  61.61924076080322\n",
      "Total reward:  61.59047555923462\n",
      "Total reward:  61.559566497802734\n",
      "Total reward:  61.53709101676941\n",
      "Total reward:  61.53375601768494\n",
      "Total reward:  61.54524326324463\n",
      "Total reward:  61.5550811290741\n",
      "Total reward:  61.55135154724121\n",
      "Total reward:  61.5411741733551\n",
      "Total reward:  61.528260469436646\n"
     ]
    },
    {
     "name": "stderr",
     "output_type": "stream",
     "text": [
      "DEBUG:minerl.env.malmo.instance.98a683:[13:23:32] [Client thread/INFO]: [CHAT] §l195...\n",
      "DEBUG:minerl.env.malmo.instance.98a683:[13:23:33] [Client thread/INFO]: [CHAT] §l194...\n"
     ]
    },
    {
     "name": "stdout",
     "output_type": "stream",
     "text": [
      "Total reward:  61.514320611953735\n",
      "Total reward:  61.499958992004395\n",
      "Total reward:  61.485201597213745\n",
      "Total reward:  61.469810962677\n",
      "Total reward:  61.45345187187195\n",
      "Total reward:  61.435784339904785\n",
      "Total reward:  61.416507959365845\n",
      "Total reward:  61.39537715911865\n",
      "Total reward:  61.37220501899719\n",
      "Total reward:  61.35710287094116\n",
      "Total reward:  61.36332559585571\n",
      "Total reward:  61.38483190536499\n",
      "Total reward:  61.40600872039795\n",
      "Total reward:  61.41352701187134\n",
      "Total reward:  61.414053440093994\n",
      "Total reward:  61.411142110824585\n",
      "Total reward:  61.406500816345215\n",
      "Total reward:  61.40078926086426\n",
      "Total reward:  61.394113302230835\n",
      "Total reward:  61.386310338974\n",
      "Total reward:  61.37710976600647\n",
      "Total reward:  61.36622476577759\n",
      "Total reward:  61.353394508361816\n",
      "Total reward:  61.338401317596436\n",
      "Total reward:  61.33050537109375\n",
      "Total reward:  61.34061932563782\n",
      "Total reward:  61.36481714248657\n",
      "Total reward:  61.38818430900574\n"
     ]
    },
    {
     "name": "stderr",
     "output_type": "stream",
     "text": [
      "DEBUG:minerl.env.malmo.instance.98a683:[13:23:33] [Client thread/INFO]: [CHAT] §l193...\n"
     ]
    },
    {
     "name": "stdout",
     "output_type": "stream",
     "text": [
      "Total reward:  61.39865303039551\n",
      "Total reward:  61.4028046131134\n",
      "Total reward:  61.40409064292908\n",
      "Total reward:  61.40411138534546\n",
      "Total reward:  61.40342855453491\n",
      "Total reward:  61.402053356170654\n",
      "Total reward:  61.399738073349\n",
      "Total reward:  61.39613699913025\n",
      "Total reward:  61.390891551971436\n",
      "Total reward:  61.3836784362793\n",
      "Total reward:  61.37422728538513\n",
      "Total reward:  61.36232233047485\n",
      "Total reward:  61.35753321647644\n",
      "Total reward:  61.37163257598877\n",
      "Total reward:  61.400930881500244\n",
      "Total reward:  61.43022584915161\n",
      "Total reward:  61.445956230163574\n",
      "Total reward:  61.45467948913574\n",
      "Total reward:  61.45988154411316\n",
      "Total reward:  61.463213205337524\n",
      "Total reward:  61.4655601978302\n",
      "Total reward:  61.4666531085968\n",
      "Total reward:  61.46629333496094\n",
      "Total reward:  61.46417784690857\n",
      "Total reward:  61.45998454093933\n",
      "Total reward:  61.453420877456665\n",
      "Total reward:  61.44424271583557\n",
      "Total reward:  61.43226194381714\n"
     ]
    },
    {
     "name": "stderr",
     "output_type": "stream",
     "text": [
      "DEBUG:minerl.env.malmo.instance.98a683:[13:23:33] [Client thread/INFO]: [CHAT] §l192...\n"
     ]
    },
    {
     "name": "stdout",
     "output_type": "stream",
     "text": [
      "Total reward:  61.42784523963928\n",
      "Total reward:  61.44377875328064\n",
      "Total reward:  61.47630047798157\n",
      "Total reward:  61.50927186012268\n",
      "Total reward:  61.527428150177\n",
      "Total reward:  61.5376181602478\n",
      "Total reward:  61.54353594779968\n",
      "Total reward:  61.54697871208191\n",
      "Total reward:  61.54865646362305\n",
      "Total reward:  61.548696517944336\n",
      "Total reward:  61.54694199562073\n",
      "Total reward:  61.54311752319336\n",
      "Total reward:  61.53692865371704\n",
      "Total reward:  61.528106689453125\n",
      "Total reward:  61.51643252372742\n",
      "Total reward:  61.51181888580322\n",
      "Total reward:  61.52641534805298\n",
      "Total reward:  61.55603885650635\n",
      "Total reward:  61.584662675857544\n",
      "Total reward:  61.59878945350647\n",
      "Total reward:  61.605499505996704\n",
      "Total reward:  61.608542919158936\n",
      "Total reward:  61.60968255996704\n",
      "Total reward:  61.609557151794434\n",
      "Total reward:  61.60821199417114\n",
      "Total reward:  61.60540699958801\n",
      "Total reward:  61.600794553756714\n",
      "Total reward:  61.594016551971436\n"
     ]
    },
    {
     "name": "stderr",
     "output_type": "stream",
     "text": [
      "DEBUG:minerl.env.malmo.instance.98a683:[13:23:33] [Client thread/INFO]: [CHAT] §l191...\n",
      "DEBUG:minerl.env.malmo.instance.98a683:[13:23:33] [Client thread/INFO]: [CHAT] §l190...\n"
     ]
    },
    {
     "name": "stdout",
     "output_type": "stream",
     "text": [
      "Total reward:  61.584752798080444\n",
      "Total reward:  61.57274055480957\n",
      "Total reward:  61.55797576904297\n",
      "Total reward:  61.55054187774658\n",
      "Total reward:  61.56283926963806\n",
      "Total reward:  61.59088325500488\n",
      "Total reward:  61.61832857131958\n",
      "Total reward:  61.63104438781738\n",
      "Total reward:  61.63608193397522\n",
      "Total reward:  61.637195348739624\n",
      "Total reward:  61.63616490364075\n",
      "Total reward:  61.633655309677124\n",
      "Total reward:  61.629741191864014\n",
      "Total reward:  61.62421655654907\n",
      "Total reward:  61.61676502227783\n",
      "Total reward:  61.6070613861084\n",
      "Total reward:  61.59481763839722\n",
      "Total reward:  61.579800605773926\n",
      "Total reward:  61.56183981895447\n",
      "Total reward:  61.55183029174805\n",
      "Total reward:  61.613645792007446\n",
      "Total reward:  61.69280385971069\n",
      "Total reward:  61.77241611480713\n",
      "Total reward:  61.83018612861633\n",
      "Total reward:  61.87376379966736\n",
      "Total reward:  61.90764379501343\n",
      "Total reward:  61.93429493904114\n",
      "Total reward:  61.954954385757446\n"
     ]
    },
    {
     "name": "stderr",
     "output_type": "stream",
     "text": [
      "DEBUG:minerl.env.malmo.instance.98a683:[13:23:33] [Client thread/INFO]: [CHAT] §l189...\n"
     ]
    },
    {
     "name": "stdout",
     "output_type": "stream",
     "text": [
      "Total reward:  61.970149755477905\n",
      "Total reward:  61.98003005981445\n",
      "Total reward:  61.98456907272339\n",
      "Total reward:  61.983686208724976\n",
      "Total reward:  61.97731685638428\n",
      "Total reward:  61.96544170379639\n",
      "Total reward:  61.96025490760803\n",
      "Total reward:  61.97665476799011\n",
      "Total reward:  62.00963807106018\n",
      "Total reward:  62.03979158401489\n",
      "Total reward:  62.05108714103699\n",
      "Total reward:  62.05219745635986\n",
      "Total reward:  62.047629594802856\n",
      "Total reward:  62.03986382484436\n",
      "Total reward:  62.029783964157104\n",
      "Total reward:  62.01754903793335\n",
      "Total reward:  62.00297975540161\n",
      "Total reward:  61.98577427864075\n",
      "Total reward:  61.96562576293945\n",
      "Total reward:  61.94227886199951\n",
      "Total reward:  61.915552377700806\n",
      "Total reward:  61.88534450531006\n",
      "Total reward:  61.86351728439331\n",
      "Total reward:  61.862518548965454\n",
      "Total reward:  61.877649784088135\n",
      "Total reward:  61.89043951034546\n",
      "Total reward:  61.887237548828125\n",
      "Total reward:  61.87602686882019\n"
     ]
    },
    {
     "name": "stderr",
     "output_type": "stream",
     "text": [
      "DEBUG:minerl.env.malmo.instance.98a683:[13:23:33] [Client thread/INFO]: [CHAT] §l188...\n",
      "DEBUG:minerl.env.malmo.instance.98a683:[13:23:34] [Client thread/INFO]: [CHAT] §l187...\n"
     ]
    },
    {
     "name": "stdout",
     "output_type": "stream",
     "text": [
      "Total reward:  61.86099863052368\n",
      "Total reward:  61.8441047668457\n",
      "Total reward:  61.82605171203613\n",
      "Total reward:  61.806907653808594\n",
      "Total reward:  61.78644680976868\n",
      "Total reward:  61.764347076416016\n",
      "Total reward:  61.74028706550598\n",
      "Total reward:  61.71399402618408\n",
      "Total reward:  61.68526315689087\n",
      "Total reward:  61.65395975112915\n",
      "Total reward:  61.631370306015015\n",
      "Total reward:  61.629127979278564\n",
      "Total reward:  61.64300227165222\n",
      "Total reward:  61.655718088150024\n",
      "Total reward:  61.65384101867676\n",
      "Total reward:  61.644675731658936\n",
      "Total reward:  61.63207817077637\n",
      "Total reward:  61.61786198616028\n",
      "Total reward:  61.60270547866821\n",
      "Total reward:  61.5877730846405\n",
      "Total reward:  61.571553468704224\n",
      "Total reward:  61.55379557609558\n",
      "Total reward:  61.53423261642456\n",
      "Total reward:  61.51262617111206\n",
      "Total reward:  61.488789319992065\n",
      "Total reward:  61.47253084182739\n",
      "Total reward:  61.47440552711487\n"
     ]
    },
    {
     "name": "stderr",
     "output_type": "stream",
     "text": [
      "DEBUG:minerl.env.malmo.instance.98a683:[13:23:34] [Client thread/INFO]: [CHAT] §l186...\n"
     ]
    },
    {
     "name": "stdout",
     "output_type": "stream",
     "text": [
      "Total reward:  61.49023246765137\n",
      "Total reward:  61.504374265670776\n",
      "Total reward:  61.5054657459259\n",
      "Total reward:  61.500389099121094\n",
      "Total reward:  61.49271893501282\n",
      "Total reward:  61.48408508300781\n",
      "Total reward:  61.47504115104675\n",
      "Total reward:  61.46557831764221\n",
      "Total reward:  61.45542907714844\n",
      "Total reward:  61.44423460960388\n",
      "Total reward:  61.43163180351257\n",
      "Total reward:  61.41729736328125\n",
      "Total reward:  61.40096592903137\n",
      "Total reward:  61.38243341445923\n",
      "Total reward:  61.371342182159424\n",
      "Total reward:  61.37877583503723\n",
      "Total reward:  61.40099358558655\n",
      "Total reward:  61.422770977020264\n",
      "Total reward:  61.43148851394653\n",
      "Total reward:  61.433692932128906\n",
      "Total reward:  61.43283152580261\n",
      "Total reward:  61.43051552772522\n",
      "Total reward:  61.4273247718811\n",
      "Total reward:  61.42329525947571\n",
      "Total reward:  61.41820454597473\n",
      "Total reward:  61.411733865737915\n",
      "Total reward:  61.403552770614624\n",
      "Total reward:  61.396180152893066\n"
     ]
    },
    {
     "name": "stderr",
     "output_type": "stream",
     "text": [
      "DEBUG:minerl.env.malmo.instance.98a683:[13:23:34] [Client thread/INFO]: [CHAT] §l185...\n"
     ]
    },
    {
     "name": "stdout",
     "output_type": "stream",
     "text": [
      "Total reward:  61.38303017616272\n",
      "Total reward:  61.36757683753967\n",
      "Total reward:  61.35991382598877\n",
      "Total reward:  61.3720920085907\n",
      "Total reward:  61.400410652160645\n",
      "Total reward:  61.429150342941284\n",
      "Total reward:  61.44389533996582\n",
      "Total reward:  61.45129418373108\n",
      "Total reward:  61.45490741729736\n",
      "Total reward:  61.45644927024841\n",
      "Total reward:  61.456583976745605\n",
      "Total reward:  61.45541524887085\n",
      "Total reward:  61.452770709991455\n",
      "Total reward:  61.448370933532715\n",
      "Total reward:  61.44191646575928\n",
      "Total reward:  61.43313384056091\n",
      "Total reward:  61.42179465293884\n",
      "Total reward:  61.4174702167511\n",
      "Total reward:  61.43191480636597\n",
      "Total reward:  61.46109175682068\n",
      "Total reward:  61.4895281791687\n",
      "Total reward:  61.5041081905365\n",
      "Total reward:  61.51165962219238\n",
      "Total reward:  61.51579523086548\n",
      "Total reward:  61.51820993423462\n",
      "Total reward:  61.5195152759552\n",
      "Total reward:  61.51974844932556\n",
      "Total reward:  61.51867079734802\n"
     ]
    },
    {
     "name": "stderr",
     "output_type": "stream",
     "text": [
      "DEBUG:minerl.env.malmo.instance.98a683:[13:23:34] [Client thread/INFO]: [CHAT] §l184...\n",
      "DEBUG:minerl.env.malmo.instance.98a683:[13:23:34] [Client thread/INFO]: [CHAT] §l183...\n"
     ]
    },
    {
     "name": "stdout",
     "output_type": "stream",
     "text": [
      "Total reward:  61.51593899726868\n",
      "Total reward:  61.51119589805603\n",
      "Total reward:  61.504119873046875\n",
      "Total reward:  61.49444222450256\n",
      "Total reward:  61.48195695877075\n",
      "Total reward:  61.476696491241455\n",
      "Total reward:  61.490965843200684\n",
      "Total reward:  61.52090668678284\n",
      "Total reward:  61.55059814453125\n",
      "Total reward:  61.56589889526367\n",
      "Total reward:  61.57414150238037\n",
      "Total reward:  61.578418016433716\n",
      "Total reward:  61.580485105514526\n",
      "Total reward:  61.581008195877075\n",
      "Total reward:  61.580071449279785\n",
      "Total reward:  61.57747936248779\n",
      "Total reward:  61.57292652130127\n",
      "Total reward:  61.56609272956848\n",
      "Total reward:  61.55669045448303\n",
      "Total reward:  61.54448413848877\n",
      "Total reward:  61.529298305511475\n",
      "Total reward:  61.52191209793091\n",
      "Total reward:  61.53525638580322\n",
      "Total reward:  61.565409421920776\n",
      "Total reward:  61.59564781188965\n",
      "Total reward:  61.6106059551239\n",
      "Total reward:  61.61737322807312\n",
      "Total reward:  61.63585567474365\n"
     ]
    },
    {
     "name": "stderr",
     "output_type": "stream",
     "text": [
      "DEBUG:minerl.env.malmo.instance.98a683:[13:23:34] [Client thread/INFO]: [CHAT] §l182...\n"
     ]
    },
    {
     "name": "stdout",
     "output_type": "stream",
     "text": [
      "Total reward:  61.690693616867065\n",
      "Total reward:  61.73605561256409\n",
      "Total reward:  61.773216247558594\n",
      "Total reward:  61.80288791656494\n",
      "Total reward:  61.82546806335449\n",
      "Total reward:  61.84119009971619\n",
      "Total reward:  61.85021638870239\n",
      "Total reward:  61.85269212722778\n",
      "Total reward:  61.86041498184204\n",
      "Total reward:  61.88946175575256\n",
      "Total reward:  61.93531274795532\n",
      "Total reward:  61.979329109191895\n",
      "Total reward:  62.00400447845459\n",
      "Total reward:  62.017672300338745\n",
      "Total reward:  62.024916887283325\n",
      "Total reward:  62.02801203727722\n",
      "Total reward:  62.02789664268494\n",
      "Total reward:  62.02479028701782\n",
      "Total reward:  62.0185649394989\n",
      "Total reward:  62.01172971725464\n",
      "Total reward:  61.99799656867981\n",
      "Total reward:  61.980475187301636\n",
      "Total reward:  61.95899558067322\n",
      "Total reward:  61.933467864990234\n",
      "Total reward:  61.916070222854614\n",
      "Total reward:  61.92020273208618\n"
     ]
    },
    {
     "name": "stderr",
     "output_type": "stream",
     "text": [
      "DEBUG:minerl.env.malmo.instance.98a683:[13:23:34] [Client thread/INFO]: [CHAT] §l181...\n"
     ]
    },
    {
     "name": "stdout",
     "output_type": "stream",
     "text": [
      "Total reward:  61.94110631942749\n",
      "Total reward:  61.95977568626404\n",
      "Total reward:  61.96137595176697\n",
      "Total reward:  61.95413947105408\n",
      "Total reward:  61.94243621826172\n",
      "Total reward:  61.92832946777344\n",
      "Total reward:  61.912593364715576\n",
      "Total reward:  61.895334005355835\n",
      "Total reward:  61.8763473033905\n",
      "Total reward:  61.85532283782959\n",
      "Total reward:  61.831951379776\n",
      "Total reward:  61.80597162246704\n",
      "Total reward:  61.77719569206238\n",
      "Total reward:  61.745505571365356\n",
      "Total reward:  61.72265291213989\n",
      "Total reward:  61.720797061920166\n",
      "Total reward:  61.73552846908569\n",
      "Total reward:  61.748881101608276\n",
      "Total reward:  61.746830224990845\n",
      "Total reward:  61.73698592185974\n",
      "Total reward:  61.72337603569031\n",
      "Total reward:  61.707907915115356\n",
      "Total reward:  61.69130349159241\n",
      "Total reward:  61.673667669296265\n",
      "Total reward:  61.654815912246704\n",
      "Total reward:  61.63446068763733\n"
     ]
    },
    {
     "name": "stderr",
     "output_type": "stream",
     "text": [
      "DEBUG:minerl.env.malmo.instance.98a683:[13:23:35] [Client thread/INFO]: [CHAT] §l180...\n",
      "DEBUG:minerl.env.malmo.instance.98a683:[13:23:35] [Client thread/INFO]: [CHAT] §l179...\n"
     ]
    },
    {
     "name": "stdout",
     "output_type": "stream",
     "text": [
      "Total reward:  61.61230516433716\n",
      "Total reward:  61.588093996047974\n",
      "Total reward:  61.56162667274475\n",
      "Total reward:  61.54391169548035\n",
      "Total reward:  61.54454827308655\n",
      "Total reward:  61.55923128128052\n",
      "Total reward:  61.57189321517944\n",
      "Total reward:  61.571067571640015\n",
      "Total reward:  61.56384301185608\n",
      "Total reward:  61.553903102874756\n",
      "Total reward:  61.54293203353882\n",
      "Total reward:  61.53150534629822\n",
      "Total reward:  61.51962399482727\n",
      "Total reward:  61.50702428817749\n",
      "Total reward:  61.49334788322449\n",
      "Total reward:  61.478235721588135\n",
      "Total reward:  61.4613721370697\n",
      "Total reward:  61.442498445510864\n",
      "Total reward:  61.421416997909546\n",
      "Total reward:  61.407925844192505\n",
      "Total reward:  61.413004636764526\n",
      "Total reward:  61.432846546173096\n",
      "Total reward:  61.4520308971405\n",
      "Total reward:  61.45812273025513\n",
      "Total reward:  61.457746744155884\n",
      "Total reward:  61.45438027381897\n",
      "Total reward:  61.44964385032654\n"
     ]
    },
    {
     "name": "stderr",
     "output_type": "stream",
     "text": [
      "DEBUG:minerl.env.malmo.instance.98a683:[13:23:35] [Client thread/INFO]: [CHAT] §l178...\n"
     ]
    },
    {
     "name": "stdout",
     "output_type": "stream",
     "text": [
      "Total reward:  61.44411492347717\n",
      "Total reward:  61.43782663345337\n",
      "Total reward:  61.43055176734924\n",
      "Total reward:  61.421969413757324\n",
      "Total reward:  61.4117476940155\n",
      "Total reward:  61.399590730667114\n",
      "Total reward:  61.38525366783142\n",
      "Total reward:  61.36854815483093\n",
      "Total reward:  61.35961055755615\n",
      "Total reward:  61.37037229537964\n",
      "Total reward:  61.397130727767944\n",
      "Total reward:  61.424171924591064\n",
      "Total reward:  61.43870306015015\n",
      "Total reward:  61.44568204879761\n",
      "Total reward:  61.44871425628662\n",
      "Total reward:  61.44955563545227\n",
      "Total reward:  61.44890379905701\n",
      "Total reward:  61.44689083099365\n",
      "Total reward:  61.443371057510376\n",
      "Total reward:  61.438085079193115\n",
      "Total reward:  61.430750370025635\n",
      "Total reward:  61.42110872268677\n",
      "Total reward:  61.40894627571106\n",
      "Total reward:  61.403810024261475\n",
      "Total reward:  61.417316198349\n",
      "Total reward:  61.44544529914856\n",
      "Total reward:  61.47280144691467\n"
     ]
    },
    {
     "name": "stderr",
     "output_type": "stream",
     "text": [
      "DEBUG:minerl.env.malmo.instance.98a683:[13:23:35] [Client thread/INFO]: [CHAT] §l177...\n"
     ]
    },
    {
     "name": "stdout",
     "output_type": "stream",
     "text": [
      "Total reward:  61.486443758010864\n",
      "Total reward:  61.49316716194153\n",
      "Total reward:  61.496562480926514\n",
      "Total reward:  61.49831414222717\n",
      "Total reward:  61.49902629852295\n",
      "Total reward:  61.49873471260071\n",
      "Total reward:  61.49720072746277\n",
      "Total reward:  61.49408197402954\n",
      "Total reward:  61.48902440071106\n",
      "Total reward:  61.48170781135559\n",
      "Total reward:  61.471864461898804\n",
      "Total reward:  61.4592866897583\n",
      "Total reward:  61.453937292099\n",
      "Total reward:  61.468016386032104\n",
      "Total reward:  61.49769735336304\n",
      "Total reward:  61.527183055877686\n",
      "Total reward:  61.542431592941284\n",
      "Total reward:  61.5502495765686\n",
      "Total reward:  61.55426263809204\n",
      "Total reward:  61.55619525909424\n",
      "Total reward:  61.556692600250244\n",
      "Total reward:  61.55582642555237\n",
      "Total reward:  61.55339193344116\n",
      "Total reward:  61.54987454414368\n",
      "Total reward:  61.54398584365845\n",
      "Total reward:  61.53546166419983\n",
      "Total reward:  61.524085998535156\n"
     ]
    },
    {
     "name": "stderr",
     "output_type": "stream",
     "text": [
      "DEBUG:minerl.env.malmo.instance.98a683:[13:23:35] [Client thread/INFO]: [CHAT] §l176...\n",
      "DEBUG:minerl.env.malmo.instance.98a683:[13:23:35] [Client thread/INFO]: [CHAT] §l175...\n"
     ]
    },
    {
     "name": "stdout",
     "output_type": "stream",
     "text": [
      "Total reward:  61.50969743728638\n",
      "Total reward:  61.50302195549011\n",
      "Total reward:  61.51700782775879\n",
      "Total reward:  61.54776906967163\n",
      "Total reward:  61.57868576049805\n",
      "Total reward:  61.59436559677124\n",
      "Total reward:  61.60185670852661\n",
      "Total reward:  61.604963541030884\n",
      "Total reward:  61.60553526878357\n",
      "Total reward:  61.6043062210083\n",
      "Total reward:  61.60141348838806\n",
      "Total reward:  61.596702337265015\n",
      "Total reward:  61.589903116226196\n",
      "Total reward:  61.5807249546051\n",
      "Total reward:  61.6159930229187\n",
      "Total reward:  61.57319188117981\n",
      "Total reward:  61.49821758270264\n",
      "Total reward:  61.435145139694214\n",
      "Total reward:  61.40158128738403\n",
      "Total reward:  61.40690732002258\n",
      "Total reward:  61.45440149307251\n",
      "Total reward:  61.54219651222229\n",
      "Total reward:  61.66302752494812\n",
      "Total reward:  61.80268979072571\n",
      "Total reward:  61.93721318244934\n",
      "Total reward:  62.029921531677246\n",
      "Total reward:  62.043689489364624\n",
      "Total reward:  62.03362226486206\n",
      "Total reward:  62.01799130439758\n"
     ]
    },
    {
     "name": "stderr",
     "output_type": "stream",
     "text": [
      "DEBUG:minerl.env.malmo.instance.98a683:[13:23:36] [Client thread/INFO]: [CHAT] §l174...\n"
     ]
    },
    {
     "name": "stdout",
     "output_type": "stream",
     "text": [
      "Total reward:  61.997947216033936\n",
      "Total reward:  61.97411513328552\n",
      "Total reward:  61.94683861732483\n",
      "Total reward:  61.91632032394409\n",
      "Total reward:  61.882704734802246\n",
      "Total reward:  61.846863746643066\n",
      "Total reward:  61.8079936504364\n",
      "Total reward:  61.7662558555603\n",
      "Total reward:  61.73367476463318\n",
      "Total reward:  61.721511363983154\n",
      "Total reward:  61.725708961486816\n",
      "Total reward:  61.72855615615845\n",
      "Total reward:  61.71713352203369\n",
      "Total reward:  61.69878959655762\n",
      "Total reward:  61.67736458778381\n",
      "Total reward:  61.6546413898468\n",
      "Total reward:  61.631269454956055\n",
      "Total reward:  61.60731339454651\n",
      "Total reward:  61.58256983757019\n",
      "Total reward:  61.55674362182617\n",
      "Total reward:  61.52953791618347\n",
      "Total reward:  61.500696420669556\n",
      "Total reward:  61.47002172470093\n",
      "Total reward:  61.44771361351013\n",
      "Total reward:  61.44404911994934\n",
      "Total reward:  61.45486903190613\n",
      "Total reward:  61.46426463127136\n"
     ]
    },
    {
     "name": "stderr",
     "output_type": "stream",
     "text": [
      "DEBUG:minerl.env.malmo.instance.98a683:[13:23:36] [Client thread/INFO]: [CHAT] §l173...\n",
      "DEBUG:minerl.env.malmo.instance.98a683:[13:23:36] [Client thread/INFO]: [CHAT] §l172...\n"
     ]
    },
    {
     "name": "stdout",
     "output_type": "stream",
     "text": [
      "Total reward:  61.4607515335083\n",
      "Total reward:  61.45119071006775\n",
      "Total reward:  61.43915128707886\n",
      "Total reward:  61.426273822784424\n",
      "Total reward:  61.41312885284424\n",
      "Total reward:  61.39972972869873\n",
      "Total reward:  61.38583445549011\n",
      "Total reward:  61.37110757827759\n",
      "Total reward:  61.355207443237305\n",
      "Total reward:  61.33783030509949\n",
      "Total reward:  61.31872344017029\n",
      "Total reward:  61.30010962486267\n",
      "Total reward:  61.28890013694763\n",
      "Total reward:  61.296481132507324\n",
      "Total reward:  61.31924819946289\n",
      "Total reward:  61.341952085494995\n",
      "Total reward:  61.351330041885376\n",
      "Total reward:  61.3538875579834\n",
      "Total reward:  61.35309338569641\n",
      "Total reward:  61.35061287879944\n",
      "Total reward:  61.34709167480469\n",
      "Total reward:  61.34263014793396\n",
      "Total reward:  61.33706283569336\n",
      "Total reward:  61.330119371414185\n",
      "Total reward:  61.32151126861572\n",
      "Total reward:  61.310975313186646\n",
      "Total reward:  61.29828929901123\n"
     ]
    },
    {
     "name": "stderr",
     "output_type": "stream",
     "text": [
      "DEBUG:minerl.env.malmo.instance.98a683:[13:23:36] [Client thread/INFO]: [CHAT] §l171...\n"
     ]
    },
    {
     "name": "stdout",
     "output_type": "stream",
     "text": [
      "Total reward:  61.292580127716064\n",
      "Total reward:  61.30486583709717\n",
      "Total reward:  61.33128309249878\n",
      "Total reward:  61.357096910476685\n",
      "Total reward:  61.370041847229004\n",
      "Total reward:  61.376625776290894\n",
      "Total reward:  61.380271434783936\n",
      "Total reward:  61.382572412490845\n",
      "Total reward:  61.384093046188354\n",
      "Total reward:  61.38485097885132\n",
      "Total reward:  61.38460302352905\n",
      "Total reward:  61.38300681114197\n",
      "Total reward:  61.37970757484436\n",
      "Total reward:  61.37438201904297\n",
      "Total reward:  61.3667573928833\n",
      "Total reward:  61.35661578178406\n",
      "Total reward:  61.35350799560547\n",
      "Total reward:  61.369396448135376\n",
      "Total reward:  61.400606632232666\n",
      "Total reward:  61.4319384098053\n",
      "Total reward:  61.44957113265991\n",
      "Total reward:  61.46006512641907\n",
      "Total reward:  61.46864438056946\n",
      "Total reward:  61.47489285469055\n",
      "Total reward:  61.47949290275574\n",
      "Total reward:  61.48256039619446\n",
      "Total reward:  61.48393106460571\n"
     ]
    },
    {
     "name": "stderr",
     "output_type": "stream",
     "text": [
      "DEBUG:minerl.env.malmo.instance.98a683:[13:23:36] [Client thread/INFO]: [CHAT] §l170...\n"
     ]
    },
    {
     "name": "stdout",
     "output_type": "stream",
     "text": [
      "Total reward:  61.483327865600586\n",
      "Total reward:  61.48045086860657\n",
      "Total reward:  61.47502374649048\n",
      "Total reward:  61.46681809425354\n",
      "Total reward:  61.455655574798584\n",
      "Total reward:  61.452006340026855\n",
      "Total reward:  61.468878746032715\n",
      "Total reward:  61.50248575210571\n",
      "Total reward:  61.53653573989868\n",
      "Total reward:  61.55550456047058\n",
      "Total reward:  61.56631135940552\n",
      "Total reward:  61.572696685791016\n",
      "Total reward:  61.57648515701294\n",
      "Total reward:  61.57840323448181\n",
      "Total reward:  61.578585386276245\n",
      "Total reward:  61.57687711715698\n",
      "Total reward:  61.57300567626953\n",
      "Total reward:  61.56667876243591\n",
      "Total reward:  61.557628870010376\n",
      "Total reward:  61.545639514923096\n",
      "Total reward:  61.54073977470398\n",
      "Total reward:  61.55518960952759\n",
      "Total reward:  61.584755182266235\n",
      "Total reward:  61.61323046684265\n",
      "Total reward:  61.627015352249146\n",
      "Total reward:  61.633270502090454\n",
      "Total reward:  61.63578939437866\n"
     ]
    },
    {
     "name": "stderr",
     "output_type": "stream",
     "text": [
      "DEBUG:minerl.env.malmo.instance.98a683:[13:23:36] [Client thread/INFO]: [CHAT] §l169...\n",
      "DEBUG:minerl.env.malmo.instance.98a683:[13:23:36] [Client thread/INFO]: [CHAT] §l168...\n"
     ]
    },
    {
     "name": "stdout",
     "output_type": "stream",
     "text": [
      "Total reward:  61.6363570690155\n",
      "Total reward:  61.63561987876892\n",
      "Total reward:  61.63362431526184\n",
      "Total reward:  61.630131244659424\n",
      "Total reward:  61.62479257583618\n",
      "Total reward:  61.617250204086304\n",
      "Total reward:  61.60950303077698\n",
      "Total reward:  61.59847831726074\n",
      "Total reward:  61.58406686782837\n",
      "Total reward:  61.576770544052124\n",
      "Total reward:  61.589194536209106\n",
      "Total reward:  61.61732602119446\n",
      "Total reward:  61.64465665817261\n",
      "Total reward:  61.65696167945862\n",
      "Total reward:  61.6613929271698\n",
      "Total reward:  61.661765813827515\n",
      "Total reward:  61.65989947319031\n",
      "Total reward:  61.65648174285889\n",
      "Total reward:  61.65160131454468\n",
      "Total reward:  61.645060539245605\n",
      "Total reward:  61.63655352592468\n",
      "Total reward:  61.62576222419739\n",
      "Total reward:  61.61240530014038\n",
      "Total reward:  61.59625720977783\n",
      "Total reward:  61.61500835418701\n",
      "Total reward:  61.56198835372925\n",
      "Total reward:  61.51296043395996\n",
      "Total reward:  61.48695230484009\n"
     ]
    },
    {
     "name": "stderr",
     "output_type": "stream",
     "text": [
      "DEBUG:minerl.env.malmo.instance.98a683:[13:23:37] [Client thread/INFO]: [CHAT] §l167...\n"
     ]
    },
    {
     "name": "stdout",
     "output_type": "stream",
     "text": [
      "Total reward:  61.49431037902832\n",
      "Total reward:  61.53866386413574\n",
      "Total reward:  61.617849588394165\n",
      "Total reward:  61.723631143569946\n",
      "Total reward:  61.84020495414734\n",
      "Total reward:  61.94183421134949\n",
      "Total reward:  61.99031686782837\n",
      "Total reward:  61.988922119140625\n",
      "Total reward:  61.98060202598572\n",
      "Total reward:  61.96820020675659\n",
      "Total reward:  61.95228099822998\n",
      "Total reward:  61.93308162689209\n",
      "Total reward:  61.91068243980408\n",
      "Total reward:  61.88510870933533\n",
      "Total reward:  61.85638093948364\n",
      "Total reward:  61.82453799247742\n",
      "Total reward:  61.789270877838135\n",
      "Total reward:  61.75113272666931\n",
      "Total reward:  61.72202205657959\n",
      "Total reward:  61.713539361953735\n",
      "Total reward:  61.721678495407104\n",
      "Total reward:  61.728760957717896\n",
      "Total reward:  61.7213077545166\n",
      "Total reward:  61.70663356781006\n",
      "Total reward:  61.68858194351196\n",
      "Total reward:  61.668954372406006\n",
      "Total reward:  61.64841985702515\n",
      "Total reward:  61.62706017494202\n"
     ]
    },
    {
     "name": "stderr",
     "output_type": "stream",
     "text": [
      "DEBUG:minerl.env.malmo.instance.98a683:[13:23:37] [Client thread/INFO]: [CHAT] §l166...\n"
     ]
    },
    {
     "name": "stdout",
     "output_type": "stream",
     "text": [
      "Total reward:  61.604687213897705\n",
      "Total reward:  61.58101773262024\n",
      "Total reward:  61.555763244628906\n",
      "Total reward:  61.52867674827576\n",
      "Total reward:  61.49956798553467\n",
      "Total reward:  61.478763818740845\n",
      "Total reward:  61.476879835128784\n",
      "Total reward:  61.48971247673035\n",
      "Total reward:  61.50114178657532\n",
      "Total reward:  61.49927639961243\n",
      "Total reward:  61.49107813835144\n",
      "Total reward:  61.48018169403076\n",
      "Total reward:  61.46826505661011\n",
      "Total reward:  61.455920696258545\n",
      "Total reward:  61.44317674636841\n",
      "Total reward:  61.429795026779175\n",
      "Total reward:  61.415443420410156\n",
      "Total reward:  61.39978384971619\n",
      "Total reward:  61.38251328468323\n",
      "Total reward:  61.36338257789612\n",
      "Total reward:  61.342201471328735\n",
      "Total reward:  61.32897424697876\n"
     ]
    },
    {
     "name": "stderr",
     "output_type": "stream",
     "text": [
      "DEBUG:minerl.env.malmo.instance.98a683:[13:23:37] [Client thread/INFO]: [CHAT] §l165...\n",
      "DEBUG:minerl.env.malmo.instance.98a683:[13:23:37] [Client thread/INFO]: [CHAT] §l164...\n"
     ]
    },
    {
     "name": "stdout",
     "output_type": "stream",
     "text": [
      "Total reward:  61.334863901138306\n",
      "Total reward:  61.356245040893555\n",
      "Total reward:  61.37764072418213\n",
      "Total reward:  61.38578820228577\n",
      "Total reward:  61.38722848892212\n",
      "Total reward:  61.38543438911438\n",
      "Total reward:  61.38205599784851\n",
      "Total reward:  61.377716302871704\n",
      "Total reward:  61.37249183654785\n",
      "Total reward:  61.36619853973389\n",
      "Total reward:  61.35854887962341\n",
      "Total reward:  61.34924006462097\n",
      "Total reward:  61.337998390197754\n",
      "Total reward:  61.324594020843506\n",
      "Total reward:  61.31823420524597\n",
      "Total reward:  61.32996082305908\n",
      "Total reward:  61.3558714389801\n",
      "Total reward:  61.3810977935791\n",
      "Total reward:  61.39336276054382\n",
      "Total reward:  61.39922738075256\n",
      "Total reward:  61.40213942527771\n",
      "Total reward:  61.40370225906372\n",
      "Total reward:  61.40448307991028\n",
      "Total reward:  61.40449786186218\n",
      "Total reward:  61.40350127220154\n",
      "Total reward:  61.401148319244385\n",
      "Total reward:  61.397082805633545\n"
     ]
    },
    {
     "name": "stderr",
     "output_type": "stream",
     "text": [
      "DEBUG:minerl.env.malmo.instance.98a683:[13:23:37] [Client thread/INFO]: [CHAT] §l163...\n"
     ]
    },
    {
     "name": "stdout",
     "output_type": "stream",
     "text": [
      "Total reward:  61.39098119735718\n",
      "Total reward:  61.38257050514221\n",
      "Total reward:  61.3716344833374\n",
      "Total reward:  61.367775440216064\n",
      "Total reward:  61.38292860984802\n",
      "Total reward:  61.41339588165283\n",
      "Total reward:  61.4439058303833\n",
      "Total reward:  61.460693359375\n",
      "Total reward:  61.47034692764282\n",
      "Total reward:  61.47637414932251\n",
      "Total reward:  61.48044037818909\n",
      "Total reward:  61.482635259628296\n",
      "Total reward:  61.48366355895996\n",
      "Total reward:  61.483301639556885\n",
      "Total reward:  61.481221199035645\n",
      "Total reward:  61.47708082199097\n",
      "Total reward:  61.47057366371155\n",
      "Total reward:  61.46144366264343\n",
      "Total reward:  61.44949197769165\n",
      "Total reward:  61.44514346122742\n",
      "Total reward:  61.461272954940796\n",
      "Total reward:  61.494093894958496\n",
      "Total reward:  61.52736186981201\n",
      "Total reward:  61.54568958282471\n",
      "Total reward:  61.55596852302551\n",
      "Total reward:  61.561915159225464\n",
      "Total reward:  61.56533932685852\n"
     ]
    },
    {
     "name": "stderr",
     "output_type": "stream",
     "text": [
      "DEBUG:minerl.env.malmo.instance.98a683:[13:23:37] [Client thread/INFO]: [CHAT] §l162...\n"
     ]
    },
    {
     "name": "stdout",
     "output_type": "stream",
     "text": [
      "Total reward:  61.56695604324341\n",
      "Total reward:  61.56689453125\n",
      "Total reward:  61.56499648094177\n",
      "Total reward:  61.56098794937134\n",
      "Total reward:  61.55457282066345\n",
      "Total reward:  61.54548168182373\n",
      "Total reward:  61.53349542617798\n",
      "Total reward:  61.52859592437744\n",
      "Total reward:  61.54297876358032\n",
      "Total reward:  61.57243227958679\n",
      "Total reward:  61.600826025009155\n",
      "Total reward:  61.61462473869324\n",
      "Total reward:  61.62095260620117\n",
      "Total reward:  61.62358331680298\n",
      "Total reward:  61.62429094314575\n",
      "Total reward:  61.62372016906738\n",
      "Total reward:  61.6219162940979\n",
      "Total reward:  61.61863827705383\n",
      "Total reward:  61.61353778839111\n",
      "Total reward:  61.60625767707825\n",
      "Total reward:  61.596477031707764\n",
      "Total reward:  61.58393454551697\n",
      "Total reward:  61.568031787872314\n",
      "Total reward:  61.55961799621582\n",
      "Total reward:  61.5709969997406\n",
      "Total reward:  61.59815716743469\n",
      "Total reward:  61.62469840049744\n"
     ]
    },
    {
     "name": "stderr",
     "output_type": "stream",
     "text": [
      "DEBUG:minerl.env.malmo.instance.98a683:[13:23:38] [Client thread/INFO]: [CHAT] §l161...\n",
      "DEBUG:minerl.env.malmo.instance.98a683:[13:23:38] [Client thread/INFO]: [CHAT] §l160...\n"
     ]
    },
    {
     "name": "stdout",
     "output_type": "stream",
     "text": [
      "Total reward:  61.63657021522522\n",
      "Total reward:  61.64083456993103\n",
      "Total reward:  61.64124035835266\n",
      "Total reward:  61.639562129974365\n",
      "Total reward:  61.636457443237305\n",
      "Total reward:  61.631993532180786\n",
      "Total reward:  61.625956773757935\n",
      "Total reward:  61.61802840232849\n",
      "Total reward:  61.607879400253296\n",
      "Total reward:  61.59521794319153\n",
      "Total reward:  61.57980990409851\n",
      "Total reward:  61.56148338317871\n",
      "Total reward:  61.567230224609375\n",
      "Total reward:  61.62983775138855\n",
      "Total reward:  61.70933747291565\n",
      "Total reward:  61.789307832717896\n",
      "Total reward:  61.84730100631714\n",
      "Total reward:  61.8910026550293\n",
      "Total reward:  61.92492961883545\n",
      "Total reward:  61.95156383514404\n",
      "Total reward:  61.97214674949646\n",
      "Total reward:  61.98720383644104\n",
      "Total reward:  61.99688267707825\n",
      "Total reward:  62.0011568069458\n",
      "Total reward:  61.99994683265686\n",
      "Total reward:  61.99318718910217\n",
      "Total reward:  61.9808623790741\n",
      "Total reward:  61.97525668144226\n"
     ]
    },
    {
     "name": "stderr",
     "output_type": "stream",
     "text": [
      "DEBUG:minerl.env.malmo.instance.98a683:[13:23:38] [Client thread/INFO]: [CHAT] §l159...\n"
     ]
    },
    {
     "name": "stdout",
     "output_type": "stream",
     "text": [
      "Total reward:  61.99132227897644\n",
      "Total reward:  62.02401542663574\n",
      "Total reward:  62.053790807724\n",
      "Total reward:  62.06458258628845\n",
      "Total reward:  62.067418336868286\n",
      "Total reward:  62.06132173538208\n",
      "Total reward:  62.052205324172974\n",
      "Total reward:  62.04092717170715\n",
      "Total reward:  62.02762007713318\n",
      "Total reward:  62.012080669403076\n",
      "Total reward:  61.99398899078369\n",
      "Total reward:  61.973024129867554\n",
      "Total reward:  61.948920249938965\n",
      "Total reward:  61.921488523483276\n",
      "Total reward:  61.89061903953552\n",
      "Total reward:  61.86819529533386\n",
      "Total reward:  61.86661624908447\n",
      "Total reward:  61.88116455078125\n",
      "Total reward:  61.89333653450012\n",
      "Total reward:  61.88954496383667\n",
      "Total reward:  61.877782106399536\n",
      "Total reward:  61.862239599227905\n",
      "Total reward:  61.84486675262451\n",
      "Total reward:  61.82636785507202\n",
      "Total reward:  61.80680847167969\n",
      "Total reward:  61.78595948219299\n",
      "Total reward:  61.7634973526001\n"
     ]
    },
    {
     "name": "stderr",
     "output_type": "stream",
     "text": [
      "DEBUG:minerl.env.malmo.instance.98a683:[13:23:38] [Client thread/INFO]: [CHAT] §l158...\n"
     ]
    },
    {
     "name": "stdout",
     "output_type": "stream",
     "text": [
      "Total reward:  61.739099740982056\n",
      "Total reward:  61.71249318122864\n",
      "Total reward:  61.683472633361816\n",
      "Total reward:  61.65190291404724\n",
      "Total reward:  61.62906050682068\n",
      "Total reward:  61.62653398513794\n",
      "Total reward:  61.64009380340576\n",
      "Total reward:  61.65248513221741\n",
      "Total reward:  61.650331258773804\n",
      "Total reward:  61.64092779159546\n",
      "Total reward:  61.628122329711914\n",
      "Total reward:  61.61372494697571\n",
      "Total reward:  61.59840965270996\n",
      "Total reward:  61.58213686943054\n",
      "Total reward:  61.56485962867737\n",
      "Total reward:  61.546278953552246\n",
      "Total reward:  61.52608633041382\n",
      "Total reward:  61.5040123462677\n",
      "Total reward:  61.479843616485596\n",
      "Total reward:  61.46333169937134\n",
      "Total reward:  61.46494269371033\n",
      "Total reward:  61.48050618171692\n",
      "Total reward:  61.49443960189819\n",
      "Total reward:  61.49543857574463\n",
      "Total reward:  61.49034929275513\n",
      "Total reward:  61.48272228240967\n",
      "Total reward:  61.4741747379303\n"
     ]
    },
    {
     "name": "stderr",
     "output_type": "stream",
     "text": [
      "DEBUG:minerl.env.malmo.instance.98a683:[13:23:38] [Client thread/INFO]: [CHAT] §l157...\n",
      "DEBUG:minerl.env.malmo.instance.98a683:[13:23:38] [Client thread/INFO]: [CHAT] §l156...\n"
     ]
    },
    {
     "name": "stdout",
     "output_type": "stream",
     "text": [
      "Total reward:  61.46525001525879\n",
      "Total reward:  61.45593547821045\n",
      "Total reward:  61.445961475372314\n",
      "Total reward:  61.43496537208557\n",
      "Total reward:  61.4225811958313\n",
      "Total reward:  61.4084849357605\n",
      "Total reward:  61.39240908622742\n",
      "Total reward:  61.374146461486816\n",
      "Total reward:  61.363309144973755\n",
      "Total reward:  61.37097644805908\n",
      "Total reward:  61.39341926574707\n",
      "Total reward:  61.41545534133911\n",
      "Total reward:  61.42446208000183\n",
      "Total reward:  61.42696762084961\n",
      "Total reward:  61.42640995979309\n",
      "Total reward:  61.42439603805542\n",
      "Total reward:  61.421504735946655\n",
      "Total reward:  61.417773485183716\n",
      "Total reward:  61.41297960281372\n",
      "Total reward:  61.40680480003357\n",
      "Total reward:  61.39891982078552\n",
      "Total reward:  61.390751123428345\n",
      "Total reward:  61.3799614906311\n",
      "Total reward:  61.36642265319824\n",
      "Total reward:  61.36030912399292\n",
      "Total reward:  61.37392616271973\n",
      "Total reward:  61.40360140800476\n",
      "Total reward:  61.43361234664917\n"
     ]
    },
    {
     "name": "stderr",
     "output_type": "stream",
     "text": [
      "DEBUG:minerl.env.malmo.instance.98a683:[13:23:38] [Client thread/INFO]: [CHAT] §l155...\n"
     ]
    },
    {
     "name": "stdout",
     "output_type": "stream",
     "text": [
      "Total reward:  61.449378967285156\n",
      "Total reward:  61.45759081840515\n",
      "Total reward:  61.46184754371643\n",
      "Total reward:  61.46389365196228\n",
      "Total reward:  61.464417934417725\n",
      "Total reward:  61.463542461395264\n",
      "Total reward:  61.46111178398132\n",
      "Total reward:  61.45685601234436\n",
      "Total reward:  61.45048546791077\n",
      "Total reward:  61.441734075546265\n",
      "Total reward:  61.43038010597229\n",
      "Total reward:  61.426032066345215\n",
      "Total reward:  61.4404821395874\n",
      "Total reward:  61.46968078613281\n",
      "Total reward:  61.49810576438904\n",
      "Total reward:  61.51261115074158\n",
      "Total reward:  61.52005052566528\n",
      "Total reward:  61.524049043655396\n",
      "Total reward:  61.526310205459595\n",
      "Total reward:  61.52744793891907\n",
      "Total reward:  61.527501583099365\n",
      "Total reward:  61.52623176574707\n",
      "Total reward:  61.52329444885254\n",
      "Total reward:  61.518333435058594\n",
      "Total reward:  61.511027097702026\n",
      "Total reward:  61.501107931137085\n",
      "Total reward:  61.488370180130005\n"
     ]
    },
    {
     "name": "stderr",
     "output_type": "stream",
     "text": [
      "DEBUG:minerl.env.malmo.instance.98a683:[13:23:39] [Client thread/INFO]: [CHAT] §l154...\n",
      "DEBUG:minerl.env.malmo.instance.98a683:[13:23:39] [Client thread/INFO]: [CHAT] §l153...\n"
     ]
    },
    {
     "name": "stdout",
     "output_type": "stream",
     "text": [
      "Total reward:  61.48287343978882\n",
      "Total reward:  61.496922731399536\n",
      "Total reward:  61.52664828300476\n",
      "Total reward:  61.5560941696167\n",
      "Total reward:  61.57399249076843\n",
      "Total reward:  61.58378553390503\n",
      "Total reward:  61.58922839164734\n",
      "Total reward:  61.59214782714844\n",
      "Total reward:  61.59326434135437\n",
      "Total reward:  61.59270977973938\n",
      "Total reward:  61.590322971343994\n",
      "Total reward:  61.58582782745361\n",
      "Total reward:  61.57892823219299\n",
      "Total reward:  61.56935691833496\n",
      "Total reward:  61.55689525604248\n",
      "Total reward:  61.54138207435608\n",
      "Total reward:  61.533658266067505\n",
      "Total reward:  61.54668307304382\n",
      "Total reward:  61.57651495933533\n",
      "Total reward:  61.60635948181152\n",
      "Total reward:  61.62085175514221\n",
      "Total reward:  61.627117395401\n",
      "Total reward:  61.665963649749756\n",
      "Total reward:  61.72101354598999\n",
      "Total reward:  61.766507387161255\n",
      "Total reward:  61.80370903015137\n",
      "Total reward:  61.83332276344299\n",
      "Total reward:  61.85573697090149\n",
      "Total reward:  61.87118077278137\n"
     ]
    },
    {
     "name": "stderr",
     "output_type": "stream",
     "text": [
      "DEBUG:minerl.env.malmo.instance.98a683:[13:23:39] [Client thread/INFO]: [CHAT] §l152...\n"
     ]
    },
    {
     "name": "stdout",
     "output_type": "stream",
     "text": [
      "Total reward:  61.879812717437744\n",
      "Total reward:  61.881779193878174\n",
      "Total reward:  61.8890278339386\n",
      "Total reward:  61.9177680015564\n",
      "Total reward:  61.9634165763855\n",
      "Total reward:  62.00709056854248\n",
      "Total reward:  62.03115487098694\n",
      "Total reward:  62.04405331611633\n",
      "Total reward:  62.05043172836304\n",
      "Total reward:  62.05259609222412\n",
      "Total reward:  62.05150055885315\n",
      "Total reward:  62.04737186431885\n",
      "Total reward:  62.04008650779724\n",
      "Total reward:  62.030888080596924\n",
      "Total reward:  62.014782190322876\n",
      "Total reward:  61.99515247344971\n",
      "Total reward:  61.97178673744202\n",
      "Total reward:  61.944562911987305\n",
      "Total reward:  61.92568516731262\n",
      "Total reward:  61.9284086227417\n",
      "Total reward:  61.9479284286499\n",
      "Total reward:  61.96516823768616\n",
      "Total reward:  61.96544122695923\n",
      "Total reward:  61.95699381828308\n",
      "Total reward:  61.94418978691101\n",
      "Total reward:  61.9290828704834\n",
      "Total reward:  61.91243624687195\n",
      "Total reward:  61.894343852996826\n",
      "Total reward:  61.874595165252686\n"
     ]
    },
    {
     "name": "stderr",
     "output_type": "stream",
     "text": [
      "DEBUG:minerl.env.malmo.instance.98a683:[13:23:39] [Client thread/INFO]: [CHAT] §l151...\n"
     ]
    },
    {
     "name": "stdout",
     "output_type": "stream",
     "text": [
      "Total reward:  61.85287380218506\n",
      "Total reward:  61.828863859176636\n",
      "Total reward:  61.80230212211609\n",
      "Total reward:  61.77299666404724\n",
      "Total reward:  61.74082827568054\n",
      "Total reward:  61.71752333641052\n",
      "Total reward:  61.715150594711304\n",
      "Total reward:  61.7293062210083\n",
      "Total reward:  61.74207162857056\n",
      "Total reward:  61.73953175544739\n",
      "Total reward:  61.72927522659302\n",
      "Total reward:  61.71531391143799\n",
      "Total reward:  61.69954538345337\n",
      "Total reward:  61.68268585205078\n",
      "Total reward:  61.66483497619629\n",
      "Total reward:  61.64580702781677\n",
      "Total reward:  61.625314235687256\n",
      "Total reward:  61.60305857658386\n",
      "Total reward:  61.57878136634827\n",
      "Total reward:  61.555121183395386\n",
      "Total reward:  61.53867173194885\n",
      "Total reward:  61.54039907455444\n",
      "Total reward:  61.55603528022766\n",
      "Total reward:  61.56954646110535\n",
      "Total reward:  61.5693838596344\n",
      "Total reward:  61.56266188621521\n",
      "Total reward:  61.55309343338013\n",
      "Total reward:  61.54238939285278\n"
     ]
    },
    {
     "name": "stderr",
     "output_type": "stream",
     "text": [
      "DEBUG:minerl.env.malmo.instance.98a683:[13:23:39] [Client thread/INFO]: [CHAT] §l150...\n",
      "DEBUG:minerl.env.malmo.instance.98a683:[13:23:39] [Client thread/INFO]: [CHAT] §l149...\n"
     ]
    },
    {
     "name": "stdout",
     "output_type": "stream",
     "text": [
      "Total reward:  61.53114676475525\n",
      "Total reward:  61.519383668899536\n",
      "Total reward:  61.506850242614746\n",
      "Total reward:  61.49320125579834\n",
      "Total reward:  61.47808599472046\n",
      "Total reward:  61.46119570732117\n",
      "Total reward:  61.44227719306946\n",
      "Total reward:  61.42113947868347\n",
      "Total reward:  61.40758228302002\n",
      "Total reward:  61.412577867507935\n",
      "Total reward:  61.432321071624756\n",
      "Total reward:  61.4513943195343\n",
      "Total reward:  61.45738172531128\n",
      "Total reward:  61.45690631866455\n",
      "Total reward:  61.45344567298889\n",
      "Total reward:  61.44861936569214\n",
      "Total reward:  61.44300675392151\n",
      "Total reward:  61.43664026260376\n",
      "Total reward:  61.42929244041443\n",
      "Total reward:  61.420642137527466\n",
      "Total reward:  61.410359382629395\n",
      "Total reward:  61.39814805984497\n",
      "Total reward:  61.38376259803772\n",
      "Total reward:  61.36701488494873\n",
      "Total reward:  61.3580367565155\n",
      "Total reward:  61.36874532699585\n",
      "Total reward:  61.39544105529785\n"
     ]
    },
    {
     "name": "stderr",
     "output_type": "stream",
     "text": [
      "DEBUG:minerl.env.malmo.instance.98a683:[13:23:40] [Client thread/INFO]: [CHAT] §l148...\n"
     ]
    },
    {
     "name": "stdout",
     "output_type": "stream",
     "text": [
      "Total reward:  61.42507743835449\n",
      "Total reward:  61.440290451049805\n",
      "Total reward:  61.44780111312866\n",
      "Total reward:  61.45124101638794\n",
      "Total reward:  61.452388286590576\n",
      "Total reward:  61.45195960998535\n",
      "Total reward:  61.450101375579834\n",
      "Total reward:  61.44668006896973\n",
      "Total reward:  61.44144558906555\n",
      "Total reward:  61.4341254234314\n",
      "Total reward:  61.424466609954834\n",
      "Total reward:  61.41226053237915\n",
      "Total reward:  61.40707206726074\n",
      "Total reward:  61.42052745819092\n",
      "Total reward:  61.4486026763916\n",
      "Total reward:  61.4758837223053\n",
      "Total reward:  61.489428758621216\n",
      "Total reward:  61.49604249000549\n",
      "Total reward:  61.499322175979614\n",
      "Total reward:  61.50095224380493\n",
      "Total reward:  61.50153994560242\n",
      "Total reward:  61.501121282577515\n",
      "Total reward:  61.4994592666626\n",
      "Total reward:  61.49621224403381\n",
      "Total reward:  61.491026401519775\n",
      "Total reward:  61.48358082771301\n",
      "Total reward:  61.47360897064209\n",
      "Total reward:  61.46090340614319\n",
      "Total reward:  61.45543169975281\n"
     ]
    },
    {
     "name": "stderr",
     "output_type": "stream",
     "text": [
      "DEBUG:minerl.env.malmo.instance.98a683:[13:23:40] [Client thread/INFO]: [CHAT] §l147...\n",
      "DEBUG:minerl.env.malmo.instance.98a683:[13:23:40] [Client thread/INFO]: [CHAT] §l146...\n"
     ]
    },
    {
     "name": "stdout",
     "output_type": "stream",
     "text": [
      "Total reward:  61.46938633918762\n",
      "Total reward:  61.498936891555786\n",
      "Total reward:  61.528281688690186\n",
      "Total reward:  61.54339122772217\n",
      "Total reward:  61.551074504852295\n",
      "Total reward:  61.554957151412964\n",
      "Total reward:  61.556763887405396\n",
      "Total reward:  61.557140827178955\n",
      "Total reward:  61.556159019470215\n",
      "Total reward:  61.55596089363098\n",
      "Total reward:  61.553401470184326\n",
      "Total reward:  61.548239946365356\n",
      "Total reward:  61.54025316238403\n",
      "Total reward:  61.52925729751587\n",
      "Total reward:  61.515119791030884\n",
      "Total reward:  61.508612632751465\n",
      "Total reward:  61.52275013923645\n",
      "Total reward:  61.55364465713501\n",
      "Total reward:  61.584641456604004\n",
      "Total reward:  61.60031247138977\n",
      "Total reward:  61.60773420333862\n",
      "Total reward:  61.610727310180664\n",
      "Total reward:  61.61115074157715\n",
      "Total reward:  61.609747648239136\n",
      "Total reward:  61.60666060447693\n",
      "Total reward:  61.601739168167114\n",
      "Total reward:  61.59471559524536\n"
     ]
    },
    {
     "name": "stderr",
     "output_type": "stream",
     "text": [
      "DEBUG:minerl.env.malmo.instance.98a683:[13:23:40] [Client thread/INFO]: [CHAT] §l145...\n"
     ]
    },
    {
     "name": "stdout",
     "output_type": "stream",
     "text": [
      "Total reward:  61.61738395690918\n",
      "Total reward:  61.5843391418457\n",
      "Total reward:  61.517337799072266\n",
      "Total reward:  61.45953154563904\n",
      "Total reward:  61.429019927978516\n",
      "Total reward:  61.435523986816406\n",
      "Total reward:  61.48246145248413\n",
      "Total reward:  61.56788516044617\n",
      "Total reward:  61.68422055244446\n",
      "Total reward:  61.816723346710205\n",
      "Total reward:  61.94077157974243\n",
      "Total reward:  62.015506982803345\n",
      "Total reward:  62.026286363601685\n",
      "Total reward:  62.01917910575867\n",
      "Total reward:  62.00766587257385\n",
      "Total reward:  61.992361307144165\n",
      "Total reward:  61.973533630371094\n",
      "Total reward:  61.951289892196655\n",
      "Total reward:  61.92567706108093\n",
      "Total reward:  61.896735429763794\n",
      "Total reward:  61.865644216537476\n",
      "Total reward:  61.83110070228577\n",
      "Total reward:  61.79325985908508\n",
      "Total reward:  61.764302253723145\n",
      "Total reward:  61.756155490875244\n",
      "Total reward:  61.764742374420166\n",
      "Total reward:  61.77206754684448\n",
      "Total reward:  61.76439642906189\n",
      "Total reward:  61.74920988082886\n"
     ]
    },
    {
     "name": "stderr",
     "output_type": "stream",
     "text": [
      "DEBUG:minerl.env.malmo.instance.98a683:[13:23:40] [Client thread/INFO]: [CHAT] §l144...\n"
     ]
    },
    {
     "name": "stdout",
     "output_type": "stream",
     "text": [
      "Total reward:  61.73044943809509\n",
      "Total reward:  61.70997428894043\n",
      "Total reward:  61.68848371505737\n",
      "Total reward:  61.6660795211792\n",
      "Total reward:  61.64258313179016\n",
      "Total reward:  61.617719888687134\n",
      "Total reward:  61.59121084213257\n",
      "Total reward:  61.56281638145447\n",
      "Total reward:  61.532355546951294\n",
      "Total reward:  61.51028752326965\n",
      "Total reward:  61.50723218917847\n",
      "Total reward:  61.51892280578613\n",
      "Total reward:  61.52905750274658\n",
      "Total reward:  61.52579069137573\n",
      "Total reward:  61.5161657333374\n",
      "Total reward:  61.50385355949402\n",
      "Total reward:  61.4905481338501\n",
      "Total reward:  61.4768431186676\n",
      "Total reward:  61.46276378631592\n",
      "Total reward:  61.44807171821594\n",
      "Total reward:  61.43243169784546\n",
      "Total reward:  61.41550302505493\n",
      "Total reward:  61.396984577178955\n",
      "Total reward:  61.37662887573242\n",
      "Total reward:  61.354247093200684\n",
      "Total reward:  61.340747356414795\n",
      "Total reward:  61.34632897377014\n"
     ]
    },
    {
     "name": "stderr",
     "output_type": "stream",
     "text": [
      "DEBUG:minerl.env.malmo.instance.98a683:[13:23:40] [Client thread/INFO]: [CHAT] §l143...\n",
      "DEBUG:minerl.env.malmo.instance.98a683:[13:23:40] [Client thread/INFO]: [CHAT] §l142...\n"
     ]
    },
    {
     "name": "stdout",
     "output_type": "stream",
     "text": [
      "Total reward:  61.36728882789612\n",
      "Total reward:  61.38809895515442\n",
      "Total reward:  61.39553451538086\n",
      "Total reward:  61.396185874938965\n",
      "Total reward:  61.393555879592896\n",
      "Total reward:  61.38931322097778\n",
      "Total reward:  61.38409233093262\n",
      "Total reward:  61.37798094749451\n",
      "Total reward:  61.370800256729126\n",
      "Total reward:  61.362271785736084\n",
      "Total reward:  61.35209655761719\n",
      "Total reward:  61.34000611305237\n",
      "Total reward:  61.32577610015869\n",
      "Total reward:  61.31861853599548\n",
      "Total reward:  61.32948184013367\n",
      "Total reward:  61.3544602394104\n",
      "Total reward:  61.378692388534546\n",
      "Total reward:  61.3900363445282\n",
      "Total reward:  61.39504814147949\n",
      "Total reward:  61.39716839790344\n",
      "Total reward:  61.39799666404724\n",
      "Total reward:  61.398093461990356\n",
      "Total reward:  61.39747214317322\n",
      "Total reward:  61.395885944366455\n",
      "Total reward:  61.392988443374634\n",
      "Total reward:  61.388423442840576\n",
      "Total reward:  61.38186717033386\n",
      "Total reward:  61.373047828674316\n",
      "Total reward:  61.361751079559326\n"
     ]
    },
    {
     "name": "stderr",
     "output_type": "stream",
     "text": [
      "DEBUG:minerl.env.malmo.instance.98a683:[13:23:41] [Client thread/INFO]: [CHAT] §l141...\n"
     ]
    },
    {
     "name": "stdout",
     "output_type": "stream",
     "text": [
      "Total reward:  61.357542514801025\n",
      "Total reward:  61.37226700782776\n",
      "Total reward:  61.40223836898804\n",
      "Total reward:  61.432246685028076\n",
      "Total reward:  61.44863557815552\n",
      "Total reward:  61.45796489715576\n",
      "Total reward:  61.463725328445435\n",
      "Total reward:  61.46690773963928\n",
      "Total reward:  61.46893095970154\n",
      "Total reward:  61.4698326587677\n",
      "Total reward:  61.46938490867615\n",
      "Total reward:  61.46726083755493\n",
      "Total reward:  61.46311950683594\n",
      "Total reward:  61.45665216445923\n",
      "Total reward:  61.447601079940796\n",
      "Total reward:  61.43576741218567\n",
      "Total reward:  61.43152141571045\n",
      "Total reward:  61.44768404960632\n",
      "Total reward:  61.480488538742065\n",
      "Total reward:  61.51377010345459\n",
      "Total reward:  61.53220462799072\n",
      "Total reward:  61.54264688491821\n",
      "Total reward:  61.54879546165466\n",
      "Total reward:  61.55244827270508\n",
      "Total reward:  61.554317235946655\n",
      "Total reward:  61.554529428482056\n",
      "Total reward:  61.55292558670044\n",
      "Total reward:  61.5492308139801\n",
      "Total reward:  61.54314923286438\n",
      "Total reward:  61.534412145614624\n"
     ]
    },
    {
     "name": "stderr",
     "output_type": "stream",
     "text": [
      "DEBUG:minerl.env.malmo.instance.98a683:[13:23:41] [Client thread/INFO]: [CHAT] §l140...\n",
      "DEBUG:minerl.env.malmo.instance.98a683:[13:23:41] [Client thread/INFO]: [CHAT] §l139...\n"
     ]
    },
    {
     "name": "stdout",
     "output_type": "stream",
     "text": [
      "Total reward:  61.522799015045166\n",
      "Total reward:  61.51824975013733\n",
      "Total reward:  61.53295183181763\n",
      "Total reward:  61.56271266937256\n",
      "Total reward:  61.59146308898926\n",
      "Total reward:  61.60566282272339\n",
      "Total reward:  61.61240863800049\n",
      "Total reward:  61.61546182632446\n",
      "Total reward:  61.61659097671509\n",
      "Total reward:  61.6164391040802\n",
      "Total reward:  61.615050315856934\n",
      "Total reward:  61.61218452453613\n",
      "Total reward:  61.60749626159668\n",
      "Total reward:  61.60062599182129\n",
      "Total reward:  61.59125375747681\n",
      "Total reward:  61.57885122299194\n",
      "Total reward:  61.56354546546936\n",
      "Total reward:  61.55566716194153\n",
      "Total reward:  61.567572593688965\n",
      "Total reward:  61.595261096954346\n",
      "Total reward:  61.62235641479492\n",
      "Total reward:  61.63474941253662\n",
      "Total reward:  61.63949680328369\n",
      "Total reward:  61.64034843444824\n",
      "Total reward:  61.639081954956055\n",
      "Total reward:  61.636359214782715\n",
      "Total reward:  61.63224983215332\n",
      "Total reward:  61.62654256820679\n"
     ]
    },
    {
     "name": "stderr",
     "output_type": "stream",
     "text": [
      "DEBUG:minerl.env.malmo.instance.98a683:[13:23:41] [Client thread/INFO]: [CHAT] §l138...\n"
     ]
    },
    {
     "name": "stdout",
     "output_type": "stream",
     "text": [
      "Total reward:  61.61892056465149\n",
      "Total reward:  61.609055519104004\n",
      "Total reward:  61.59665632247925\n",
      "Total reward:  61.58149075508118\n",
      "Total reward:  61.57783651351929\n",
      "Total reward:  61.53329563140869\n",
      "Total reward:  61.49195408821106\n",
      "Total reward:  61.4729585647583\n",
      "Total reward:  61.486926317214966\n",
      "Total reward:  61.537803649902344\n",
      "Total reward:  61.623748779296875\n",
      "Total reward:  61.73682427406311\n",
      "Total reward:  61.86142134666443\n",
      "Total reward:  61.97168493270874\n",
      "Total reward:  62.02859616279602\n",
      "Total reward:  62.033915519714355\n",
      "Total reward:  62.03124642372131\n",
      "Total reward:  62.02356553077698\n",
      "Total reward:  62.011531829833984\n",
      "Total reward:  61.99546003341675\n",
      "Total reward:  61.97550439834595\n",
      "Total reward:  61.951754093170166\n",
      "Total reward:  61.9242901802063\n",
      "Total reward:  61.89320969581604\n",
      "Total reward:  61.859424352645874\n",
      "Total reward:  61.82209372520447\n",
      "Total reward:  61.7935745716095\n",
      "Total reward:  61.7860541343689\n",
      "Total reward:  61.795406341552734\n",
      "Total reward:  61.80340266227722\n"
     ]
    },
    {
     "name": "stderr",
     "output_type": "stream",
     "text": [
      "DEBUG:minerl.env.malmo.instance.98a683:[13:23:41] [Client thread/INFO]: [CHAT] §l137...\n",
      "DEBUG:minerl.env.malmo.instance.98a683:[13:23:41] [Client thread/INFO]: [CHAT] §l136...\n"
     ]
    },
    {
     "name": "stdout",
     "output_type": "stream",
     "text": [
      "Total reward:  61.796048402786255\n",
      "Total reward:  61.78093862533569\n",
      "Total reward:  61.76208853721619\n",
      "Total reward:  61.741398334503174\n",
      "Total reward:  61.719592332839966\n",
      "Total reward:  61.69678449630737\n",
      "Total reward:  61.672807693481445\n",
      "Total reward:  61.647393465042114\n",
      "Total reward:  61.62026858329773\n",
      "Total reward:  61.591198682785034\n",
      "Total reward:  61.560006856918335\n",
      "Total reward:  61.5372679233551\n",
      "Total reward:  61.53365683555603\n",
      "Total reward:  61.544853925704956\n",
      "Total reward:  61.55439066886902\n",
      "Total reward:  61.55038809776306\n",
      "Total reward:  61.539963722229004\n",
      "Total reward:  61.526824712753296\n",
      "Total reward:  61.5126793384552\n",
      "Total reward:  61.49812889099121\n",
      "Total reward:  61.48319864273071\n",
      "Total reward:  61.46764945983887\n",
      "Total reward:  61.451146364212036\n",
      "Total reward:  61.43335032463074\n",
      "Total reward:  61.41395926475525\n",
      "Total reward:  61.39272665977478\n",
      "Total reward:  61.36946487426758\n",
      "Total reward:  61.354275703430176\n"
     ]
    },
    {
     "name": "stderr",
     "output_type": "stream",
     "text": [
      "DEBUG:minerl.env.malmo.instance.98a683:[13:23:41] [Client thread/INFO]: [CHAT] §l135...\n"
     ]
    },
    {
     "name": "stdout",
     "output_type": "stream",
     "text": [
      "Total reward:  61.35926365852356\n",
      "Total reward:  61.37960696220398\n",
      "Total reward:  61.39970946311951\n",
      "Total reward:  61.40638971328735\n",
      "Total reward:  61.40627074241638\n",
      "Total reward:  61.40287137031555\n",
      "Total reward:  61.39786767959595\n",
      "Total reward:  61.39189863204956\n",
      "Total reward:  61.38505029678345\n",
      "Total reward:  61.37714743614197\n",
      "Total reward:  61.36790895462036\n",
      "Total reward:  61.35703945159912\n",
      "Total reward:  61.344271659851074\n",
      "Total reward:  61.3293821811676\n",
      "Total reward:  61.321593284606934\n",
      "Total reward:  61.33179187774658\n",
      "Total reward:  61.35606551170349\n",
      "Total reward:  61.37954545021057\n",
      "Total reward:  61.39017844200134\n",
      "Total reward:  61.394522190093994\n",
      "Total reward:  61.3960177898407\n",
      "Total reward:  61.396259784698486\n",
      "Total reward:  61.39580512046814\n",
      "Total reward:  61.394665241241455\n",
      "Total reward:  61.39259195327759\n",
      "Total reward:  61.389238595962524\n",
      "Total reward:  61.38424849510193\n",
      "Total reward:  61.3772988319397\n",
      "Total reward:  61.368117809295654\n"
     ]
    },
    {
     "name": "stderr",
     "output_type": "stream",
     "text": [
      "DEBUG:minerl.env.malmo.instance.98a683:[13:23:42] [Client thread/INFO]: [CHAT] §l134...\n"
     ]
    },
    {
     "name": "stdout",
     "output_type": "stream",
     "text": [
      "Total reward:  61.3564887046814\n",
      "Total reward:  61.35195994377136\n",
      "Total reward:  61.36631202697754\n",
      "Total reward:  61.39586424827576\n",
      "Total reward:  61.42544174194336\n",
      "Total reward:  61.44146704673767\n",
      "Total reward:  61.45048642158508\n",
      "Total reward:  61.45598030090332\n",
      "Total reward:  61.46251130104065\n",
      "Total reward:  61.4671905040741\n",
      "Total reward:  61.47018003463745\n",
      "Total reward:  61.4713568687439\n",
      "Total reward:  61.470478534698486\n",
      "Total reward:  61.46727252006531\n",
      "Total reward:  61.461488008499146\n",
      "Total reward:  61.45291495323181\n",
      "Total reward:  61.44139122962952\n",
      "Total reward:  61.437342405319214\n",
      "Total reward:  61.453662395477295\n",
      "Total reward:  61.486583948135376\n",
      "Total reward:  61.519912242889404\n",
      "Total reward:  61.538291931152344\n",
      "Total reward:  61.54860758781433\n",
      "Total reward:  61.554577589035034\n",
      "Total reward:  61.55801463127136\n",
      "Total reward:  61.55963969230652\n",
      "Total reward:  61.5595862865448\n"
     ]
    },
    {
     "name": "stderr",
     "output_type": "stream",
     "text": [
      "DEBUG:minerl.env.malmo.instance.98a683:[13:23:42] [Client thread/INFO]: [CHAT] §l133...\n",
      "DEBUG:minerl.env.malmo.instance.98a683:[13:23:42] [Client thread/INFO]: [CHAT] §l132...\n"
     ]
    },
    {
     "name": "stdout",
     "output_type": "stream",
     "text": [
      "Total reward:  61.557700634002686\n",
      "Total reward:  61.55371165275574\n",
      "Total reward:  61.54732656478882\n",
      "Total reward:  61.53828001022339\n",
      "Total reward:  61.52635407447815\n",
      "Total reward:  61.52150225639343\n",
      "Total reward:  61.53589391708374\n",
      "Total reward:  61.565327167510986\n",
      "Total reward:  61.59371829032898\n",
      "Total reward:  61.60756182670593\n",
      "Total reward:  61.613964557647705\n",
      "Total reward:  61.616689920425415\n",
      "Total reward:  61.61750531196594\n",
      "Total reward:  61.6170539855957\n",
      "Total reward:  61.615379333496094\n",
      "Total reward:  61.61224150657654\n",
      "Total reward:  61.607292890548706\n",
      "Total reward:  61.60017514228821\n",
      "Total reward:  61.59056854248047\n",
      "Total reward:  61.58085250854492\n",
      "Total reward:  61.56477236747742\n",
      "Total reward:  61.55624723434448\n",
      "Total reward:  61.567535161972046\n",
      "Total reward:  61.594624042510986\n",
      "Total reward:  61.621135234832764\n",
      "Total reward:  61.63303542137146\n",
      "Total reward:  61.63736963272095\n"
     ]
    },
    {
     "name": "stderr",
     "output_type": "stream",
     "text": [
      "DEBUG:minerl.env.malmo.instance.98a683:[13:23:42] [Client thread/INFO]: [CHAT] §l131...\n"
     ]
    },
    {
     "name": "stdout",
     "output_type": "stream",
     "text": [
      "Total reward:  61.6378755569458\n",
      "Total reward:  61.63631892204285\n",
      "Total reward:  61.63335204124451\n",
      "Total reward:  61.6290385723114\n",
      "Total reward:  61.623162269592285\n",
      "Total reward:  61.615402698516846\n",
      "Total reward:  61.605427742004395\n",
      "Total reward:  61.59294366836548\n",
      "Total reward:  61.57771563529968\n",
      "Total reward:  61.559568881988525\n",
      "Total reward:  61.56860852241516\n",
      "Total reward:  61.63137412071228\n",
      "Total reward:  61.71107244491577\n",
      "Total reward:  61.79126715660095\n",
      "Total reward:  61.84946870803833\n",
      "Total reward:  61.89336585998535\n",
      "Total reward:  61.927475929260254\n",
      "Total reward:  61.95428109169006\n",
      "Total reward:  61.97502112388611\n",
      "Total reward:  61.990222692489624\n",
      "Total reward:  62.00003099441528\n",
      "Total reward:  62.00441765785217\n",
      "Total reward:  62.00330114364624\n",
      "Total reward:  61.99661636352539\n",
      "Total reward:  61.98434805870056\n",
      "Total reward:  61.97879934310913\n",
      "Total reward:  61.99495553970337\n",
      "Total reward:  62.02776622772217\n"
     ]
    },
    {
     "name": "stderr",
     "output_type": "stream",
     "text": [
      "DEBUG:minerl.env.malmo.instance.98a683:[13:23:42] [Client thread/INFO]: [CHAT] §l130...\n",
      "DEBUG:minerl.env.malmo.instance.98a683:[13:23:42] [Client thread/INFO]: [CHAT] §l129...\n"
     ]
    },
    {
     "name": "stdout",
     "output_type": "stream",
     "text": [
      "Total reward:  62.05765199661255\n",
      "Total reward:  62.068506479263306\n",
      "Total reward:  62.07112407684326\n",
      "Total reward:  62.06776285171509\n",
      "Total reward:  62.060778856277466\n",
      "Total reward:  62.05113077163696\n",
      "Total reward:  62.03903841972351\n",
      "Total reward:  62.024369955062866\n",
      "Total reward:  62.00686240196228\n",
      "Total reward:  61.986241579055786\n",
      "Total reward:  61.96228241920471\n",
      "Total reward:  61.934829235076904\n",
      "Total reward:  61.903801679611206\n",
      "Total reward:  61.881178855895996\n",
      "Total reward:  61.879432916641235\n",
      "Total reward:  61.89381980895996\n",
      "Total reward:  61.90573167800903\n",
      "Total reward:  61.901548862457275\n",
      "Total reward:  61.889320373535156\n",
      "Total reward:  61.87327313423157\n",
      "Total reward:  61.85537266731262\n",
      "Total reward:  61.83633303642273\n",
      "Total reward:  61.81622266769409\n",
      "Total reward:  61.794816970825195\n",
      "Total reward:  61.77179312705994\n",
      "Total reward:  61.7468318939209\n",
      "Total reward:  61.71966338157654\n",
      "Total reward:  61.69008541107178\n",
      "Total reward:  61.65796422958374\n"
     ]
    },
    {
     "name": "stderr",
     "output_type": "stream",
     "text": [
      "DEBUG:minerl.env.malmo.instance.98a683:[13:23:42] [Client thread/INFO]: [CHAT] §l128...\n"
     ]
    },
    {
     "name": "stdout",
     "output_type": "stream",
     "text": [
      "Total reward:  61.634604692459106\n",
      "Total reward:  61.63156175613403\n",
      "Total reward:  61.64459276199341\n",
      "Total reward:  61.65640950202942\n",
      "Total reward:  61.65368962287903\n",
      "Total reward:  61.64374136924744\n",
      "Total reward:  61.63041591644287\n",
      "Total reward:  61.615525245666504\n",
      "Total reward:  61.599740982055664\n",
      "Total reward:  61.582555055618286\n",
      "Total reward:  61.56449055671692\n",
      "Total reward:  61.545228481292725\n",
      "Total reward:  61.52444577217102\n",
      "Total reward:  61.50185990333557\n",
      "Total reward:  61.47724676132202\n",
      "Total reward:  61.46033692359924\n",
      "Total reward:  61.46152973175049\n",
      "Total reward:  61.47665476799011\n",
      "Total reward:  61.49015259742737\n",
      "Total reward:  61.490787744522095\n",
      "Total reward:  61.485392570495605\n",
      "Total reward:  61.47750449180603\n",
      "Total reward:  61.46873331069946\n",
      "Total reward:  61.45961856842041\n",
      "Total reward:  61.45014309883118\n",
      "Total reward:  61.44003367424011\n",
      "Total reward:  61.42892575263977\n",
      "Total reward:  61.41645407676697\n"
     ]
    },
    {
     "name": "stderr",
     "output_type": "stream",
     "text": [
      "DEBUG:minerl.env.malmo.instance.98a683:[13:23:43] [Client thread/INFO]: [CHAT] §l127...\n"
     ]
    },
    {
     "name": "stdout",
     "output_type": "stream",
     "text": [
      "Total reward:  61.40229320526123\n",
      "Total reward:  61.386173725128174\n",
      "Total reward:  61.36788988113403\n",
      "Total reward:  61.357030391693115\n",
      "Total reward:  61.36464262008667\n",
      "Total reward:  61.38700461387634\n",
      "Total reward:  61.408971071243286\n",
      "Total reward:  61.41795349121094\n",
      "Total reward:  61.4204638004303\n",
      "Total reward:  61.419930934906006\n",
      "Total reward:  61.4179573059082\n",
      "Total reward:  61.415119886398315\n",
      "Total reward:  61.41145348548889\n",
      "Total reward:  61.40673756599426\n",
      "Total reward:  61.400651931762695\n",
      "Total reward:  61.39286828041077\n",
      "Total reward:  61.38419198989868\n",
      "Total reward:  61.3730366230011\n",
      "Total reward:  61.35925269126892\n",
      "Total reward:  61.35296607017517\n",
      "Total reward:  61.36641192436218\n",
      "Total reward:  61.39592123031616\n",
      "Total reward:  61.42581248283386\n",
      "Total reward:  61.44155144691467\n",
      "Total reward:  61.44980025291443\n",
      "Total reward:  61.454139947891235\n",
      "Total reward:  61.45630478858948\n",
      "Total reward:  61.4569776058197\n",
      "Total reward:  61.45627498626709\n"
     ]
    },
    {
     "name": "stderr",
     "output_type": "stream",
     "text": [
      "DEBUG:minerl.env.malmo.instance.98a683:[13:23:43] [Client thread/INFO]: [CHAT] §l126...\n",
      "DEBUG:minerl.env.malmo.instance.98a683:[13:23:43] [Client thread/INFO]: [CHAT] §l125...\n"
     ]
    },
    {
     "name": "stdout",
     "output_type": "stream",
     "text": [
      "Total reward:  61.45403695106506\n",
      "Total reward:  61.44999289512634\n",
      "Total reward:  61.44384956359863\n",
      "Total reward:  61.435338735580444\n",
      "Total reward:  61.424237966537476\n",
      "Total reward:  61.42013216018677\n",
      "Total reward:  61.434814453125\n",
      "Total reward:  61.46424722671509\n",
      "Total reward:  61.49293875694275\n",
      "Total reward:  61.50772953033447\n",
      "Total reward:  61.51545834541321\n",
      "Total reward:  61.51974558830261\n",
      "Total reward:  61.52229142189026\n",
      "Total reward:  61.52370858192444\n",
      "Total reward:  61.524035930633545\n",
      "Total reward:  61.52303671836853\n",
      "Total reward:  61.520365953445435\n",
      "Total reward:  61.51566767692566\n",
      "Total reward:  61.508620500564575\n",
      "Total reward:  61.49895644187927\n",
      "Total reward:  61.48646855354309\n",
      "Total reward:  61.48120832443237\n",
      "Total reward:  61.49550175666809\n",
      "Total reward:  61.525484561920166\n",
      "Total reward:  61.55520749092102\n",
      "Total reward:  61.57277226448059\n",
      "Total reward:  61.58233666419983\n"
     ]
    },
    {
     "name": "stderr",
     "output_type": "stream",
     "text": [
      "DEBUG:minerl.env.malmo.instance.98a683:[13:23:43] [Client thread/INFO]: [CHAT] §l124...\n"
     ]
    },
    {
     "name": "stdout",
     "output_type": "stream",
     "text": [
      "Total reward:  61.58763647079468\n",
      "Total reward:  61.59048056602478\n",
      "Total reward:  61.591578006744385\n",
      "Total reward:  61.59104776382446\n",
      "Total reward:  61.58872127532959\n",
      "Total reward:  61.58431434631348\n",
      "Total reward:  61.57752537727356\n",
      "Total reward:  61.56808042526245\n",
      "Total reward:  61.555758476257324\n",
      "Total reward:  61.54039263725281\n",
      "Total reward:  61.53281879425049\n",
      "Total reward:  61.54600667953491\n",
      "Total reward:  61.57601833343506\n",
      "Total reward:  61.606061697006226\n",
      "Total reward:  61.620747327804565\n",
      "Total reward:  61.62719702720642\n",
      "Total reward:  61.670106410980225\n",
      "Total reward:  61.71774101257324\n",
      "Total reward:  61.75697350502014\n",
      "Total reward:  61.78883957862854\n",
      "Total reward:  61.813884258270264\n",
      "Total reward:  61.832385301589966\n",
      "Total reward:  61.84449338912964\n",
      "Total reward:  61.850311040878296\n",
      "Total reward:  61.84993863105774\n",
      "Total reward:  61.85511088371277\n",
      "Total reward:  61.8814971446991\n",
      "Total reward:  61.924527406692505\n"
     ]
    },
    {
     "name": "stderr",
     "output_type": "stream",
     "text": [
      "DEBUG:minerl.env.malmo.instance.98a683:[13:23:43] [Client thread/INFO]: [CHAT] §l123...\n",
      "DEBUG:minerl.env.malmo.instance.98a683:[13:23:43] [Client thread/INFO]: [CHAT] §l122...\n"
     ]
    },
    {
     "name": "stdout",
     "output_type": "stream",
     "text": [
      "Total reward:  61.96561884880066\n",
      "Total reward:  61.98772716522217\n",
      "Total reward:  61.99915838241577\n",
      "Total reward:  62.00446033477783\n",
      "Total reward:  62.00587582588196\n",
      "Total reward:  62.004318714141846\n",
      "Total reward:  61.99999213218689\n",
      "Total reward:  61.99275755882263\n",
      "Total reward:  61.983543157577515\n",
      "Total reward:  61.97060990333557\n",
      "Total reward:  61.953766107559204\n",
      "Total reward:  61.932884216308594\n",
      "Total reward:  61.90790939331055\n",
      "Total reward:  61.89090895652771\n",
      "Total reward:  61.89518165588379\n",
      "Total reward:  61.91603398323059\n",
      "Total reward:  61.934680461883545\n",
      "Total reward:  61.9364447593689\n",
      "Total reward:  61.929474115371704\n",
      "Total reward:  61.91809391975403\n",
      "Total reward:  61.904348373413086\n",
      "Total reward:  61.889007806777954\n",
      "Total reward:  61.87217712402344\n",
      "Total reward:  61.85365676879883\n",
      "Total reward:  61.833139181137085\n",
      "Total reward:  61.8103141784668\n",
      "Total reward:  61.78492307662964\n",
      "Total reward:  61.75677299499512\n"
     ]
    },
    {
     "name": "stderr",
     "output_type": "stream",
     "text": [
      "DEBUG:minerl.env.malmo.instance.98a683:[13:23:43] [Client thread/INFO]: [CHAT] §l121...\n"
     ]
    },
    {
     "name": "stdout",
     "output_type": "stream",
     "text": [
      "Total reward:  61.725743770599365\n",
      "Total reward:  61.70349335670471\n",
      "Total reward:  61.702139139175415\n",
      "Total reward:  61.71731472015381\n",
      "Total reward:  61.731191635131836\n",
      "Total reward:  61.729774475097656\n",
      "Total reward:  61.72061324119568\n",
      "Total reward:  61.70770502090454\n",
      "Total reward:  61.69294357299805\n",
      "Total reward:  61.677045583724976\n",
      "Total reward:  61.660115003585815\n",
      "Total reward:  61.641969442367554\n",
      "Total reward:  61.62231922149658\n",
      "Total reward:  61.600868701934814\n",
      "Total reward:  61.577359437942505\n",
      "Total reward:  61.55447316169739\n",
      "Total reward:  61.53875112533569\n",
      "Total reward:  61.54125094413757\n",
      "Total reward:  61.55770826339722\n",
      "Total reward:  61.572078704833984\n",
      "Total reward:  61.57269477844238\n"
     ]
    },
    {
     "name": "stderr",
     "output_type": "stream",
     "text": [
      "DEBUG:minerl.env.malmo.instance.98a683:[13:23:44] [Client thread/INFO]: [CHAT] §l120...\n"
     ]
    },
    {
     "name": "stdout",
     "output_type": "stream",
     "text": [
      "Total reward:  61.56668019294739\n",
      "Total reward:  61.557756185531616\n",
      "Total reward:  61.547640800476074\n",
      "Total reward:  61.536935567855835\n",
      "Total reward:  61.52566361427307\n",
      "Total reward:  61.51357841491699\n",
      "Total reward:  61.50033497810364\n",
      "Total reward:  61.485583782196045\n",
      "Total reward:  61.46901726722717\n",
      "Total reward:  61.450382709503174\n",
      "Total reward:  61.429489850997925\n",
      "Total reward:  61.41617226600647\n",
      "Total reward:  61.42147088050842\n",
      "Total reward:  61.44156813621521\n",
      "Total reward:  61.460994482040405\n",
      "Total reward:  61.467249155044556\n",
      "Total reward:  61.46698069572449\n",
      "Total reward:  61.463682651519775\n",
      "Total reward:  61.45898175239563\n",
      "Total reward:  61.45346260070801\n",
      "Total reward:  61.447158336639404\n",
      "Total reward:  61.439844846725464\n",
      "Total reward:  61.43119955062866\n"
     ]
    },
    {
     "name": "stderr",
     "output_type": "stream",
     "text": [
      "DEBUG:minerl.env.malmo.instance.98a683:[13:23:44] [Client thread/INFO]: [CHAT] §l119...\n"
     ]
    },
    {
     "name": "stdout",
     "output_type": "stream",
     "text": [
      "Total reward:  61.42089319229126\n",
      "Total reward:  61.40862965583801\n",
      "Total reward:  61.39416480064392\n",
      "Total reward:  61.377310276031494\n",
      "Total reward:  61.36823749542236\n",
      "Total reward:  61.37890148162842\n",
      "Total reward:  61.40558576583862\n",
      "Total reward:  61.43252778053284\n",
      "Total reward:  61.44497871398926\n",
      "Total reward:  61.450239419937134\n",
      "Total reward:  61.451863527297974\n",
      "Total reward:  61.4515540599823\n",
      "Total reward:  61.44996380805969\n",
      "Total reward:  61.447185039520264\n",
      "Total reward:  61.443042039871216\n",
      "Total reward:  61.437248945236206\n",
      "Total reward:  61.42950367927551\n",
      "Total reward:  61.419530391693115\n"
     ]
    },
    {
     "name": "stderr",
     "output_type": "stream",
     "text": [
      "DEBUG:minerl.env.malmo.instance.98a683:[13:23:44] [Client thread/INFO]: [CHAT] §l118...\n"
     ]
    },
    {
     "name": "stdout",
     "output_type": "stream",
     "text": [
      "Total reward:  61.40710091590881\n",
      "Total reward:  61.40174627304077\n",
      "Total reward:  61.41503715515137\n",
      "Total reward:  61.442954301834106\n",
      "Total reward:  61.47011399269104\n",
      "Total reward:  61.483609199523926\n",
      "Total reward:  61.49022364616394\n",
      "Total reward:  61.49353909492493\n",
      "Total reward:  61.49523377418518\n",
      "Total reward:  61.4959077835083\n",
      "Total reward:  61.49559426307678\n",
      "Total reward:  61.49405241012573\n",
      "Total reward:  61.490938663482666\n",
      "Total reward:  61.48589825630188\n",
      "Total reward:  61.47860789299011\n",
      "Total reward:  61.468801498413086\n",
      "Total reward:  61.45627045631409\n",
      "Total reward:  61.4509642124176\n",
      "Total reward:  61.465073585510254\n",
      "Total reward:  61.49477696418762\n",
      "Total reward:  61.52429676055908\n",
      "Total reward:  61.539597272872925\n",
      "Total reward:  61.54747748374939\n",
      "Total reward:  61.55155920982361\n",
      "Total reward:  61.553563833236694\n"
     ]
    },
    {
     "name": "stderr",
     "output_type": "stream",
     "text": [
      "DEBUG:minerl.env.malmo.instance.98a683:[13:23:44] [Client thread/INFO]: [CHAT] §l117...\n"
     ]
    },
    {
     "name": "stdout",
     "output_type": "stream",
     "text": [
      "Total reward:  61.554136991500854\n",
      "Total reward:  61.55334949493408\n",
      "Total reward:  61.55376052856445\n",
      "Total reward:  61.55172324180603\n",
      "Total reward:  61.54701089859009\n",
      "Total reward:  61.53941297531128\n",
      "Total reward:  61.52875638008118\n",
      "Total reward:  61.514914989471436\n",
      "Total reward:  61.508668184280396\n",
      "Total reward:  61.52306652069092\n",
      "Total reward:  61.554227113723755\n",
      "Total reward:  61.58549237251282\n",
      "Total reward:  61.60139799118042\n",
      "Total reward:  61.60902404785156\n",
      "Total reward:  61.6121940612793\n",
      "Total reward:  61.61277437210083\n",
      "Total reward:  61.61150813102722\n",
      "Total reward:  61.608540058135986\n",
      "Total reward:  61.60372185707092\n",
      "Total reward:  61.596786975860596\n",
      "Total reward:  61.61017990112305\n",
      "Total reward:  61.57723951339722\n",
      "Total reward:  61.5104079246521\n",
      "Total reward:  61.45272898674011\n",
      "Total reward:  61.42227101325989\n",
      "Total reward:  61.42874312400818\n",
      "Total reward:  61.47555661201477\n",
      "Total reward:  61.56076383590698\n",
      "Total reward:  61.67679786682129\n",
      "Total reward:  61.808942556381226\n"
     ]
    },
    {
     "name": "stderr",
     "output_type": "stream",
     "text": [
      "DEBUG:minerl.env.malmo.instance.98a683:[13:23:44] [Client thread/INFO]: [CHAT] §l116...\n",
      "DEBUG:minerl.env.malmo.instance.98a683:[13:23:44] [Client thread/INFO]: [CHAT] §l115...\n"
     ]
    },
    {
     "name": "stdout",
     "output_type": "stream",
     "text": [
      "Total reward:  61.93265199661255\n",
      "Total reward:  62.007237911224365\n",
      "Total reward:  62.01812720298767\n",
      "Total reward:  62.011210918426514\n",
      "Total reward:  61.999913454055786\n",
      "Total reward:  61.98484444618225\n",
      "Total reward:  61.96626949310303\n",
      "Total reward:  61.944292068481445\n",
      "Total reward:  61.91895627975464\n",
      "Total reward:  61.890299558639526\n",
      "Total reward:  61.85993504524231\n",
      "Total reward:  61.82602286338806\n",
      "Total reward:  61.78873324394226\n",
      "Total reward:  61.76023840904236\n",
      "Total reward:  61.7525098323822\n",
      "Total reward:  61.76148700714111\n",
      "Total reward:  61.76920437812805\n",
      "Total reward:  61.7618944644928\n",
      "Total reward:  61.74703288078308\n",
      "Total reward:  61.728564739227295\n",
      "Total reward:  61.708353996276855\n",
      "Total reward:  61.687103271484375\n",
      "Total reward:  61.66491675376892\n",
      "Total reward:  61.641621112823486\n",
      "Total reward:  61.616944313049316\n",
      "Total reward:  61.59061002731323\n",
      "Total reward:  61.562378883361816\n",
      "Total reward:  61.53206944465637\n"
     ]
    },
    {
     "name": "stderr",
     "output_type": "stream",
     "text": [
      "DEBUG:minerl.env.malmo.instance.98a683:[13:23:45] [Client thread/INFO]: [CHAT] §l114...\n"
     ]
    },
    {
     "name": "stdout",
     "output_type": "stream",
     "text": [
      "Total reward:  61.51014256477356\n",
      "Total reward:  61.507235527038574\n",
      "Total reward:  61.51908349990845\n",
      "Total reward:  61.52938270568848\n",
      "Total reward:  61.52626585960388\n",
      "Total reward:  61.51677680015564\n",
      "Total reward:  61.50458836555481\n",
      "Total reward:  61.491394996643066\n",
      "Total reward:  61.47779417037964\n",
      "Total reward:  61.463810205459595\n",
      "Total reward:  61.449203968048096\n",
      "Total reward:  61.433643102645874\n",
      "Total reward:  61.41678786277771\n",
      "Total reward:  61.39833474159241\n",
      "Total reward:  61.378037452697754\n",
      "Total reward:  61.35570740699768\n",
      "Total reward:  61.342795610427856\n",
      "Total reward:  61.348928928375244\n",
      "Total reward:  61.370410680770874\n",
      "Total reward:  61.3917019367218\n",
      "Total reward:  61.399508237838745\n",
      "Total reward:  61.400442123413086\n",
      "Total reward:  61.39802169799805\n",
      "Total reward:  61.393930196762085\n",
      "Total reward:  61.388813972473145\n",
      "Total reward:  61.38276672363281\n",
      "Total reward:  61.37561798095703\n"
     ]
    },
    {
     "name": "stderr",
     "output_type": "stream",
     "text": [
      "DEBUG:minerl.env.malmo.instance.98a683:[13:23:45] [Client thread/INFO]: [CHAT] §l113...\n",
      "DEBUG:minerl.env.malmo.instance.98a683:[13:23:45] [Client thread/INFO]: [CHAT] §l112...\n"
     ]
    },
    {
     "name": "stdout",
     "output_type": "stream",
     "text": [
      "Total reward:  61.36709141731262\n",
      "Total reward:  61.35689377784729\n",
      "Total reward:  61.344759702682495\n",
      "Total reward:  61.330466747283936\n",
      "Total reward:  61.32324457168579\n",
      "Total reward:  61.33405661582947\n",
      "Total reward:  61.35898947715759\n",
      "Total reward:  61.38315987586975\n",
      "Total reward:  61.39441657066345\n",
      "Total reward:  61.399325132369995\n",
      "Total reward:  61.401334285736084\n",
      "Total reward:  61.402045249938965\n",
      "Total reward:  61.40202021598816\n",
      "Total reward:  61.401273250579834\n",
      "Total reward:  61.399558305740356\n",
      "Total reward:  61.39652895927429\n",
      "Total reward:  61.39182901382446\n",
      "Total reward:  61.385135650634766\n",
      "Total reward:  61.376176595687866\n",
      "Total reward:  61.364736795425415\n",
      "Total reward:  61.36039209365845\n",
      "Total reward:  61.37498474121094\n",
      "Total reward:  61.404823541641235\n",
      "Total reward:  61.43468475341797\n",
      "Total reward:  61.45092010498047\n",
      "Total reward:  61.46009683609009\n",
      "Total reward:  61.46570706367493\n"
     ]
    },
    {
     "name": "stderr",
     "output_type": "stream",
     "text": [
      "DEBUG:minerl.env.malmo.instance.98a683:[13:23:45] [Client thread/INFO]: [CHAT] §l111...\n"
     ]
    },
    {
     "name": "stdout",
     "output_type": "stream",
     "text": [
      "Total reward:  61.4693386554718\n",
      "Total reward:  61.47169303894043\n",
      "Total reward:  61.47282838821411\n",
      "Total reward:  61.472535371780396\n",
      "Total reward:  61.47049903869629\n",
      "Total reward:  61.46639132499695\n",
      "Total reward:  61.45991396903992\n",
      "Total reward:  61.4508171081543\n",
      "Total reward:  61.43890929222107\n",
      "Total reward:  61.43457746505737\n",
      "Total reward:  61.450650453567505\n",
      "Total reward:  61.4833562374115\n",
      "Total reward:  61.51651620864868\n",
      "Total reward:  61.534806966781616\n",
      "Total reward:  61.54509449005127\n",
      "Total reward:  61.55108141899109\n",
      "Total reward:  61.55457043647766\n",
      "Total reward:  61.55627369880676\n",
      "Total reward:  61.55632042884827\n",
      "Total reward:  61.554551124572754\n",
      "Total reward:  61.550692558288574\n",
      "Total reward:  61.54445028305054\n",
      "Total reward:  61.53555488586426\n",
      "Total reward:  61.5237877368927\n",
      "Total reward:  61.519089460372925\n",
      "Total reward:  61.533637046813965\n",
      "Total reward:  61.56323218345642\n"
     ]
    },
    {
     "name": "stderr",
     "output_type": "stream",
     "text": [
      "DEBUG:minerl.env.malmo.instance.98a683:[13:23:45] [Client thread/INFO]: [CHAT] §l110...\n"
     ]
    },
    {
     "name": "stdout",
     "output_type": "stream",
     "text": [
      "Total reward:  61.59180569648743\n",
      "Total reward:  61.60583519935608\n",
      "Total reward:  61.61242079734802\n",
      "Total reward:  61.61532402038574\n",
      "Total reward:  61.6163125038147\n",
      "Total reward:  61.61602830886841\n",
      "Total reward:  61.61451554298401\n",
      "Total reward:  61.611533641815186\n",
      "Total reward:  61.606735706329346\n",
      "Total reward:  61.59976291656494\n",
      "Total reward:  61.5902955532074\n",
      "Total reward:  61.57820510864258\n",
      "Total reward:  61.56313180923462\n",
      "Total reward:  61.55542063713074\n",
      "Total reward:  61.567460775375366\n",
      "Total reward:  61.595255613327026\n",
      "Total reward:  61.62243127822876\n",
      "Total reward:  61.63487100601196\n",
      "Total reward:  61.63963866233826\n",
      "Total reward:  61.64048933982849\n",
      "Total reward:  61.63920569419861\n",
      "Total reward:  61.636452198028564\n",
      "Total reward:  61.63230347633362\n",
      "Total reward:  61.626550912857056\n",
      "Total reward:  61.61887812614441\n",
      "Total reward:  61.60896062850952\n",
      "Total reward:  61.596508264541626\n",
      "Total reward:  61.58128905296326\n",
      "Total reward:  61.57286262512207\n"
     ]
    },
    {
     "name": "stderr",
     "output_type": "stream",
     "text": [
      "DEBUG:minerl.env.malmo.instance.98a683:[13:23:45] [Client thread/INFO]: [CHAT] §l109...\n",
      "DEBUG:minerl.env.malmo.instance.98a683:[13:23:46] [Client thread/INFO]: [CHAT] §l108...\n"
     ]
    },
    {
     "name": "stdout",
     "output_type": "stream",
     "text": [
      "Total reward:  61.52839207649231\n",
      "Total reward:  61.48709726333618\n",
      "Total reward:  61.46810173988342\n",
      "Total reward:  61.48201036453247\n",
      "Total reward:  61.53276538848877\n",
      "Total reward:  61.61852431297302\n",
      "Total reward:  61.731356143951416\n",
      "Total reward:  61.855677366256714\n",
      "Total reward:  61.96569776535034\n",
      "Total reward:  62.022525787353516\n",
      "Total reward:  62.02792143821716\n",
      "Total reward:  62.0253632068634\n",
      "Total reward:  62.017815351486206\n",
      "Total reward:  62.00593280792236\n",
      "Total reward:  61.99002766609192\n",
      "Total reward:  61.970250368118286\n",
      "Total reward:  61.94668960571289\n",
      "Total reward:  61.91942477226257\n",
      "Total reward:  61.88855028152466\n",
      "Total reward:  61.85529088973999\n",
      "Total reward:  61.818416118621826\n",
      "Total reward:  61.790276765823364\n",
      "Total reward:  61.78309869766235\n",
      "Total reward:  61.79276776313782\n",
      "Total reward:  61.80107855796814\n",
      "Total reward:  61.79401183128357\n",
      "Total reward:  61.779160022735596\n",
      "Total reward:  61.76054120063782\n",
      "Total reward:  61.74005746841431\n"
     ]
    },
    {
     "name": "stderr",
     "output_type": "stream",
     "text": [
      "DEBUG:minerl.env.malmo.instance.98a683:[13:23:46] [Client thread/INFO]: [CHAT] §l107...\n"
     ]
    },
    {
     "name": "stdout",
     "output_type": "stream",
     "text": [
      "Total reward:  61.7184374332428\n",
      "Total reward:  61.695799350738525\n",
      "Total reward:  61.671977519989014\n",
      "Total reward:  61.646706104278564\n",
      "Total reward:  61.619712591171265\n",
      "Total reward:  61.59076452255249\n",
      "Total reward:  61.55968618392944\n",
      "Total reward:  61.53705334663391\n",
      "Total reward:  61.53355145454407\n",
      "Total reward:  61.54486298561096\n",
      "Total reward:  61.55451941490173\n",
      "Total reward:  61.5506272315979\n",
      "Total reward:  61.54030251502991\n",
      "Total reward:  61.527254581451416\n",
      "Total reward:  61.513193130493164\n",
      "Total reward:  61.49872040748596\n",
      "Total reward:  61.48386263847351\n",
      "Total reward:  61.468379497528076\n",
      "Total reward:  61.45193672180176\n",
      "Total reward:  61.4341938495636\n",
      "Total reward:  61.414849519729614\n",
      "Total reward:  61.39366006851196\n",
      "Total reward:  61.37043786048889\n",
      "Total reward:  61.35528802871704\n",
      "Total reward:  61.360774517059326\n",
      "Total reward:  61.38158655166626\n",
      "Total reward:  61.402122497558594\n",
      "Total reward:  61.40914249420166\n",
      "Total reward:  61.409284353256226\n"
     ]
    },
    {
     "name": "stderr",
     "output_type": "stream",
     "text": [
      "DEBUG:minerl.env.malmo.instance.98a683:[13:23:46] [Client thread/INFO]: [CHAT] §l106...\n",
      "DEBUG:minerl.env.malmo.instance.98a683:[13:23:46] [Client thread/INFO]: [CHAT] §l105...\n"
     ]
    },
    {
     "name": "stdout",
     "output_type": "stream",
     "text": [
      "Total reward:  61.40608239173889\n",
      "Total reward:  61.401224851608276\n",
      "Total reward:  61.3953595161438\n",
      "Total reward:  61.38858222961426\n",
      "Total reward:  61.38072180747986\n",
      "Total reward:  61.37150192260742\n",
      "Total reward:  61.36063027381897\n",
      "Total reward:  61.34784007072449\n",
      "Total reward:  61.33291268348694\n",
      "Total reward:  61.325085163116455\n",
      "Total reward:  61.335253953933716\n",
      "Total reward:  61.359501123428345\n",
      "Total reward:  61.3829391002655\n",
      "Total reward:  61.39351034164429\n",
      "Total reward:  61.397780656814575\n",
      "Total reward:  61.399195432662964\n",
      "Total reward:  61.399351596832275\n",
      "Total reward:  61.39880847930908\n",
      "Total reward:  61.3975772857666\n",
      "Total reward:  61.39540958404541\n",
      "Total reward:  61.39195990562439\n",
      "Total reward:  61.386871099472046\n",
      "Total reward:  61.37981986999512\n",
      "Total reward:  61.37053394317627\n",
      "Total reward:  61.35879874229431\n",
      "Total reward:  61.354169607162476\n",
      "Total reward:  61.36842465400696\n",
      "Total reward:  61.397879123687744\n",
      "Total reward:  61.427345991134644\n",
      "Total reward:  61.44325566291809\n",
      "Total reward:  61.45215892791748\n",
      "Total reward:  61.45753741264343\n",
      "Total reward:  61.461042165756226\n",
      "Total reward:  61.462931394577026\n"
     ]
    },
    {
     "name": "stderr",
     "output_type": "stream",
     "text": [
      "DEBUG:minerl.env.malmo.instance.98a683:[13:23:55] [Client thread/INFO]: Stopping!\n",
      "DEBUG:minerl.env.malmo.instance.98a683:[13:23:55] [Client thread/INFO]: [STDOUT]: Unpausing\n",
      "DEBUG:minerl.env.malmo.instance.98a683:[13:23:55] [Server thread/INFO]: Saving and pausing game...\n",
      "DEBUG:minerl.env.malmo.instance.98a683:[13:23:55] [Server thread/INFO]: Saving chunks for level 'TEMP_0_7682dedb-bd60-45a0-aa99-8590741937ca'/Overworld\n",
      "DEBUG:minerl.env.malmo.instance.98a683:[13:23:55] [Server thread/INFO]: Saving chunks for level 'TEMP_0_7682dedb-bd60-45a0-aa99-8590741937ca'/Nether\n",
      "DEBUG:minerl.env.malmo.instance.98a683:[13:23:55] [Server thread/INFO]: Saving chunks for level 'TEMP_0_7682dedb-bd60-45a0-aa99-8590741937ca'/The End\n",
      "DEBUG:minerl.env.malmo.instance.98a683:[13:23:55] [Server thread/INFO]: Stopping server\n",
      "DEBUG:minerl.env.malmo.instance.98a683:[13:23:55] [Server thread/INFO]: Saving players\n",
      "DEBUG:minerl.env.malmo.instance.98a683:[13:23:55] [Server thread/INFO]: Saving worlds\n",
      "DEBUG:minerl.env.malmo.instance.98a683:[13:23:55] [Server thread/INFO]: Saving chunks for level 'TEMP_0_7682dedb-bd60-45a0-aa99-8590741937ca'/Overworld\n",
      "DEBUG:minerl.env.malmo.instance.98a683:[13:23:55] [Server thread/INFO]: Saving chunks for level 'TEMP_0_7682dedb-bd60-45a0-aa99-8590741937ca'/Nether\n",
      "DEBUG:minerl.env.malmo.instance.98a683:[13:23:55] [Server thread/INFO]: Saving chunks for level 'TEMP_0_7682dedb-bd60-45a0-aa99-8590741937ca'/The End\n",
      "DEBUG:minerl.env.malmo.instance.98a683:[13:23:55] [Server thread/INFO]: [STDOUT]: Unpausing\n",
      "DEBUG:minerl.env.malmo.instance.98a683:[13:23:55] [Server thread/INFO]: [STDOUT]: Unpausing\n",
      "DEBUG:minerl.env.malmo.instance.98a683:[13:23:55] [Server thread/INFO]: [STDOUT]: Unpausing\n",
      "DEBUG:minerl.env.malmo.instance.98a683:[13:23:55] [Server thread/INFO]: Unloading dimension 0\n",
      "DEBUG:minerl.env.malmo.instance.98a683:[13:23:55] [Server thread/INFO]: Unloading dimension -1\n",
      "DEBUG:minerl.env.malmo.instance.98a683:[13:23:55] [Server thread/INFO]: Unloading dimension 1\n",
      "DEBUG:minerl.env.malmo.instance.98a683:[13:23:55] [Client thread/INFO]: SoundSystem shutting down...\n",
      "DEBUG:minerl.env.malmo.instance.98a683:[13:23:55] [Server thread/INFO]: Applying holder lookups\n",
      "DEBUG:minerl.env.malmo.instance.98a683:[13:23:55] [Server thread/INFO]: Holder lookups applied\n",
      "DEBUG:minerl.env.malmo.instance.98a683:[13:23:55] [Client thread/WARN]: Author: Paul Lamb, www.paulscode.com\n",
      "DEBUG:minerl.env.malmo.instance.98a683:\n",
      "DEBUG:minerl.env.malmo.instance.98a683:BUILD SUCCESSFUL\n",
      "DEBUG:minerl.env.malmo.instance.98a683:\n",
      "DEBUG:minerl.env.malmo.instance.98a683:Total time: 1 mins 39.998 secs\n"
     ]
    },
    {
     "ename": "TypeError",
     "evalue": "a bytes-like object is required, not 'NoneType'",
     "output_type": "error",
     "traceback": [
      "\u001b[0;31m---------------------------------------------------------------------------\u001b[0m",
      "\u001b[0;31mTypeError\u001b[0m                                 Traceback (most recent call last)",
      "\u001b[0;32m<ipython-input-1-0b86c90d8f4d>\u001b[0m in \u001b[0;36m<module>\u001b[0;34m\u001b[0m\n\u001b[1;32m     20\u001b[0m     \u001b[0maction\u001b[0m\u001b[0;34m[\u001b[0m\u001b[0;34m'attack'\u001b[0m\u001b[0;34m]\u001b[0m \u001b[0;34m=\u001b[0m \u001b[0;36m1\u001b[0m\u001b[0;34m\u001b[0m\u001b[0;34m\u001b[0m\u001b[0m\n\u001b[1;32m     21\u001b[0m \u001b[0;34m\u001b[0m\u001b[0m\n\u001b[0;32m---> 22\u001b[0;31m     \u001b[0mobs\u001b[0m\u001b[0;34m,\u001b[0m \u001b[0mreward\u001b[0m\u001b[0;34m,\u001b[0m \u001b[0mdone\u001b[0m\u001b[0;34m,\u001b[0m \u001b[0minfo\u001b[0m \u001b[0;34m=\u001b[0m \u001b[0menv\u001b[0m\u001b[0;34m.\u001b[0m\u001b[0mstep\u001b[0m\u001b[0;34m(\u001b[0m\u001b[0maction\u001b[0m\u001b[0;34m)\u001b[0m\u001b[0;34m\u001b[0m\u001b[0;34m\u001b[0m\u001b[0m\n\u001b[0m\u001b[1;32m     23\u001b[0m \u001b[0;34m\u001b[0m\u001b[0m\n\u001b[1;32m     24\u001b[0m     \u001b[0mnet_reward\u001b[0m \u001b[0;34m+=\u001b[0m \u001b[0mreward\u001b[0m\u001b[0;34m\u001b[0m\u001b[0;34m\u001b[0m\u001b[0m\n",
      "\u001b[0;32m/opt/miniconda3/envs/minerl2/lib/python3.7/site-packages/gym/wrappers/time_limit.py\u001b[0m in \u001b[0;36mstep\u001b[0;34m(self, action)\u001b[0m\n\u001b[1;32m     14\u001b[0m     \u001b[0;32mdef\u001b[0m \u001b[0mstep\u001b[0m\u001b[0;34m(\u001b[0m\u001b[0mself\u001b[0m\u001b[0;34m,\u001b[0m \u001b[0maction\u001b[0m\u001b[0;34m)\u001b[0m\u001b[0;34m:\u001b[0m\u001b[0;34m\u001b[0m\u001b[0;34m\u001b[0m\u001b[0m\n\u001b[1;32m     15\u001b[0m         \u001b[0;32massert\u001b[0m \u001b[0mself\u001b[0m\u001b[0;34m.\u001b[0m\u001b[0m_elapsed_steps\u001b[0m \u001b[0;32mis\u001b[0m \u001b[0;32mnot\u001b[0m \u001b[0;32mNone\u001b[0m\u001b[0;34m,\u001b[0m \u001b[0;34m\"Cannot call env.step() before calling reset()\"\u001b[0m\u001b[0;34m\u001b[0m\u001b[0;34m\u001b[0m\u001b[0m\n\u001b[0;32m---> 16\u001b[0;31m         \u001b[0mobservation\u001b[0m\u001b[0;34m,\u001b[0m \u001b[0mreward\u001b[0m\u001b[0;34m,\u001b[0m \u001b[0mdone\u001b[0m\u001b[0;34m,\u001b[0m \u001b[0minfo\u001b[0m \u001b[0;34m=\u001b[0m \u001b[0mself\u001b[0m\u001b[0;34m.\u001b[0m\u001b[0menv\u001b[0m\u001b[0;34m.\u001b[0m\u001b[0mstep\u001b[0m\u001b[0;34m(\u001b[0m\u001b[0maction\u001b[0m\u001b[0;34m)\u001b[0m\u001b[0;34m\u001b[0m\u001b[0;34m\u001b[0m\u001b[0m\n\u001b[0m\u001b[1;32m     17\u001b[0m         \u001b[0mself\u001b[0m\u001b[0;34m.\u001b[0m\u001b[0m_elapsed_steps\u001b[0m \u001b[0;34m+=\u001b[0m \u001b[0;36m1\u001b[0m\u001b[0;34m\u001b[0m\u001b[0;34m\u001b[0m\u001b[0m\n\u001b[1;32m     18\u001b[0m         \u001b[0;32mif\u001b[0m \u001b[0mself\u001b[0m\u001b[0;34m.\u001b[0m\u001b[0m_elapsed_steps\u001b[0m \u001b[0;34m>=\u001b[0m \u001b[0mself\u001b[0m\u001b[0;34m.\u001b[0m\u001b[0m_max_episode_steps\u001b[0m\u001b[0;34m:\u001b[0m\u001b[0;34m\u001b[0m\u001b[0;34m\u001b[0m\u001b[0m\n",
      "\u001b[0;32m/opt/miniconda3/envs/minerl2/lib/python3.7/site-packages/minerl/env/core.py\u001b[0m in \u001b[0;36mstep\u001b[0;34m(self, action)\u001b[0m\n\u001b[1;32m    625\u001b[0m                 \u001b[0;31m# Receive reward done and sent.\u001b[0m\u001b[0;34m\u001b[0m\u001b[0;34m\u001b[0m\u001b[0;34m\u001b[0m\u001b[0m\n\u001b[1;32m    626\u001b[0m                 \u001b[0mreply\u001b[0m \u001b[0;34m=\u001b[0m \u001b[0mcomms\u001b[0m\u001b[0;34m.\u001b[0m\u001b[0mrecv_message\u001b[0m\u001b[0;34m(\u001b[0m\u001b[0mself\u001b[0m\u001b[0;34m.\u001b[0m\u001b[0mclient_socket\u001b[0m\u001b[0;34m)\u001b[0m\u001b[0;34m\u001b[0m\u001b[0;34m\u001b[0m\u001b[0m\n\u001b[0;32m--> 627\u001b[0;31m                 \u001b[0mreward\u001b[0m\u001b[0;34m,\u001b[0m \u001b[0mdone\u001b[0m\u001b[0;34m,\u001b[0m \u001b[0msent\u001b[0m \u001b[0;34m=\u001b[0m \u001b[0mstruct\u001b[0m\u001b[0;34m.\u001b[0m\u001b[0munpack\u001b[0m\u001b[0;34m(\u001b[0m\u001b[0;34m'!dbb'\u001b[0m\u001b[0;34m,\u001b[0m \u001b[0mreply\u001b[0m\u001b[0;34m)\u001b[0m\u001b[0;34m\u001b[0m\u001b[0;34m\u001b[0m\u001b[0m\n\u001b[0m\u001b[1;32m    628\u001b[0m \u001b[0;34m\u001b[0m\u001b[0m\n\u001b[1;32m    629\u001b[0m                 \u001b[0;31m# Receive info from the environment.\u001b[0m\u001b[0;34m\u001b[0m\u001b[0;34m\u001b[0m\u001b[0;34m\u001b[0m\u001b[0m\n",
      "\u001b[0;31mTypeError\u001b[0m: a bytes-like object is required, not 'NoneType'"
     ]
    }
   ],
   "source": [
    "%env DISPLAY=:99\n",
    "\n",
    "import minerl\n",
    "import gym\n",
    "import logging\n",
    "logging.basicConfig(level=logging.DEBUG)\n",
    "env = gym.make('MineRLNavigateDense-v0')\n",
    "\n",
    "\n",
    "obs  = env.reset()\n",
    "done = False\n",
    "net_reward = 0\n",
    "while not done:\n",
    "    action = env.action_space.noop()\n",
    "\n",
    "    action['camera'] = [0, 0.03*obs[\"compassAngle\"]]\n",
    "    action['back'] = 0\n",
    "    action['forward'] = 1\n",
    "    action['jump'] = 1\n",
    "    action['attack'] = 1\n",
    "\n",
    "    obs, reward, done, info = env.step(action)\n",
    "\n",
    "    net_reward += reward\n",
    "    print(\"Total reward: \", net_reward)"
   ]
  },
  {
   "cell_type": "markdown",
   "metadata": {
    "id": "Qc6ck_ia4wu_"
   },
   "source": [
    "#DQN"
   ]
  },
  {
   "cell_type": "code",
   "execution_count": 2,
   "metadata": {
    "id": "ze1fjDLA47B_"
   },
   "outputs": [
    {
     "name": "stderr",
     "output_type": "stream",
     "text": [
      "DEBUG:matplotlib:$HOME=/Users/maxrudolph\n",
      "DEBUG:matplotlib:CONFIGDIR=/Users/maxrudolph/.matplotlib\n",
      "DEBUG:matplotlib:matplotlib data path: /opt/miniconda3/envs/minerl2/lib/python3.7/site-packages/matplotlib/mpl-data\n",
      "DEBUG:matplotlib:loaded rc file /opt/miniconda3/envs/minerl2/lib/python3.7/site-packages/matplotlib/mpl-data/matplotlibrc\n",
      "DEBUG:matplotlib:matplotlib version 3.0.3\n",
      "DEBUG:matplotlib:interactive is False\n",
      "DEBUG:matplotlib:platform is darwin\n",
      "DEBUG:matplotlib:loaded modules: ['sys', 'builtins', '_frozen_importlib', '_imp', '_thread', '_warnings', '_weakref', 'zipimport', '_frozen_importlib_external', '_io', 'marshal', 'posix', 'encodings', 'codecs', '_codecs', 'encodings.aliases', 'encodings.utf_8', '_signal', '__main__', 'encodings.latin_1', 'io', 'abc', '_abc', '_bootlocale', '_locale', 'site', 'os', 'stat', '_stat', '_collections_abc', 'posixpath', 'genericpath', 'os.path', '_sitebuiltins', 'types', 'importlib', 'importlib._bootstrap', 'importlib._bootstrap_external', 'warnings', 'importlib.util', 'importlib.abc', 'importlib.machinery', 'contextlib', 'collections', 'operator', '_operator', 'keyword', 'heapq', '_heapq', 'itertools', 'reprlib', '_collections', 'functools', '_functools', 'mpl_toolkits', 'runpy', 'pkgutil', 'weakref', '_weakrefset', 'ipykernel', 'ipykernel._version', 'ipykernel.connect', '__future__', 'json', 'json.decoder', 're', 'enum', 'sre_compile', '_sre', 'sre_parse', 'sre_constants', 'copyreg', 'json.scanner', '_json', 'json.encoder', 'subprocess', 'time', 'signal', 'errno', '_posixsubprocess', 'select', 'selectors', 'collections.abc', 'math', 'threading', 'traceback', 'linecache', 'tokenize', 'token', 'IPython', 'IPython.core', 'IPython.core.getipython', 'IPython.core.release', 'IPython.core.application', 'atexit', 'copy', 'glob', 'fnmatch', 'logging', 'string', '_string', 'shutil', 'zlib', 'bz2', '_compression', '_bz2', 'lzma', '_lzma', 'pwd', 'grp', 'traitlets', 'traitlets.traitlets', 'ast', '_ast', 'inspect', 'dis', 'opcode', '_opcode', 'traitlets.utils', 'traitlets.utils.getargspec', 'traitlets.utils.importstring', 'traitlets.utils.sentinel', 'traitlets.utils.bunch', 'traitlets.utils.descriptions', 'traitlets.utils.decorators', 'traitlets._version', 'traitlets.config', 'traitlets.config.application', 'pprint', 'traitlets.config.configurable', 'traitlets.config.loader', 'argparse', 'gettext', 'locale', 'ipython_genutils', 'ipython_genutils._version', 'ipython_genutils.path', 'random', 'hashlib', '_hashlib', '_blake2', '_sha3', 'bisect', '_bisect', '_random', 'ipython_genutils.py3compat', 'ipython_genutils.encoding', 'platform', 'ipython_genutils.text', 'textwrap', 'IPython.core.crashhandler', 'IPython.core.ultratb', 'pydoc', 'sysconfig', 'urllib', 'urllib.parse', '_sysconfigdata_m_darwin_darwin', '_osx_support', 'IPython.core.debugger', 'bdb', 'IPython.utils', 'IPython.utils.PyColorize', 'IPython.utils.coloransi', 'IPython.utils.ipstruct', 'IPython.utils.colorable', 'pygments', 'IPython.utils.py3compat', 'IPython.utils.encoding', 'IPython.core.excolors', 'IPython.testing', 'IPython.testing.skipdoctest', 'pdb', 'cmd', 'code', 'codeop', 'IPython.core.display_trap', 'IPython.utils.path', 'IPython.utils.process', 'IPython.utils._process_posix', 'pexpect', 'pexpect.exceptions', 'pexpect.utils', 'pexpect.expect', 'pexpect.pty_spawn', 'pty', 'tty', 'termios', 'ptyprocess', 'ptyprocess.ptyprocess', 'fcntl', 'resource', 'struct', '_struct', 'ptyprocess.util', 'pexpect.spawnbase', 'pexpect.run', 'IPython.utils._process_common', 'shlex', 'IPython.utils.decorators', 'IPython.utils.data', 'IPython.utils.terminal', 'IPython.utils.sysinfo', 'IPython.utils._sysinfo', 'IPython.core.profiledir', 'IPython.paths', 'tempfile', 'IPython.utils.importstring', 'IPython.terminal', 'IPython.terminal.embed', 'IPython.core.compilerop', 'IPython.core.magic_arguments', 'IPython.core.error', 'IPython.utils.text', 'pathlib', 'ntpath', 'IPython.core.magic', 'getopt', 'IPython.core.oinspect', 'typing', 'typing.io', 'typing.re', 'IPython.core.page', 'IPython.core.display', 'binascii', 'mimetypes', 'IPython.lib', 'IPython.lib.security', 'getpass', 'IPython.lib.pretty', 'datetime', '_datetime', 'IPython.utils.openpy', 'IPython.utils.dir2', 'IPython.utils.wildcard', 'pygments.lexers', 'pygments.lexers._mapping', 'pygments.modeline', 'pygments.plugin', 'pygments.util', 'pygments.lexers.python', 'pygments.lexer', 'pygments.filter', 'pygments.filters', 'pygments.token', 'pygments.regexopt', 'pygments.unistring', 'pygments.formatters', 'pygments.formatters._mapping', 'pygments.formatters.html', 'pygments.formatter', 'pygments.styles', 'IPython.core.inputtransformer2', 'decorator', 'IPython.core.interactiveshell', 'pickleshare', 'pickle', '_compat_pickle', '_pickle', 'IPython.core.prefilter', 'IPython.core.autocall', 'IPython.core.macro', 'IPython.core.splitinput', 'IPython.core.alias', 'IPython.core.builtin_trap', 'IPython.core.events', 'backcall', 'backcall.backcall', 'IPython.core.displayhook', 'IPython.core.displaypub', 'IPython.core.extensions', 'IPython.core.formatters', 'IPython.utils.sentinel', 'IPython.core.history', 'sqlite3', 'sqlite3.dbapi2', '_sqlite3', 'IPython.core.logger', 'IPython.core.payload', 'IPython.core.usage', 'IPython.display', 'IPython.lib.display', 'html', 'html.entities', 'IPython.utils.io', 'IPython.utils.capture', 'IPython.utils.strdispatch', 'IPython.core.hooks', 'IPython.utils.syspathcontext', 'IPython.utils.tempdir', 'IPython.utils.contexts', 'IPython.core.async_helpers', 'IPython.terminal.interactiveshell', 'asyncio', 'asyncio.base_events', 'concurrent', 'concurrent.futures', 'concurrent.futures._base', 'socket', '_socket', 'ssl', '_ssl', 'base64', 'asyncio.constants', 'asyncio.coroutines', 'asyncio.base_futures', 'asyncio.format_helpers', 'asyncio.log', 'asyncio.events', 'contextvars', '_contextvars', 'asyncio.base_tasks', '_asyncio', 'asyncio.futures', 'asyncio.protocols', 'asyncio.sslproto', 'asyncio.transports', 'asyncio.tasks', 'asyncio.locks', 'asyncio.runners', 'asyncio.queues', 'asyncio.streams', 'asyncio.subprocess', 'asyncio.unix_events', 'asyncio.base_subprocess', 'asyncio.selector_events', 'prompt_toolkit', 'prompt_toolkit.application', 'prompt_toolkit.application.application', 'prompt_toolkit.buffer', 'prompt_toolkit.application.current', 'prompt_toolkit.application.run_in_terminal', 'prompt_toolkit.eventloop', 'prompt_toolkit.eventloop.async_generator', 'prompt_toolkit.eventloop.utils', 'prompt_toolkit.eventloop.inputhook', 'prompt_toolkit.utils', 'wcwidth', 'wcwidth.wcwidth', 'wcwidth.table_wide', 'wcwidth.table_zero', 'wcwidth.unicode_versions', 'prompt_toolkit.auto_suggest', 'prompt_toolkit.document', 'prompt_toolkit.clipboard', 'prompt_toolkit.clipboard.base', 'prompt_toolkit.selection', 'prompt_toolkit.clipboard.in_memory', 'prompt_toolkit.filters', 'prompt_toolkit.filters.app', 'prompt_toolkit.cache', 'prompt_toolkit.enums', 'prompt_toolkit.filters.base', 'prompt_toolkit.filters.cli', 'prompt_toolkit.filters.utils', 'prompt_toolkit.completion', 'prompt_toolkit.completion.base', 'prompt_toolkit.formatted_text', 'prompt_toolkit.formatted_text.ansi', 'prompt_toolkit.output', 'prompt_toolkit.output.base', 'prompt_toolkit.data_structures', 'prompt_toolkit.styles', 'prompt_toolkit.styles.base', 'prompt_toolkit.styles.defaults', 'prompt_toolkit.styles.named_colors', 'prompt_toolkit.styles.style', 'prompt_toolkit.styles.pygments', 'prompt_toolkit.styles.style_transformation', 'colorsys', 'prompt_toolkit.output.color_depth', 'prompt_toolkit.output.defaults', 'prompt_toolkit.patch_stdout', 'prompt_toolkit.output.vt100', 'array', 'prompt_toolkit.formatted_text.base', 'prompt_toolkit.mouse_events', 'prompt_toolkit.formatted_text.html', 'xml', 'xml.dom', 'xml.dom.domreg', 'xml.dom.minidom', 'xml.dom.minicompat', 'xml.dom.xmlbuilder', 'xml.dom.NodeFilter', 'prompt_toolkit.formatted_text.pygments', 'prompt_toolkit.formatted_text.utils', 'prompt_toolkit.completion.filesystem', 'prompt_toolkit.completion.fuzzy_completer', 'prompt_toolkit.completion.word_completer', 'prompt_toolkit.completion.nested', 'prompt_toolkit.history', 'prompt_toolkit.search', 'prompt_toolkit.key_binding', 'prompt_toolkit.key_binding.key_bindings', 'prompt_toolkit.keys', 'prompt_toolkit.key_binding.key_processor', 'prompt_toolkit.key_binding.vi_state', 'prompt_toolkit.validation', 'prompt_toolkit.input', 'prompt_toolkit.input.base', 'prompt_toolkit.input.defaults', 'prompt_toolkit.input.typeahead', 'prompt_toolkit.key_binding.bindings', 'prompt_toolkit.key_binding.bindings.page_navigation', 'prompt_toolkit.key_binding.bindings.scroll', 'prompt_toolkit.key_binding.defaults', 'prompt_toolkit.key_binding.bindings.basic', 'prompt_toolkit.key_binding.bindings.named_commands', 'prompt_toolkit.layout', 'prompt_toolkit.layout.containers', 'prompt_toolkit.layout.controls', 'prompt_toolkit.lexers', 'prompt_toolkit.lexers.base', 'prompt_toolkit.lexers.pygments', 'prompt_toolkit.layout.processors', 'prompt_toolkit.layout.utils', 'prompt_toolkit.layout.dimension', 'prompt_toolkit.layout.margins', 'prompt_toolkit.layout.mouse_handlers', 'prompt_toolkit.layout.screen', 'prompt_toolkit.layout.layout', 'prompt_toolkit.layout.menus', 'prompt_toolkit.key_binding.bindings.completion', 'prompt_toolkit.key_binding.bindings.cpr', 'prompt_toolkit.key_binding.bindings.emacs', 'prompt_toolkit.key_binding.bindings.mouse', 'prompt_toolkit.key_binding.bindings.vi', 'prompt_toolkit.input.vt100_parser', 'prompt_toolkit.input.ansi_escape_sequences', 'prompt_toolkit.key_binding.digraphs', 'prompt_toolkit.key_binding.emacs_state', 'prompt_toolkit.layout.dummy', 'prompt_toolkit.renderer', 'prompt_toolkit.application.dummy', 'prompt_toolkit.shortcuts', 'prompt_toolkit.shortcuts.dialogs', 'prompt_toolkit.key_binding.bindings.focus', 'prompt_toolkit.widgets', 'prompt_toolkit.widgets.base', 'prompt_toolkit.widgets.toolbars', 'prompt_toolkit.widgets.dialogs', 'prompt_toolkit.widgets.menus', 'prompt_toolkit.shortcuts.progress_bar', 'prompt_toolkit.shortcuts.progress_bar.base', 'prompt_toolkit.shortcuts.progress_bar.formatters', 'prompt_toolkit.shortcuts.prompt', 'prompt_toolkit.key_binding.bindings.auto_suggest', 'prompt_toolkit.key_binding.bindings.open_in_editor', 'prompt_toolkit.shortcuts.utils', 'pygments.style', 'IPython.terminal.debugger', 'IPython.core.completer', 'unicodedata', 'IPython.core.latex_symbols', 'IPython.utils.generics', 'jedi', 'jedi.api', 'parso', 'parso.parser', 'parso.tree', 'parso._compatibility', 'parso.utils', 'parso.pgen2', 'parso.pgen2.generator', 'parso.pgen2.grammar_parser', 'parso.python', 'parso.python.tokenize', 'parso.python.token', 'parso.grammar', 'parso.python.diff', 'difflib', 'parso.python.parser', 'parso.python.tree', 'parso.python.prefix', 'parso.cache', 'gc', 'parso.file_io', 'parso.python.errors', 'parso.normalizer', 'parso.python.pep8', 'jedi._compatibility', 'jedi.file_io', 'queue', '_queue', 'jedi.parser_utils', 'jedi.debug', 'jedi.settings', 'jedi.cache', 'jedi.api.classes', 'jedi.inference', 'jedi.inference.imports', 'jedi.inference.sys_path', 'jedi.inference.cache', 'jedi.inference.base_value', 'jedi.inference.helpers', 'jedi.inference.utils', 'jedi.common', 'jedi.inference.compiled', 'jedi.inference.compiled.value', 'jedi.inference.filters', 'jedi.inference.flow_analysis', 'jedi.inference.recursion', 'jedi.inference.names', 'jedi.inference.docstrings', 'jedi.inference.lazy_value', 'jedi.plugins', 'jedi.inference.compiled.access', 'jedi.inference.compiled.getattr_static', 'jedi.inference.signature', 'jedi.inference.context', 'jedi.inference.analysis', 'jedi.inference.gradual', 'jedi.inference.gradual.typeshed', 'jedi.inference.gradual.stub_value', 'jedi.inference.value', 'jedi.inference.value.module', 'jedi.inference.value.klass', 'jedi.inference.arguments', 'jedi.inference.value.iterable', 'jedi.inference.value.dynamic_arrays', 'jedi.inference.value.function', 'jedi.inference.parser_cache', 'jedi.inference.gradual.generics', 'jedi.inference.value.instance', 'jedi.inference.gradual.typing', 'jedi.inference.gradual.base', 'jedi.inference.gradual.type_var', 'jedi.inference.syntax_tree', 'jedi.inference.gradual.annotation', 'jedi.inference.param', 'jedi.inference.value.decorator', 'jedi.inference.compiled.mixed', 'jedi.inference.gradual.conversion', 'jedi.api.keywords', 'pydoc_data', 'pydoc_data.topics', 'jedi.api.completion_cache', 'jedi.api.helpers', 'jedi.api.interpreter', 'jedi.api.completion', 'jedi.api.strings', 'jedi.api.file_name', 'jedi.api.environment', 'filecmp', 'jedi.inference.compiled.subprocess', 'jedi.inference.compiled.subprocess.functions', 'jedi.api.exceptions', 'jedi.api.project', 'jedi.inference.references', 'jedi.api.errors', 'jedi.api.refactoring', 'jedi.api.refactoring.extract', 'jedi.inference.gradual.utils', 'jedi.plugins.registry', 'jedi.plugins.stdlib', 'jedi.plugins.flask', 'jedi.plugins.pytest', 'jedi.plugins.django', 'IPython.terminal.ptutils', 'IPython.terminal.shortcuts', 'IPython.terminal.magics', 'IPython.lib.clipboard', 'IPython.terminal.pt_inputhooks', 'IPython.terminal.prompts', 'IPython.terminal.ipapp', 'IPython.core.magics', 'IPython.core.magics.auto', 'IPython.core.magics.basic', 'IPython.core.magics.code', 'urllib.request', 'email', 'http', 'http.client', 'email.parser', 'email.feedparser', 'email.errors', 'email._policybase', 'email.header', 'email.quoprimime', 'email.base64mime', 'email.charset', 'email.encoders', 'quopri', 'email.utils', 'email._parseaddr', 'calendar', 'email.message', 'uu', 'email._encoded_words', 'email.iterators', 'urllib.error', 'urllib.response', '_scproxy', 'IPython.core.magics.config', 'IPython.core.magics.display', 'IPython.core.magics.execution', 'timeit', 'cProfile', '_lsprof', 'profile', 'pstats', 'IPython.utils.module_paths', 'IPython.utils.timing', 'IPython.core.magics.extension', 'IPython.core.magics.history', 'IPython.core.magics.logging', 'IPython.core.magics.namespace', 'IPython.core.magics.osm', 'IPython.core.magics.packaging', 'IPython.core.magics.pylab', 'IPython.core.pylabtools', 'IPython.core.magics.script', 'IPython.lib.backgroundjobs', 'IPython.core.shellapp', 'IPython.extensions', 'IPython.extensions.storemagic', 'IPython.utils.frame', 'jupyter_client', 'jupyter_client._version', 'jupyter_client.connect', 'zmq', 'ctypes', '_ctypes', 'ctypes._endian', 'zmq.libzmq', 'zmq.backend', 'zmq.backend.select', 'zmq.backend.cython', 'zmq.backend.cython.constants', 'cython_runtime', 'zmq.backend.cython.error', '_cython_0_29_21', 'zmq.backend.cython.message', 'zmq.error', 'zmq.backend.cython.context', 'zmq.backend.cython.socket', 'zmq.backend.cython.utils', 'zmq.backend.cython._poll', 'zmq.backend.cython._version', 'zmq.backend.cython._device', 'zmq.backend.cython._proxy_steerable', 'zmq.sugar', 'zmq.sugar.constants', 'zmq.utils', 'zmq.utils.constant_names', 'zmq.sugar.context', 'zmq.sugar.attrsettr', 'zmq.sugar.socket', 'zmq.sugar.poll', 'zmq.utils.jsonapi', 'zmq.utils.strtypes', 'zmq.sugar.frame', 'zmq.sugar.tracker', 'zmq.sugar.version', 'zmq.sugar.stopwatch', 'jupyter_client.localinterfaces', 'jupyter_core', 'jupyter_core.version', 'jupyter_core.paths', 'distutils', 'distutils.util', 'distutils.errors', 'distutils.dep_util', 'distutils.spawn', 'distutils.debug', 'distutils.log', 'distutils.sysconfig', 'jupyter_client.launcher', 'traitlets.log', 'jupyter_client.client', 'jupyter_client.channels', 'jupyter_client.channelsabc', 'jupyter_client.clientabc', 'jupyter_client.manager', 'ipython_genutils.importstring', 'jupyter_client.kernelspec', 'jupyter_client.managerabc', 'jupyter_client.blocking', 'jupyter_client.blocking.client', 'jupyter_client.blocking.channels', 'jupyter_client.asynchronous', 'jupyter_client.asynchronous.client', 'zmq.asyncio', 'zmq._future', 'jupyter_client.asynchronous.channels', 'jupyter_client.multikernelmanager', 'uuid', '_uuid', 'ipykernel.kernelapp', 'tornado', 'tornado.ioloop', 'numbers', 'tornado.concurrent', 'tornado.log', 'logging.handlers', 'tornado.escape', 'tornado.util', 'tornado.speedups', 'curses', '_curses', 'zmq.eventloop', 'zmq.eventloop.ioloop', 'tornado.platform', 'tornado.platform.asyncio', 'tornado.gen', 'zmq.eventloop.zmqstream', 'ipykernel.iostream', 'imp', 'jupyter_client.session', 'hmac', 'jupyter_client.jsonutil', 'dateutil', 'dateutil._version', 'dateutil.parser', 'dateutil.parser._parser', 'six', 'decimal', '_decimal', 'dateutil.relativedelta', 'dateutil._common', 'dateutil.tz', 'dateutil.tz.tz', 'six.moves', 'dateutil.tz._common', 'dateutil.tz._factories', 'dateutil.parser.isoparser', '_strptime', 'jupyter_client.adapter', 'ipykernel.heartbeat', 'ipykernel.ipkernel', 'IPython.utils.tokenutil', 'ipykernel.comm', 'ipykernel.comm.manager', 'ipykernel.comm.comm', 'ipykernel.kernelbase', 'tornado.queues', 'tornado.locks', 'ipykernel.jsonutil', 'ipykernel.zmqshell', 'IPython.core.payloadpage', 'ipykernel.displayhook', 'ipykernel.eventloops', 'distutils.version', 'ipykernel.parentpoller', 'faulthandler', 'ipykernel.datapub', 'ipykernel.serialize', 'ipykernel.pickleutil', 'ipykernel.codeutil', 'IPython.core.completerlib', 'plistlib', 'xml.parsers', 'xml.parsers.expat', 'pyexpat.errors', 'pyexpat.model', 'pyexpat', 'xml.parsers.expat.model', 'xml.parsers.expat.errors', 'appnope', 'appnope._nope', 'ctypes.util', 'ctypes.macholib', 'ctypes.macholib.dyld', 'ctypes.macholib.framework', 'ctypes.macholib.dylib', 'storemagic', 'minerl', 'minerl.utils', 'minerl.utils.test', 'minerl.herobraine', 'minerl.data', 'minerl.data.data_pipeline', 'multiprocessing', 'multiprocessing.context', 'multiprocessing.process', 'multiprocessing.reduction', '__mp_main__', 'minerl.herobraine.env_spec', 'gym', 'gym.error', 'gym.version', 'gym.core', 'gym.utils', 'gym.utils.colorize', 'gym.utils.ezpickle', 'gym.utils.closer', 'gym.spaces', 'gym.spaces.space', 'gym.utils.seeding', 'numpy', 'numpy._globals', 'numpy.__config__', 'numpy.version', 'numpy._distributor_init', 'mkl', 'mkl._mklinit', 'mkl._py_mkl_service', 'numpy.core', 'numpy.core.multiarray', 'numpy.core.overrides', 'numpy.core._multiarray_umath', 'numpy.compat', 'numpy.compat._inspect', 'numpy.compat.py3k', 'numpy.core.umath', 'numpy.core.numerictypes', 'numpy.core._string_helpers', 'numpy.core._type_aliases', 'numpy.core._dtype', 'numpy.core.numeric', 'numpy.core.shape_base', 'numpy.core._asarray', 'numpy.core.fromnumeric', 'numpy.core._methods', 'numpy.core._exceptions', 'numpy.core._ufunc_config', 'numpy.core.arrayprint', 'numpy.core.defchararray', 'numpy.core.records', 'numpy.core.memmap', 'numpy.core.function_base', 'numpy.core.machar', 'numpy.core.getlimits', 'numpy.core.einsumfunc', 'numpy.core._add_newdocs', 'numpy.core._multiarray_tests', 'numpy.core._dtype_ctypes', 'numpy.core._internal', 'numpy._pytesttester', 'numpy.lib', 'numpy.lib.mixins', 'numpy.lib.scimath', 'numpy.lib.type_check', 'numpy.lib.ufunclike', 'numpy.lib.index_tricks', 'numpy.matrixlib', 'numpy.matrixlib.defmatrix', 'numpy.linalg', 'numpy.linalg.linalg', 'numpy.lib.twodim_base', 'numpy.linalg.lapack_lite', 'numpy.linalg._umath_linalg', 'numpy.lib.function_base', 'numpy.lib.histograms', 'numpy.lib.stride_tricks', 'numpy.lib.nanfunctions', 'numpy.lib.shape_base', 'numpy.lib.polynomial', 'numpy.lib.utils', 'numpy.lib.arraysetops', 'numpy.lib.npyio', 'numpy.lib.format', 'numpy.lib._datasource', 'numpy.lib._iotools', 'numpy.lib.financial', 'numpy.lib.arrayterator', 'numpy.lib.arraypad', 'numpy.lib._version', 'numpy.fft', 'numpy.fft._pocketfft', 'numpy.fft._pocketfft_internal', 'numpy.fft.helper', 'numpy.polynomial', 'numpy.polynomial.polynomial', 'numpy.polynomial.polyutils', 'numpy.polynomial._polybase', 'numpy.polynomial.chebyshev', 'numpy.polynomial.legendre', 'numpy.polynomial.hermite', 'numpy.polynomial.hermite_e', 'numpy.polynomial.laguerre', 'numpy.random', 'numpy.random._pickle', 'numpy.random.mtrand', 'numpy.random.bit_generator', 'numpy.random._common', 'secrets', 'numpy.random._bounded_integers', 'numpy.random._mt19937', 'numpy.random._philox', 'numpy.random._pcg64', 'numpy.random._sfc64', 'numpy.random._generator', 'numpy.ctypeslib', 'numpy.ma', 'numpy.ma.core', 'numpy.ma.extras', 'gym.spaces.box', 'gym.logger', 'gym.spaces.discrete', 'gym.spaces.multi_discrete', 'gym.spaces.multi_binary', 'gym.spaces.tuple', 'gym.spaces.dict', 'gym.spaces.utils', 'gym.envs', 'gym.envs.registration', 'gym.vector', 'gym.vector.async_vector_env', 'gym.vector.vector_env', 'gym.vector.utils', 'gym.vector.utils.misc', 'gym.vector.utils.numpy_utils', 'gym.vector.utils.spaces', 'gym.vector.utils.shared_memory', 'gym.vector.sync_vector_env', 'gym.wrappers', 'gym.wrappers.monitor', 'gym.wrappers.monitoring', 'gym.wrappers.monitoring.stats_recorder', 'gym.utils.atomic_write', 'gym.utils.json_utils', 'gym.wrappers.monitoring.video_recorder', 'gym.wrappers.time_limit', 'gym.wrappers.filter_observation', 'gym.wrappers.atari_preprocessing', 'cv2', 'cv2.Error', 'cv2.cuda', 'cv2.detail', 'cv2.dnn', 'cv2.fisheye', 'cv2.flann', 'cv2.ipp', 'cv2.ml', 'cv2.ocl', 'cv2.ogl', 'cv2.samples', 'cv2.utils', 'cv2.videoio_registry', 'cv2.cv2', 'cv2.data', 'cv2.version', 'gym.wrappers.rescale_action', 'gym.wrappers.flatten_observation', 'gym.wrappers.gray_scale_observation', 'gym.wrappers.frame_stack', 'gym.wrappers.transform_observation', 'gym.wrappers.transform_reward', 'gym.wrappers.resize_observation', 'gym.wrappers.clip_action', 'gym.wrappers.record_episode_statistics', 'minerl.herobraine.hero', 'minerl.herobraine.hero.mc', 'minerl.herobraine.hero.spaces', 'minerl.herobraine.hero.agent_handler', 'xml.etree', 'xml.etree.ElementTree', 'xml.etree.ElementPath', '_elementtree', 'minerl.data.version', 'tqdm', 'tqdm.std', 'tqdm.utils', 'tqdm._monitor', 'tqdm.gui', 'tqdm._tqdm_pandas', 'tqdm.cli', 'tqdm._version', 'minerl.data.util', 'requests', 'urllib3', 'urllib3.connectionpool', 'urllib3.exceptions', 'urllib3.packages', 'urllib3.packages.ssl_match_hostname', 'urllib3.packages.six', 'urllib3.packages.six.moves', 'urllib3.packages.six.moves.http_client', 'urllib3.connection', 'urllib3.util', 'urllib3.util.connection', 'urllib3.util.wait', 'urllib3.contrib', 'urllib3.contrib._appengine_environ', 'urllib3.util.request', 'urllib3.util.response', 'urllib3.util.ssl_', 'urllib3.util.url', 'urllib3.util.timeout', 'urllib3.util.retry', 'urllib3._collections', 'urllib3.request', 'urllib3.filepost', 'urllib3.fields', 'urllib3.packages.six.moves.urllib', 'urllib3.packages.six.moves.urllib.parse', 'urllib3.response', 'urllib3.util.queue', 'urllib3.poolmanager', 'urllib3._version', 'chardet', 'chardet.compat', 'chardet.universaldetector', 'chardet.charsetgroupprober', 'chardet.enums', 'chardet.charsetprober', 'chardet.escprober', 'chardet.codingstatemachine', 'chardet.escsm', 'chardet.latin1prober', 'chardet.mbcsgroupprober', 'chardet.utf8prober', 'chardet.mbcssm', 'chardet.sjisprober', 'chardet.mbcharsetprober', 'chardet.chardistribution', 'chardet.euctwfreq', 'chardet.euckrfreq', 'chardet.gb2312freq', 'chardet.big5freq', 'chardet.jisfreq', 'chardet.jpcntx', 'chardet.eucjpprober', 'chardet.gb2312prober', 'chardet.euckrprober', 'chardet.cp949prober', 'chardet.big5prober', 'chardet.euctwprober', 'chardet.sbcsgroupprober', 'chardet.sbcharsetprober', 'chardet.langcyrillicmodel', 'chardet.langgreekmodel', 'chardet.langbulgarianmodel', 'chardet.langthaimodel', 'chardet.langhebrewmodel', 'chardet.hebrewprober', 'chardet.langturkishmodel', 'chardet.version', 'requests.exceptions', 'requests.__version__', 'requests.utils', 'zipfile', 'requests.certs', 'certifi', 'certifi.core', 'importlib.resources', 'requests._internal_utils', 'requests.compat', 'http.cookiejar', 'http.cookies', 'requests.cookies', 'requests.structures', 'requests.packages', 'requests.packages.urllib3', 'requests.packages.urllib3.connectionpool', 'requests.packages.urllib3.exceptions', 'requests.packages.urllib3.packages', 'requests.packages.urllib3.packages.ssl_match_hostname', 'requests.packages.urllib3.packages.six', 'requests.packages.urllib3.packages.six.moves', 'requests.packages.urllib3.packages.six.moves.http_client', 'requests.packages.urllib3.connection', 'requests.packages.urllib3.util', 'requests.packages.urllib3.util.connection', 'requests.packages.urllib3.util.wait', 'requests.packages.urllib3.contrib', 'requests.packages.urllib3.contrib._appengine_environ', 'requests.packages.urllib3.util.request', 'requests.packages.urllib3.util.response', 'requests.packages.urllib3.util.ssl_', 'requests.packages.urllib3.util.url', 'requests.packages.urllib3.util.timeout', 'requests.packages.urllib3.util.retry', 'requests.packages.urllib3._collections', 'requests.packages.urllib3.request', 'requests.packages.urllib3.filepost', 'requests.packages.urllib3.fields', 'requests.packages.urllib3.packages.six.moves.urllib', 'requests.packages.urllib3.packages.six.moves.urllib.parse', 'requests.packages.urllib3.response', 'requests.packages.urllib3.util.queue', 'requests.packages.urllib3.poolmanager', 'requests.packages.urllib3._version', 'idna', 'idna.package_data', 'idna.core', 'idna.idnadata', 'idna.intranges', 'requests.packages.idna', 'requests.packages.idna.package_data', 'requests.packages.idna.core', 'requests.packages.idna.idnadata', 'requests.packages.idna.intranges', 'requests.packages.chardet', 'requests.packages.chardet.compat', 'requests.packages.chardet.universaldetector', 'requests.packages.chardet.charsetgroupprober', 'requests.packages.chardet.enums', 'requests.packages.chardet.charsetprober', 'requests.packages.chardet.escprober', 'requests.packages.chardet.codingstatemachine', 'requests.packages.chardet.escsm', 'requests.packages.chardet.latin1prober', 'requests.packages.chardet.mbcsgroupprober', 'requests.packages.chardet.utf8prober', 'requests.packages.chardet.mbcssm', 'requests.packages.chardet.sjisprober', 'requests.packages.chardet.mbcharsetprober', 'requests.packages.chardet.chardistribution', 'requests.packages.chardet.euctwfreq', 'requests.packages.chardet.euckrfreq', 'requests.packages.chardet.gb2312freq', 'requests.packages.chardet.big5freq', 'requests.packages.chardet.jisfreq', 'requests.packages.chardet.jpcntx', 'requests.packages.chardet.eucjpprober', 'requests.packages.chardet.gb2312prober', 'requests.packages.chardet.euckrprober', 'requests.packages.chardet.cp949prober', 'requests.packages.chardet.big5prober', 'requests.packages.chardet.euctwprober', 'requests.packages.chardet.sbcsgroupprober', 'requests.packages.chardet.sbcharsetprober', 'requests.packages.chardet.langcyrillicmodel', 'requests.packages.chardet.langgreekmodel', 'requests.packages.chardet.langbulgarianmodel', 'requests.packages.chardet.langthaimodel', 'requests.packages.chardet.langhebrewmodel', 'requests.packages.chardet.hebrewprober', 'requests.packages.chardet.langturkishmodel', 'requests.packages.chardet.version', 'requests.models', 'encodings.idna', 'stringprep', 'requests.hooks', 'requests.auth', 'requests.status_codes', 'requests.api', 'requests.sessions', 'requests.adapters', 'minerl.data.util.blacklist', 'minerl.data.util.constants', 'concurrent.futures.process', 'multiprocessing.connection', '_multiprocessing', 'multiprocessing.util', 'multiprocessing.queues', 'minerl.data.download', 'tarfile', 'coloredlogs', 'humanfriendly', 'humanfriendly.compat', 'unittest', 'unittest.result', 'unittest.util', 'unittest.case', 'unittest.suite', 'unittest.loader', 'unittest.main', 'unittest.runner', 'unittest.signals', 'html.parser', '_markupbase', 'humanfriendly.deprecation', 'humanfriendly.text', 'humanfriendly.terminal', 'humanfriendly.decorators', 'humanfriendly.usage', 'csv', '_csv', 'minerl.env', 'minerl.env.core', 'lxml', 'lxml.etree', 'lxml._elementpath', 'gzip', 'minerl.env.comms', 'Pyro4', 'Pyro4.constants', 'Pyro4.configuration', 'dill', 'dill.info', 'dill._dill', '_pyio', 'dill.settings', 'dill.source', 'dill.temp', 'dill.detect', 'dill.pointers', 'dill.objtypes', 'Pyro4.core', 'Pyro4.errors', 'Pyro4.socketutil', 'Pyro4.util', 'cloudpickle', 'cloudpickle.cloudpickle', 'cloudpickle.compat', 'typing_extensions', 'cloudpickle.cloudpickle_fast', 'serpent', 'Pyro4.message', 'Pyro4.futures', 'minerl.env.malmo', 'psutil', 'psutil._common', 'psutil._compat', 'psutil._psosx', 'psutil._psposix', 'psutil._psutil_osx', 'psutil._psutil_posix', 'minerl.herobraine.wrapper', 'minerl.env.recording', 'minerl.herobraine.envs', 'minerl.herobraine.env_specs', 'minerl.herobraine.env_specs.treechop_specs', 'minerl.herobraine.hero.handlers', 'minerl.herobraine.hero.handlers.actionable', 'minerl.herobraine.hero.handlers.mission', 'minerl.herobraine.hero.handlers.observables', 'minerl.herobraine.hero.handlers.rewardables', 'minerl.herobraine.env_specs.simple_env_spec', 'minerl.herobraine.env_specs.navigate_specs', 'minerl.herobraine.env_specs.obtain_specs', 'minerl.herobraine.wrappers', 'minerl.herobraine.wrappers.obfuscation_wrapper', 'minerl.herobraine.wrappers.vector_wrapper', 'minerl.herobraine.wrappers.util', 'encodings.cp437', 'multiprocessing.popen_fork', 'matplotlib', 'matplotlib.cbook', 'matplotlib.cbook.deprecation', 'matplotlib.rcsetup', 'matplotlib.fontconfig_pattern', 'pyparsing', 'matplotlib.colors', 'matplotlib._color_data', 'cycler', 'matplotlib._version']\n"
     ]
    },
    {
     "name": "stderr",
     "output_type": "stream",
     "text": [
      "DEBUG:matplotlib:CACHEDIR=/Users/maxrudolph/.matplotlib\n",
      "DEBUG:matplotlib.font_manager:Using fontManager instance from /Users/maxrudolph/.matplotlib/fontlist-v300.json\n",
      "DEBUG:matplotlib.pyplot:Loaded backend module://ipykernel.pylab.backend_inline version unknown.\n",
      "DEBUG:matplotlib.pyplot:Loaded backend module://ipykernel.pylab.backend_inline version unknown.\n"
     ]
    }
   ],
   "source": [
    "import gym\n",
    "import math\n",
    "import minerl\n",
    "import random\n",
    "import logging\n",
    "import numpy as np\n",
    "import matplotlib\n",
    "import matplotlib.pyplot as plt\n",
    "from collections import namedtuple\n",
    "from itertools import count\n",
    "from PIL import Image\n",
    "\n",
    "import torch\n",
    "import torch.nn as nn\n",
    "import torch.optim as optim\n",
    "import torch.nn.functional as F\n",
    "import torchvision.transforms as T\n",
    "\n",
    "# set up matplotlib\n",
    "is_ipython = 'inline' in matplotlib.get_backend()\n",
    "if is_ipython:\n",
    "    from IPython import display\n",
    "\n",
    "plt.ion()"
   ]
  },
  {
   "cell_type": "code",
   "execution_count": 3,
   "metadata": {
    "id": "X485yq-m4wK-"
   },
   "outputs": [],
   "source": [
    "Transition = namedtuple('Transition',\n",
    "                        ('state', 'action', 'next_state', 'reward'))\n",
    "\n",
    "\n",
    "class ReplayMemory(object):\n",
    "\n",
    "    def __init__(self, capacity):\n",
    "        self.capacity = capacity\n",
    "        self.memory = []\n",
    "        self.position = 0\n",
    "\n",
    "    def push(self, *args):\n",
    "        \"\"\"Saves a transition.\"\"\"\n",
    "        if len(self.memory) < self.capacity:\n",
    "            self.memory.append(None)\n",
    "        self.memory[self.position] = Transition(*args)\n",
    "        self.position = (self.position + 1) % self.capacity\n",
    "\n",
    "    def sample(self, batch_size):\n",
    "        return random.sample(self.memory, batch_size)\n",
    "\n",
    "    def __len__(self):\n",
    "        return len(self.memory)"
   ]
  },
  {
   "cell_type": "code",
   "execution_count": null,
   "metadata": {
    "id": "lx0-PsMW5DUB"
   },
   "outputs": [],
   "source": [
    "class DQN(nn.Module):\n",
    "\n",
    "    def __init__(self, h, w, outputs):\n",
    "        super(DQN, self).__init__()\n",
    "        self.conv1 = nn.Conv2d(3, 16, kernel_size=5, stride=2)\n",
    "        self.bn1 = nn.BatchNorm2d(16)\n",
    "        self.conv2 = nn.Conv2d(16, 32, kernel_size=5, stride=2)\n",
    "        self.bn2 = nn.BatchNorm2d(32)\n",
    "        self.conv3 = nn.Conv2d(32, 32, kernel_size=5, stride=2)\n",
    "        self.bn3 = nn.BatchNorm2d(32)\n",
    "\n",
    "        # Number of Linear input connections depends on output of conv2d layers\n",
    "        # and therefore the input image size, so compute it.\n",
    "        def conv2d_size_out(size, kernel_size = 5, stride = 2):\n",
    "            return (size - (kernel_size - 1) - 1) // stride  + 1\n",
    "        convw = conv2d_size_out(conv2d_size_out(conv2d_size_out(w)))\n",
    "        convh = conv2d_size_out(conv2d_size_out(conv2d_size_out(h)))\n",
    "        linear_input_size = convw * convh * 32\n",
    "        self.head = nn.Linear(linear_input_size, outputs)\n",
    "\n",
    "    # Called with either one element to determine next action, or a batch\n",
    "    # during optimization. Returns tensor([[left0exp,right0exp]...]).\n",
    "    def forward(self, x):\n",
    "        x = F.relu(self.bn1(self.conv1(x)))\n",
    "        x = F.relu(self.bn2(self.conv2(x)))\n",
    "        x = F.relu(self.bn3(self.conv3(x)))\n",
    "        return self.head(x.view(x.size(0), -1))"
   ]
  },
  {
   "cell_type": "code",
   "execution_count": null,
   "metadata": {
    "colab": {
     "base_uri": "https://localhost:8080/",
     "height": 50
    },
    "id": "UxiOnz5A9zsB",
    "outputId": "b0d7fd74-c7ea-4e3c-c8db-382f2da22958"
   },
   "outputs": [
    {
     "data": {
      "text/plain": [
       "<Figure size 432x288 with 0 Axes>"
      ]
     },
     "metadata": {
      "tags": []
     },
     "output_type": "display_data"
    },
    {
     "data": {
      "text/plain": [
       "<Figure size 432x288 with 0 Axes>"
      ]
     },
     "metadata": {
      "tags": []
     },
     "output_type": "display_data"
    }
   ],
   "source": [
    "device = torch.device(\"cuda\" if torch.cuda.is_available() else \"cpu\")\n",
    "\n",
    "%env DISPLAY=:99\n",
    "logging.basicConfig(level=logging.DEBUG)\n",
    "env = gym.make('MineRLNavigateDense-v0')\n",
    "\n",
    "\n",
    "BATCH_SIZE = 128\n",
    "GAMMA = 0.999\n",
    "EPS_START = 0.9\n",
    "EPS_END = 0.05\n",
    "EPS_DECAY = 200\n",
    "TARGET_UPDATE = 10\n",
    "\n",
    "# Get screen size so that we can initialize layers correctly based on shape\n",
    "# returned from AI gym. Typical dimensions at this point are close to 3x40x90\n",
    "# which is the result of a clamped and down-scaled render buffer in get_screen()\n",
    "obs  = env.reset()\n",
    "\n",
    "H,W,C = obs['pov'].shape\n",
    "\n",
    "n_actions = 3\n",
    "\n",
    "policy_net = DQN(H, W, n_actions).to(device)\n",
    "target_net = DQN(H, W, n_actions).to(device)\n",
    "target_net.load_state_dict(policy_net.state_dict())\n",
    "target_net.eval()\n",
    "\n",
    "optimizer = optim.RMSprop(policy_net.parameters())\n",
    "memory = ReplayMemory(10000)\n",
    "\n",
    "steps_done = 0\n",
    "\n",
    "def converter(observation):\n",
    "    region_size = 8\n",
    "    obs = observation['pov']\n",
    "    obs = obs / 25\n",
    "    H,W,C = obs.shape\n",
    "    state = torch.from_numpy(obs).float().to(device)\n",
    "    if len(state.shape) < 4:\n",
    "            state = torch.unsqueeze(state, 0)\n",
    "    state = state.reshape((-1,C,H,W))\n",
    "    return state\n",
    "\n",
    "def select_action(state):\n",
    "    global steps_done\n",
    "    sample = random.random()\n",
    "    eps_threshold = EPS_END + (EPS_START - EPS_END) * \\\n",
    "        math.exp(-1. * steps_done / EPS_DECAY)\n",
    "    steps_done += 1\n",
    "    action = env.action_space.noop()\n",
    "    if sample > eps_threshold:\n",
    "        with torch.no_grad():\n",
    "            # t.max(1) will return largest column value of each row.\n",
    "            # second column on max result is index of where max element was\n",
    "            # found, so we pick action with the larger expected reward.\n",
    "            action_index = policy_net(state).max(1)[1].view(1, 1)\n",
    "    else:\n",
    "        action_index=torch.tensor([[random.randrange(n_actions)]], device=device, dtype=torch.long)\n",
    "    if (action_index == 0):\n",
    "      action['camera'] = [0, -5]\n",
    "    elif (action_index == 1):\n",
    "      action['camera'] = [0, 5]\n",
    "    elif (action_index == 2):\n",
    "      action['forward'] = 1\n",
    "\n",
    "    action['jump'] = 1\n",
    "    action['attack'] = 1\n",
    "    return action, action_index\n",
    "\n",
    "episode_durations = []\n",
    "\n",
    "\n",
    "def plot_durations():\n",
    "    plt.figure(2)\n",
    "    plt.clf()\n",
    "    durations_t = torch.tensor(episode_durations, dtype=torch.float)\n",
    "    plt.title('Training...')\n",
    "    plt.xlabel('Episode')\n",
    "    plt.ylabel('Duration')\n",
    "    plt.plot(durations_t.numpy())\n",
    "    # Take 100 episode averages and plot them too\n",
    "    if len(durations_t) >= 100:\n",
    "        means = durations_t.unfold(0, 100, 1).mean(1).view(-1)\n",
    "        means = torch.cat((torch.zeros(99), means))\n",
    "        plt.plot(means.numpy())\n",
    "\n",
    "    plt.pause(0.001)  # pause a bit so that plots are updated\n",
    "    if is_ipython:\n",
    "        display.clear_output(wait=True)\n",
    "        display.display(plt.gcf())\n",
    "\n",
    "def optimize_model():\n",
    "    if len(memory) < BATCH_SIZE:\n",
    "        return\n",
    "    transitions = memory.sample(BATCH_SIZE)\n",
    "\n",
    "    # Transpose the batch (see https://stackoverflow.com/a/19343/3343043 for\n",
    "    # detailed explanation). This converts batch-array of Transitions\n",
    "    # to Transition of batch-arrays.\n",
    "    batch = Transition(*zip(*transitions))\n",
    "\n",
    "    # Compute a mask of non-final states and concatenate the batch elements\n",
    "    # (a final state would've been the one after which simulation ended)\n",
    "    non_final_mask = torch.tensor(tuple(map(lambda s: s is not None,\n",
    "                                          batch.next_state)), device=device, dtype=torch.bool)\n",
    "    non_final_next_states = torch.cat([s for s in batch.next_state\n",
    "                                                if s is not None])\n",
    "    state_batch = torch.cat(batch.state)\n",
    "    action_batch = torch.cat(batch.action)\n",
    "    reward_batch = torch.cat(batch.reward)\n",
    "\n",
    "    # Compute Q(s_t, a) - the model computes Q(s_t), then we select the\n",
    "    # columns of actions taken. These are the actions which would've been taken\n",
    "    # for each batch state according to policy_net\n",
    "    state_action_values = policy_net(state_batch).gather(1, action_batch)\n",
    "\n",
    "    # Compute V(s_{t+1}) for all next states.\n",
    "    # Expected values of actions for non_final_next_states are computed based\n",
    "    # on the \"older\" target_net; selecting their best reward with max(1)[0].\n",
    "    # This is merged based on the mask, such that we'll have either the expected\n",
    "    # state value or 0 in case the state was final.\n",
    "    next_state_values = torch.zeros(BATCH_SIZE, device=device)\n",
    "    next_state_values[non_final_mask] = target_net(non_final_next_states).max(1)[0].detach()\n",
    "    # Compute the expected Q values\n",
    "    expected_state_action_values = (next_state_values * GAMMA) + reward_batch\n",
    "\n",
    "    # Compute Huber loss\n",
    "    loss = F.smooth_l1_loss(state_action_values, expected_state_action_values.unsqueeze(1))\n",
    "\n",
    "    # Optimize the model\n",
    "    optimizer.zero_grad()\n",
    "    loss.backward()\n",
    "    for param in policy_net.parameters():\n",
    "        param.grad.data.clamp_(-1, 1)\n",
    "    optimizer.step()\n",
    "\n",
    "num_episodes = 50\n",
    "for i_episode in range(num_episodes):\n",
    "    # Initialize the environment and state\n",
    "    state = converter(obs)\n",
    "    for t in count():\n",
    "        # Select and perform an action\n",
    "        action, action_index = select_action(state)\n",
    "        obs, reward, done, _ = env.step(action)\n",
    "        reward = torch.tensor([reward], device=device)\n",
    "\n",
    "        # Observe new state\n",
    "        next_state = converter(obs)\n",
    "\n",
    "        # Store the transition in memory\n",
    "        memory.push(state, action_index, next_state, reward)\n",
    "\n",
    "        # Move to the next state\n",
    "        state = next_state\n",
    "\n",
    "        # Perform one step of the optimization (on the target network)\n",
    "        optimize_model()\n",
    "        if done:\n",
    "            episode_durations.append(t + 1)\n",
    "            plot_durations()\n",
    "            break\n",
    "    # Update the target network, copying all weights and biases in DQN\n",
    "    if i_episode % TARGET_UPDATE == 0:\n",
    "        target_net.load_state_dict(policy_net.state_dict())"
   ]
  }
 ],
 "metadata": {
  "accelerator": "GPU",
  "colab": {
   "collapsed_sections": [],
   "name": "Copy of minerl.ipynb",
   "provenance": [],
   "toc_visible": true
  },
  "kernelspec": {
   "display_name": "Python 3",
   "language": "python",
   "name": "python3"
  },
  "language_info": {
   "codemirror_mode": {
    "name": "ipython",
    "version": 3
   },
   "file_extension": ".py",
   "mimetype": "text/x-python",
   "name": "python",
   "nbconvert_exporter": "python",
   "pygments_lexer": "ipython3",
   "version": "3.7.9"
  }
 },
 "nbformat": 4,
 "nbformat_minor": 1
}
